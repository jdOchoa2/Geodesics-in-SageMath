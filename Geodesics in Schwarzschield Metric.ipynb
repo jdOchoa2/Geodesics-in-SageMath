{
 "cells": [
  {
   "cell_type": "code",
   "execution_count": 1,
   "id": "34d8ffa2",
   "metadata": {},
   "outputs": [],
   "source": [
    "%display latex"
   ]
  },
  {
   "cell_type": "code",
   "execution_count": 2,
   "id": "d1c9db56",
   "metadata": {},
   "outputs": [],
   "source": [
    "#Mainfold creation\n",
    "Mfold = Manifold(4,'Mfold',structure='Lorentzian')\n",
    "#Spherical Coordinate System\n",
    "X.<t,r,th,ph> = Mfold.chart(r\"t r:(0,+oo) th:(0,pi):\\theta ph:(0,2*pi):\\phi\")"
   ]
  },
  {
   "cell_type": "code",
   "execution_count": 3,
   "id": "49b2df8e",
   "metadata": {},
   "outputs": [],
   "source": [
    "#Mass and proper time definition\n",
    "M = var('M')\n",
    "tau = var('tau', latex_name=r\"\\tau\")\n",
    "assume(M>=0)"
   ]
  },
  {
   "cell_type": "code",
   "execution_count": 4,
   "id": "ecc56beb",
   "metadata": {},
   "outputs": [],
   "source": [
    "g = Mfold.metric()\n",
    "g[0,0] = -1\n",
    "g[1,1] = 1\n",
    "g[2,2] = r^2\n",
    "g[3,3] = (r*sin(th))^2"
   ]
  },
  {
   "cell_type": "code",
   "execution_count": 5,
   "id": "6d5dd886",
   "metadata": {},
   "outputs": [
    {
     "data": {
      "text/html": [
       "<html>\\[\\newcommand{\\Bold}[1]{\\mathbf{#1}}\\left(\\begin{array}{rrrr}\n",
       "-1 & 0 & 0 & 0 \\\\\n",
       "0 & 1 & 0 & 0 \\\\\n",
       "0 & 0 & r^{2} & 0 \\\\\n",
       "0 & 0 & 0 & r^{2} \\sin\\left({\\theta}\\right)^{2}\n",
       "\\end{array}\\right)\\]</html>"
      ],
      "text/latex": [
       "$$\\newcommand{\\Bold}[1]{\\mathbf{#1}}\\left(\\begin{array}{rrrr}\n",
       "-1 & 0 & 0 & 0 \\\\\n",
       "0 & 1 & 0 & 0 \\\\\n",
       "0 & 0 & r^{2} & 0 \\\\\n",
       "0 & 0 & 0 & r^{2} \\sin\\left({\\theta}\\right)^{2}\n",
       "\\end{array}\\right)$$"
      ],
      "text/plain": [
       "[           -1             0             0             0]\n",
       "[            0             1             0             0]\n",
       "[            0             0           r^2             0]\n",
       "[            0             0             0 r^2*sin(th)^2]"
      ]
     },
     "execution_count": 5,
     "metadata": {},
     "output_type": "execute_result"
    }
   ],
   "source": [
    "g[:]"
   ]
  },
  {
   "cell_type": "code",
   "execution_count": 6,
   "id": "a9162991",
   "metadata": {},
   "outputs": [
    {
     "data": {
      "text/html": [
       "<html>\\[\\newcommand{\\Bold}[1]{\\mathbf{#1}}\\begin{array}{lcl} \\Gamma_{ \\phantom{\\, r} \\, {\\theta} \\, {\\theta} }^{ \\, r \\phantom{\\, {\\theta}} \\phantom{\\, {\\theta}} } & = & -r \\\\ \\Gamma_{ \\phantom{\\, r} \\, {\\phi} \\, {\\phi} }^{ \\, r \\phantom{\\, {\\phi}} \\phantom{\\, {\\phi}} } & = & -r \\sin\\left({\\theta}\\right)^{2} \\\\ \\Gamma_{ \\phantom{\\, {\\theta}} \\, r \\, {\\theta} }^{ \\, {\\theta} \\phantom{\\, r} \\phantom{\\, {\\theta}} } & = & \\frac{1}{r} \\\\ \\Gamma_{ \\phantom{\\, {\\theta}} \\, {\\phi} \\, {\\phi} }^{ \\, {\\theta} \\phantom{\\, {\\phi}} \\phantom{\\, {\\phi}} } & = & -\\cos\\left({\\theta}\\right) \\sin\\left({\\theta}\\right) \\\\ \\Gamma_{ \\phantom{\\, {\\phi}} \\, r \\, {\\phi} }^{ \\, {\\phi} \\phantom{\\, r} \\phantom{\\, {\\phi}} } & = & \\frac{1}{r} \\\\ \\Gamma_{ \\phantom{\\, {\\phi}} \\, {\\theta} \\, {\\phi} }^{ \\, {\\phi} \\phantom{\\, {\\theta}} \\phantom{\\, {\\phi}} } & = & \\frac{\\cos\\left({\\theta}\\right)}{\\sin\\left({\\theta}\\right)} \\end{array}\\]</html>"
      ],
      "text/latex": [
       "$$\\newcommand{\\Bold}[1]{\\mathbf{#1}}\\begin{array}{lcl} \\Gamma_{ \\phantom{\\, r} \\, {\\theta} \\, {\\theta} }^{ \\, r \\phantom{\\, {\\theta}} \\phantom{\\, {\\theta}} } & = & -r \\\\ \\Gamma_{ \\phantom{\\, r} \\, {\\phi} \\, {\\phi} }^{ \\, r \\phantom{\\, {\\phi}} \\phantom{\\, {\\phi}} } & = & -r \\sin\\left({\\theta}\\right)^{2} \\\\ \\Gamma_{ \\phantom{\\, {\\theta}} \\, r \\, {\\theta} }^{ \\, {\\theta} \\phantom{\\, r} \\phantom{\\, {\\theta}} } & = & \\frac{1}{r} \\\\ \\Gamma_{ \\phantom{\\, {\\theta}} \\, {\\phi} \\, {\\phi} }^{ \\, {\\theta} \\phantom{\\, {\\phi}} \\phantom{\\, {\\phi}} } & = & -\\cos\\left({\\theta}\\right) \\sin\\left({\\theta}\\right) \\\\ \\Gamma_{ \\phantom{\\, {\\phi}} \\, r \\, {\\phi} }^{ \\, {\\phi} \\phantom{\\, r} \\phantom{\\, {\\phi}} } & = & \\frac{1}{r} \\\\ \\Gamma_{ \\phantom{\\, {\\phi}} \\, {\\theta} \\, {\\phi} }^{ \\, {\\phi} \\phantom{\\, {\\theta}} \\phantom{\\, {\\phi}} } & = & \\frac{\\cos\\left({\\theta}\\right)}{\\sin\\left({\\theta}\\right)} \\end{array}$$"
      ],
      "text/plain": [
       "Gam^r_th,th = -r \n",
       "Gam^r_ph,ph = -r*sin(th)^2 \n",
       "Gam^th_r,th = 1/r \n",
       "Gam^th_ph,ph = -cos(th)*sin(th) \n",
       "Gam^ph_r,ph = 1/r \n",
       "Gam^ph_th,ph = cos(th)/sin(th) "
      ]
     },
     "execution_count": 6,
     "metadata": {},
     "output_type": "execute_result"
    }
   ],
   "source": [
    "gamma = g.connection()\n",
    "gamma.display()\n",
    "gamma.display(only_nonredundant=True)"
   ]
  },
  {
   "cell_type": "markdown",
   "id": "e1107afc",
   "metadata": {},
   "source": [
    "## Known Spherically Symmetric Metrics\n",
    "General form of a static spherically symmetric metric:\n",
    "\\begin{equation}\n",
    "    ds^2 = - F(r)dt^2 + \\frac{dr^2}{F(r)} + r^2d\\theta^2 + r^2\\sin^2(\\theta)d\\phi^2 \n",
    "\\end{equation}"
   ]
  },
  {
   "cell_type": "markdown",
   "id": "3c4afff2",
   "metadata": {},
   "source": [
    "##### Schwarzschield\n",
    "\\begin{equation}\n",
    "    F(r) = 1 - \\frac{2m}{r}\n",
    "\\end{equation}"
   ]
  },
  {
   "cell_type": "code",
   "execution_count": 7,
   "id": "7ac22e53",
   "metadata": {},
   "outputs": [],
   "source": [
    "S(r) = 1-2*M/r \n",
    "g = Mfold.metric()\n",
    "g[0,0] = -S\n",
    "g[1,1] = 1/S\n",
    "g[2,2] = r^2\n",
    "g[3,3] = (r*sin(th))^2"
   ]
  },
  {
   "cell_type": "code",
   "execution_count": 8,
   "id": "0517acf3",
   "metadata": {},
   "outputs": [
    {
     "data": {
      "text/html": [
       "<html>\\[\\newcommand{\\Bold}[1]{\\mathbf{#1}}\\begin{array}{llcl} \\mathrm{r}\\left(g\\right):& Mfold & \\longrightarrow & \\mathbb{R} \\\\ & \\left(t, r, {\\theta}, {\\phi}\\right) & \\longmapsto & 0 \\end{array}\\]</html>"
      ],
      "text/latex": [
       "$$\\newcommand{\\Bold}[1]{\\mathbf{#1}}\\begin{array}{llcl} \\mathrm{r}\\left(g\\right):& Mfold & \\longrightarrow & \\mathbb{R} \\\\ & \\left(t, r, {\\theta}, {\\phi}\\right) & \\longmapsto & 0 \\end{array}$$"
      ],
      "text/plain": [
       "r(g): Mfold → ℝ\n",
       "   (t, r, th, ph) ↦ 0"
      ]
     },
     "execution_count": 8,
     "metadata": {},
     "output_type": "execute_result"
    }
   ],
   "source": [
    "ricci2 = g.ricci_scalar()\n",
    "ricci2.display()"
   ]
  },
  {
   "cell_type": "markdown",
   "id": "a3ffe6d0",
   "metadata": {},
   "source": [
    "##### Hayward\n",
    "\\begin{equation}\n",
    "    F(r) = 1 - \\frac{2mr^2}{r^3+2l^2m}\n",
    "\\end{equation}"
   ]
  },
  {
   "cell_type": "markdown",
   "id": "1a26b8a3",
   "metadata": {},
   "source": [
    "l = var(\"l\")  #Energy Density at the center\n",
    "H(r) = 1 - (2*M*r**2)/(r**3+2*l**2*M)\n",
    "g = Mfold.metric()\n",
    "g[0,0] = -H.subs(l=1)\n",
    "g[1,1] = 1/H.subs(l=1)\n",
    "g[2,2] = r^2\n",
    "g[3,3] = (r*sin(th))^2"
   ]
  },
  {
   "cell_type": "markdown",
   "id": "663a575c",
   "metadata": {},
   "source": [
    "##### Bardeen\n",
    "\\begin{equation}\n",
    "    F(r) = 1 - \\frac{2mr^2}{(r^2+q^2)^{3/2}}\n",
    "\\end{equation}"
   ]
  },
  {
   "cell_type": "markdown",
   "id": "928595cf",
   "metadata": {},
   "source": [
    "o = var('o') #Magnetic charge\n",
    "B(r) = 1 - (2*M*r**2)/sqrt(r**2+o**2)**(3)\n",
    "g = Mfold.metric()\n",
    "g[0,0] = -B.subs(o=1)\n",
    "g[1,1] = 1/B.subs(o=1)\n",
    "g[2,2] = r**2\n",
    "g[3,3] = (r*sin(th))**2"
   ]
  },
  {
   "cell_type": "markdown",
   "id": "031547e6",
   "metadata": {},
   "source": [
    "## EDO system"
   ]
  },
  {
   "cell_type": "code",
   "execution_count": 9,
   "id": "25c3aef1",
   "metadata": {},
   "outputs": [],
   "source": [
    "#Partial derivatives\n",
    "u0 = var('u0', latex_name=r\"u^0\")\n",
    "u1 = var('u1', latex_name=r\"u^1\")\n",
    "u2 = var('u2', latex_name=r\"u^2\")\n",
    "u3 = var('u3', latex_name=r\"u^3\")\n",
    "u=[u0,u1,0,u3]\n",
    "#Connections in Equatorial motion\n",
    "gamma = g.connection()"
   ]
  },
  {
   "cell_type": "markdown",
   "id": "ea14b7d1",
   "metadata": {},
   "source": [
    "En el plano ecuatorial ($\\theta=\\pi/2$), $M=1$:"
   ]
  },
  {
   "cell_type": "code",
   "execution_count": 10,
   "id": "638804ea",
   "metadata": {},
   "outputs": [],
   "source": [
    "#4-velocity\n",
    "dU=[0,0,0,0]\n",
    "for i in range(4):\n",
    "    for j in range(4):\n",
    "        for k in range(4):\n",
    "            dU[k]-=gamma[k,i,j].expr().subs(th=pi/2, M=1)*u[i]*u[j]"
   ]
  },
  {
   "cell_type": "code",
   "execution_count": 11,
   "id": "8a4adc3a",
   "metadata": {},
   "outputs": [
    {
     "data": {
      "text/html": [
       "<html>\\[\\newcommand{\\Bold}[1]{\\mathbf{#1}}\\frac{d\\phi(\\tau)}{d\\tau} = {u^3}\\]</html>"
      ],
      "text/latex": [
       "$$\\newcommand{\\Bold}[1]{\\mathbf{#1}}\\frac{d\\phi(\\tau)}{d\\tau} = {u^3}$$"
      ],
      "text/plain": [
       "\\frac{d\\phi(\\tau)}{d\\tau} = {u^3}"
      ]
     },
     "execution_count": 11,
     "metadata": {},
     "output_type": "execute_result"
    }
   ],
   "source": [
    "from IPython.core.interactiveshell import InteractiveShell\n",
    "InteractiveShell.ast_node_interactivity = \"all\"\n",
    "\n",
    "#Equations system \n",
    "\n",
    "LatexExpr(r\"\\frac{du^0(\\tau)}{d\\tau} =\") + latex(dU[0]) \n",
    "LatexExpr(r\"\\frac{dt(\\tau)}{d\\tau} =\") + latex(u0)\n",
    "LatexExpr(r\"\\frac{du^1(\\tau)}{d\\tau} =\") + latex(dU[1])\n",
    "LatexExpr(r\"\\frac{dr(\\tau)}{d\\tau} =\") + latex(u1)\n",
    "LatexExpr(r\"\\frac{du^2(\\tau)}{d\\tau} =\") + latex(dU[2]) \n",
    "LatexExpr(r\"\\frac{d\\theta(\\tau)}{d\\tau} =\") + latex(u2)\n",
    "LatexExpr(r\"\\frac{du^3(\\tau)}{d\\tau} =\") + latex(dU[3])\n",
    "LatexExpr(r\"\\frac{d\\phi(\\tau)}{d\\tau} =\") + latex(u3)"
   ]
  },
  {
   "cell_type": "markdown",
   "id": "993ede03",
   "metadata": {},
   "source": [
    "The initial condition for $u^0$ comes from:\n",
    "\\begin{align}\n",
    "    -1&=u^{\\mu}u_{\\mu}\\\\\n",
    "    &=g_{\\mu\\nu}u^{\\mu}u^{\\nu}\\\\\n",
    "    &=g_{00}\\left(\\frac{\\partial t}{\\partial\\tau}\\right)^2+g_{11}d\\left(\\frac{\\partial r}{\\partial\\tau}\\right)^2+g_{22}\\left(\\frac{\\partial\\theta}{\\partial\\tau}\\right)^2+g_{33}\\left(\\frac{\\partial\\phi}{\\partial\\tau}\\right)^2\n",
    "\\end{align}"
   ]
  },
  {
   "cell_type": "code",
   "execution_count": 12,
   "id": "395c3967",
   "metadata": {},
   "outputs": [],
   "source": [
    "#Initial Conditions\n",
    "#Position\n",
    "x0i = 0.\n",
    "x1i = 6.\n",
    "x2i = pi/2\n",
    "x3i = 0.\n",
    "#Velocity\n",
    "u0i = -sqrt(8/9)/(g[0,0].expr().subs(r=6.,M=1.))\n",
    "u1i = 0.\n",
    "u2i = 0.\n",
    "u3i = (sqrt(12))/(g[3,3].expr().subs(r=6.,th=pi/2))\n",
    "\n",
    "q0 = [x0i, x1i, x3i, u0i, u1i, u3i]"
   ]
  },
  {
   "cell_type": "code",
   "execution_count": 13,
   "id": "b9e0585c",
   "metadata": {},
   "outputs": [],
   "source": [
    "#EDO system\n",
    "f = [u0,u1,u3,dU[0],dU[1],dU[3]]\n",
    "q = [t,r,ph,u0,u1,u3]\n",
    "tau_i = 0.\n",
    "tau_f = 10000.\n",
    "tau_range =  srange(tau_i,tau_f,0.005)"
   ]
  },
  {
   "cell_type": "code",
   "execution_count": 14,
   "id": "bf7c1650",
   "metadata": {},
   "outputs": [],
   "source": [
    "#Integration\n",
    "sol = desolve_odeint(f, q0, tau_range, q)"
   ]
  },
  {
   "cell_type": "code",
   "execution_count": 15,
   "id": "4183a185",
   "metadata": {},
   "outputs": [],
   "source": [
    "#Cartesian Coordinates\n",
    "x = [sol[a][1]*cos(sol[a][2]) for a in range(len(sol))]\n",
    "y = [sol[a][1]*sin(sol[a][2]) for a in range(len(sol))]"
   ]
  },
  {
   "cell_type": "markdown",
   "id": "3d4ac537",
   "metadata": {},
   "source": [
    "##### Schwarzschield"
   ]
  },
  {
   "cell_type": "code",
   "execution_count": 16,
   "id": "ccd297a7",
   "metadata": {
    "scrolled": true
   },
   "outputs": [
    {
     "data": {
      "image/png": "[encoded data removed]",
      "text/plain": [
       "Graphics object consisting of 2 graphics primitives"
      ]
     },
     "execution_count": 16,
     "metadata": {},
     "output_type": "execute_result"
    }
   ],
   "source": [
    "#Graph\n",
    "BH = circle((0,0), 2, fill = True, rgbcolor='black')\n",
    "Geo = list_plot(list(zip(x, y)),plotjoined=True, color='purple')\n",
    "BH+Geo"
   ]
  },
  {
   "cell_type": "markdown",
   "id": "6e7f87b5",
   "metadata": {},
   "source": [
    "### Conserved quantities"
   ]
  },
  {
   "cell_type": "markdown",
   "id": "9166d96f",
   "metadata": {},
   "source": [
    "#### Energy (per unit mass)\n",
    "\\begin{equation}\n",
    "    E = -g_{00}\\dot x^0\n",
    "\\end{equation}"
   ]
  },
  {
   "cell_type": "code",
   "execution_count": 17,
   "id": "9c72b54b",
   "metadata": {
    "scrolled": true
   },
   "outputs": [
    {
     "data": {
      "image/png": "[encoded data removed]",
      "text/plain": [
       "Graphics object consisting of 1 graphics primitive"
      ]
     },
     "execution_count": 17,
     "metadata": {},
     "output_type": "execute_result"
    }
   ],
   "source": [
    "Energy = [-g[0,0].expr().subs(r=sol[a][1],M=1.)*sol[a][3] for a in range(len(sol))]\n",
    "Energy_plot = list_plot(list(zip(tau_range, Energy)),plotjoined=True, color='purple')\n",
    "Energy_plot"
   ]
  },
  {
   "cell_type": "markdown",
   "id": "888e9286",
   "metadata": {},
   "source": [
    "#### Angular Momentum\n",
    "\\begin{equation}\n",
    "    l = g_{33}\\dot x^3\n",
    "\\end{equation}"
   ]
  },
  {
   "cell_type": "code",
   "execution_count": 18,
   "id": "0489a1fc",
   "metadata": {
    "scrolled": true
   },
   "outputs": [
    {
     "data": {
      "image/png": "[encoded data removed]",
      "text/plain": [
       "Graphics object consisting of 1 graphics primitive"
      ]
     },
     "execution_count": 18,
     "metadata": {},
     "output_type": "execute_result"
    }
   ],
   "source": [
    "Angular_Momemtum = [g[3,3].expr().subs(r=sol[a][1],M=1.,th=pi/2)*sol[a][5] for a in range(len(sol))]\n",
    "AM_plot = list_plot(list(zip(tau_range, Angular_Momemtum)),plotjoined=True, color='green')\n",
    "AM_plot"
   ]
  },
  {
   "cell_type": "markdown",
   "id": "89a3644b",
   "metadata": {},
   "source": [
    "# Hamiltonian Approach"
   ]
  },
  {
   "cell_type": "code",
   "execution_count": 19,
   "id": "b4d88e66",
   "metadata": {},
   "outputs": [
    {
     "data": {
      "text/html": [
       "<html>\\[\\newcommand{\\Bold}[1]{\\mathbf{#1}}\\frac{1}{2} \\, {\\epsilon}^{2} {\\left(\\frac{1}{2 \\, M - r} + \\frac{r}{{\\left(2 \\, M - r\\right)}^{2}}\\right)} + \\frac{1}{2} \\, {p^3}^{2} {\\left(\\frac{2 \\, M - r}{r^{2}} + \\frac{1}{r}\\right)} - \\frac{{l}^{2}}{r^{3}}\\]</html>"
      ],
      "text/latex": [
       "$$\\newcommand{\\Bold}[1]{\\mathbf{#1}}\\frac{1}{2} \\, {\\epsilon}^{2} {\\left(\\frac{1}{2 \\, M - r} + \\frac{r}{{\\left(2 \\, M - r\\right)}^{2}}\\right)} + \\frac{1}{2} \\, {p^3}^{2} {\\left(\\frac{2 \\, M - r}{r^{2}} + \\frac{1}{r}\\right)} - \\frac{{l}^{2}}{r^{3}}$$"
      ],
      "text/plain": [
       "1/2*e^2*(1/(2*M - r) + r/(2*M - r)^2) + 1/2*p1^2*((2*M - r)/r^2 + 1/r) - l^2/r^3"
      ]
     },
     "execution_count": 19,
     "metadata": {},
     "output_type": "execute_result"
    }
   ],
   "source": [
    "l = var('l', latex_name=r\"l\")\n",
    "e = var('e', latex_name=r\"\\epsilon\")\n",
    "\n",
    "p0= var('p1', latex_name=r\"p^0\")\n",
    "p1= var('p1', latex_name=r\"p^1\")\n",
    "p2= var('p1', latex_name=r\"p^2\")\n",
    "p3= var('p1', latex_name=r\"p^3\")\n",
    "\n",
    "g_uu=g.up(g)\n",
    "\n",
    "dp1=diff(g_uu[0,0].expr(),r)*e**2/2+diff(g_uu[1,1].expr(),r)*p1**2/2+diff(g_uu[3,3].expr().subs(th=pi/2),r)*l**2/2\n",
    "dp1"
   ]
  },
  {
   "cell_type": "code",
   "execution_count": 20,
   "id": "74c0976f",
   "metadata": {},
   "outputs": [],
   "source": [
    "dX=[e/g[0,0].expr().subs(M=1),p1/g[1,1].expr().subs(M=1),0,l/g[3,3].expr().subs(th=pi/2)]"
   ]
  },
  {
   "cell_type": "code",
   "execution_count": 21,
   "id": "dc1ba686",
   "metadata": {},
   "outputs": [
    {
     "data": {
      "text/html": [
       "<html>\\[\\newcommand{\\Bold}[1]{\\mathbf{#1}}\\frac{dt(\\tau)}{d\\tau} = \\frac{{\\epsilon}}{\\frac{2}{r} - 1}\\]</html>"
      ],
      "text/latex": [
       "$$\\newcommand{\\Bold}[1]{\\mathbf{#1}}\\frac{dt(\\tau)}{d\\tau} = \\frac{{\\epsilon}}{\\frac{2}{r} - 1}$$"
      ],
      "text/plain": [
       "\\frac{dt(\\tau)}{d\\tau} = \\frac{{\\epsilon}}{\\frac{2}{r} - 1}"
      ]
     },
     "execution_count": 21,
     "metadata": {},
     "output_type": "execute_result"
    },
    {
     "data": {
      "text/html": [
       "<html>\\[\\newcommand{\\Bold}[1]{\\mathbf{#1}}\\frac{dr(\\tau)}{d\\tau} = -{p^3} {\\left(\\frac{2}{r} - 1\\right)}\\]</html>"
      ],
      "text/latex": [
       "$$\\newcommand{\\Bold}[1]{\\mathbf{#1}}\\frac{dr(\\tau)}{d\\tau} = -{p^3} {\\left(\\frac{2}{r} - 1\\right)}$$"
      ],
      "text/plain": [
       "\\frac{dr(\\tau)}{d\\tau} = -{p^3} {\\left(\\frac{2}{r} - 1\\right)}"
      ]
     },
     "execution_count": 21,
     "metadata": {},
     "output_type": "execute_result"
    },
    {
     "data": {
      "text/html": [
       "<html>\\[\\newcommand{\\Bold}[1]{\\mathbf{#1}}\\frac{d\\phi(\\tau)}{d\\tau} = \\frac{{l}}{r^{2}}\\]</html>"
      ],
      "text/latex": [
       "$$\\newcommand{\\Bold}[1]{\\mathbf{#1}}\\frac{d\\phi(\\tau)}{d\\tau} = \\frac{{l}}{r^{2}}$$"
      ],
      "text/plain": [
       "\\frac{d\\phi(\\tau)}{d\\tau} = \\frac{{l}}{r^{2}}"
      ]
     },
     "execution_count": 21,
     "metadata": {},
     "output_type": "execute_result"
    },
    {
     "data": {
      "text/html": [
       "<html>\\[\\newcommand{\\Bold}[1]{\\mathbf{#1}}\\frac{dp^1(\\tau)}{d\\tau} = -\\frac{1}{2} \\, {\\epsilon}^{2} {\\left(\\frac{1}{r - 2} - \\frac{r}{{\\left(r - 2\\right)}^{2}}\\right)} - \\frac{1}{2} \\, {p^3}^{2} {\\left(\\frac{r - 2}{r^{2}} - \\frac{1}{r}\\right)} - \\frac{{l}^{2}}{r^{3}}\\]</html>"
      ],
      "text/latex": [
       "$$\\newcommand{\\Bold}[1]{\\mathbf{#1}}\\frac{dp^1(\\tau)}{d\\tau} = -\\frac{1}{2} \\, {\\epsilon}^{2} {\\left(\\frac{1}{r - 2} - \\frac{r}{{\\left(r - 2\\right)}^{2}}\\right)} - \\frac{1}{2} \\, {p^3}^{2} {\\left(\\frac{r - 2}{r^{2}} - \\frac{1}{r}\\right)} - \\frac{{l}^{2}}{r^{3}}$$"
      ],
      "text/plain": [
       "\\frac{dp^1(\\tau)}{d\\tau} = -\\frac{1}{2} \\, {\\epsilon}^{2} {\\left(\\frac{1}{r - 2} - \\frac{r}{{\\left(r - 2\\right)}^{2}}\\right)} - \\frac{1}{2} \\, {p^3}^{2} {\\left(\\frac{r - 2}{r^{2}} - \\frac{1}{r}\\right)} - \\frac{{l}^{2}}{r^{3}}"
      ]
     },
     "execution_count": 21,
     "metadata": {},
     "output_type": "execute_result"
    }
   ],
   "source": [
    "from IPython.core.interactiveshell import InteractiveShell\n",
    "InteractiveShell.ast_node_interactivity = \"all\"\n",
    "\n",
    "#Equations system \n",
    "LatexExpr(r\"\\frac{dt(\\tau)}{d\\tau} =\") + latex(dX[0])\n",
    "LatexExpr(r\"\\frac{dr(\\tau)}{d\\tau} =\") + latex(dX[1])\n",
    "LatexExpr(r\"\\frac{d\\phi(\\tau)}{d\\tau} =\") + latex(dX[3])\n",
    "LatexExpr(r\"\\frac{dp^1(\\tau)}{d\\tau} =\") + latex(dp1.subs(M=1))"
   ]
  },
  {
   "cell_type": "code",
   "execution_count": 22,
   "id": "f626642a",
   "metadata": {},
   "outputs": [],
   "source": [
    "#Initial Conditions\n",
    "#Position\n",
    "x0i = 0.\n",
    "x1i = 6.\n",
    "x2i = pi/2\n",
    "x3i = 0.\n",
    "#Velocity\n",
    "p0i = -sqrt(8/9)\n",
    "p2i = 0.\n",
    "p3i = sqrt(12)\n",
    "p1i =sqrt((-1-g_uu[0,0].expr().subs(M=1)*p0i**2-g_uu[2,2].expr().subs(M=1)*p2i**2-g_uu[3,3].expr().subs(M=1,th=pi/2)*p3i**2)/(g_uu[1,1].expr().subs(M=1))).subs(r=x1i)\n",
    "\n",
    "qh0 = [x0i,x1i, x3i, p1i]"
   ]
  },
  {
   "cell_type": "code",
   "execution_count": 23,
   "id": "c6b73ecf",
   "metadata": {},
   "outputs": [
    {
     "data": {
      "text/html": [
       "<html>\\[\\newcommand{\\Bold}[1]{\\mathbf{#1}}\\left[-\\frac{2 \\, \\sqrt{2}}{3 \\, {\\left(\\frac{2}{r} - 1\\right)}}, -{p^3} {\\left(\\frac{2}{r} - 1\\right)}, \\frac{2 \\, \\sqrt{3}}{r^{2}}, -\\frac{1}{2} \\, {p^3}^{2} {\\left(\\frac{r - 2}{r^{2}} - \\frac{1}{r}\\right)} - \\frac{4}{9 \\, {\\left(r - 2\\right)}} + \\frac{4 \\, r}{9 \\, {\\left(r - 2\\right)}^{2}} - \\frac{12}{r^{3}}\\right]\\]</html>"
      ],
      "text/latex": [
       "$$\\newcommand{\\Bold}[1]{\\mathbf{#1}}\\left[-\\frac{2 \\, \\sqrt{2}}{3 \\, {\\left(\\frac{2}{r} - 1\\right)}}, -{p^3} {\\left(\\frac{2}{r} - 1\\right)}, \\frac{2 \\, \\sqrt{3}}{r^{2}}, -\\frac{1}{2} \\, {p^3}^{2} {\\left(\\frac{r - 2}{r^{2}} - \\frac{1}{r}\\right)} - \\frac{4}{9 \\, {\\left(r - 2\\right)}} + \\frac{4 \\, r}{9 \\, {\\left(r - 2\\right)}^{2}} - \\frac{12}{r^{3}}\\right]$$"
      ],
      "text/plain": [
       "[-2/3*sqrt(2)/(2/r - 1),\n",
       " -p1*(2/r - 1),\n",
       " 2*sqrt(3)/r^2,\n",
       " -1/2*p1^2*((r - 2)/r^2 - 1/r) - 4/9/(r - 2) + 4/9*r/(r - 2)^2 - 12/r^3]"
      ]
     },
     "execution_count": 23,
     "metadata": {},
     "output_type": "execute_result"
    }
   ],
   "source": [
    "#EDO system\n",
    "fh = [dX[0].subs(e=p0i),dX[1],dX[3].subs(l=p3i),dp1(e=p0i,l=p3i,M=1)]\n",
    "qh = [t,r,ph,p1]\n",
    "tau_ih = 0.\n",
    "tau_fh = 10000.\n",
    "tau_rangeh =  srange(tau_ih,tau_fh,0.05)\n",
    "fh"
   ]
  },
  {
   "cell_type": "code",
   "execution_count": 24,
   "id": "0db72bb8",
   "metadata": {},
   "outputs": [],
   "source": [
    "#Integration\n",
    "solH = desolve_odeint(fh, qh0, tau_rangeh, qh)"
   ]
  },
  {
   "cell_type": "code",
   "execution_count": 25,
   "id": "aba59b1c",
   "metadata": {},
   "outputs": [],
   "source": [
    "#Cartesian Coordinates\n",
    "xh = [solH[a][1]*cos(solH[a][2]) for a in range(len(solH))]\n",
    "yh = [solH[a][1]*sin(solH[a][2]) for a in range(len(solH))]"
   ]
  },
  {
   "cell_type": "code",
   "execution_count": 26,
   "id": "ef124652",
   "metadata": {},
   "outputs": [
    {
     "data": {
      "image/png": "[encoded data removed]",
      "text/plain": [
       "Graphics object consisting of 2 graphics primitives"
      ]
     },
     "execution_count": 26,
     "metadata": {},
     "output_type": "execute_result"
    }
   ],
   "source": [
    "#Graph\n",
    "BH = circle((0,0), 2, fill = True, rgbcolor='black')\n",
    "GeoH = list_plot(list(zip(xh, yh)),plotjoined=True, color='purple')\n",
    "BH+GeoH"
   ]
  }
 ],
 "metadata": {
  "kernelspec": {
   "display_name": "SageMath 9.4",
   "language": "sage",
   "name": "sagemath-9.4"
  },
  "language_info": {
   "codemirror_mode": {
    "name": "ipython",
    "version": 3
   },
   "file_extension": ".py",
   "mimetype": "text/x-python",
   "name": "python",
   "nbconvert_exporter": "python",
   "pygments_lexer": "ipython3",
   "version": "3.9.5"
  }
 },
 "nbformat": 4,
 "nbformat_minor": 5
}
