{
 "cells": [
  {
   "cell_type": "markdown",
   "id": "26e64546",
   "metadata": {},
   "source": [
    "# SageMath"
   ]
  },
  {
   "cell_type": "markdown",
   "id": "858e44da",
   "metadata": {},
   "source": [
    "SageMath is a free open-source mathematics software system. It builds on top of many existing open-source packages: NumPy, SciPy, matplotlib, Sympy, Maxima, GAP, FLINT, R and many more. \n",
    "The user can acess to all this tools through a common, Python-based language. It also enables renderization via LaTex. \n",
    "\n",
    "Modified from: https://www.sagemath.org/index.html"
   ]
  },
  {
   "cell_type": "code",
   "execution_count": 1,
   "id": "c3441356",
   "metadata": {
    "scrolled": true
   },
   "outputs": [
    {
     "data": {
      "text/plain": [
       "'SageMath version 9.4, Release Date: 2021-08-22'"
      ]
     },
     "execution_count": 1,
     "metadata": {},
     "output_type": "execute_result"
    }
   ],
   "source": [
    "version()"
   ]
  },
  {
   "cell_type": "code",
   "execution_count": 1,
   "id": "2c7c1fa9",
   "metadata": {},
   "outputs": [],
   "source": [
    "%display latex"
   ]
  },
  {
   "cell_type": "markdown",
   "id": "72575c44",
   "metadata": {},
   "source": [
    "Some operations in Sage..."
   ]
  },
  {
   "cell_type": "code",
   "execution_count": 2,
   "id": "d1141e5d",
   "metadata": {},
   "outputs": [],
   "source": [
    "F(r)=r**2"
   ]
  },
  {
   "cell_type": "code",
   "execution_count": 3,
   "id": "ddba717a",
   "metadata": {},
   "outputs": [
    {
     "data": {
      "text/html": [
       "<html>\\[\\newcommand{\\Bold}[1]{\\mathbf{#1}}r \\ {\\mapsto}\\ 2 \\, r\\]</html>"
      ],
      "text/latex": [
       "$$\\newcommand{\\Bold}[1]{\\mathbf{#1}}r \\ {\\mapsto}\\ 2 \\, r$$"
      ],
      "text/plain": [
       "r |--> 2*r"
      ]
     },
     "execution_count": 3,
     "metadata": {},
     "output_type": "execute_result"
    }
   ],
   "source": [
    "diff(F,r)"
   ]
  },
  {
   "cell_type": "code",
   "execution_count": 4,
   "id": "856a4895",
   "metadata": {},
   "outputs": [
    {
     "data": {
      "text/html": [
       "<html>\\[\\newcommand{\\Bold}[1]{\\mathbf{#1}}r \\ {\\mapsto}\\ 2 \\, r\\]</html>"
      ],
      "text/latex": [
       "$$\\newcommand{\\Bold}[1]{\\mathbf{#1}}r \\ {\\mapsto}\\ 2 \\, r$$"
      ],
      "text/plain": [
       "r |--> 2*r"
      ]
     },
     "execution_count": 4,
     "metadata": {},
     "output_type": "execute_result"
    }
   ],
   "source": [
    "F.diff(r)"
   ]
  },
  {
   "cell_type": "code",
   "execution_count": 9,
   "id": "771935c0",
   "metadata": {},
   "outputs": [
    {
     "data": {
      "text/html": [
       "<html>\\[\\newcommand{\\Bold}[1]{\\mathbf{#1}}81\\]</html>"
      ],
      "text/latex": [
       "$$\\newcommand{\\Bold}[1]{\\mathbf{#1}}81$$"
      ],
      "text/plain": [
       "81"
      ]
     },
     "execution_count": 9,
     "metadata": {},
     "output_type": "execute_result"
    }
   ],
   "source": [
    "F(9)"
   ]
  },
  {
   "cell_type": "code",
   "execution_count": 12,
   "id": "628f4134",
   "metadata": {},
   "outputs": [
    {
     "data": {
      "text/html": [
       "<html>\\[\\newcommand{\\Bold}[1]{\\mathbf{#1}}r \\ {\\mapsto}\\ 81\\]</html>"
      ],
      "text/latex": [
       "$$\\newcommand{\\Bold}[1]{\\mathbf{#1}}r \\ {\\mapsto}\\ 81$$"
      ],
      "text/plain": [
       "r |--> 81"
      ]
     },
     "execution_count": 12,
     "metadata": {},
     "output_type": "execute_result"
    }
   ],
   "source": [
    "F.subs(r=9)"
   ]
  },
  {
   "cell_type": "markdown",
   "id": "8bced80e",
   "metadata": {},
   "source": [
    "# SageMainfolds"
   ]
  },
  {
   "cell_type": "markdown",
   "id": "32aed152",
   "metadata": {},
   "source": [
    "The SageManifolds project aims at extending the modern Python-based computer algebra system SageMath towards differential geometry and tensor calculus. All SageManifolds code is included in SageMath, i.e. it does not require any separate installation.\n",
    "\n",
    "Took from: https://sagemanifolds.obspm.fr/index.html"
   ]
  },
  {
   "cell_type": "markdown",
   "id": "57fc3858",
   "metadata": {},
   "source": [
    "## Mainfolds"
   ]
  },
  {
   "cell_type": "markdown",
   "id": "0ede0693",
   "metadata": {},
   "source": [
    "The spacetime is defined as 4-dimensional Lorentzian manifold"
   ]
  },
  {
   "cell_type": "code",
   "execution_count": 5,
   "id": "56f61e43",
   "metadata": {},
   "outputs": [
    {
     "name": "stdout",
     "output_type": "stream",
     "text": [
      "4-dimensional Lorentzian manifold M\n"
     ]
    },
    {
     "data": {
      "text/html": [
       "<html>\\[\\newcommand{\\Bold}[1]{\\mathbf{#1}}\\mathcal{M}\\]</html>"
      ],
      "text/latex": [
       "$$\\newcommand{\\Bold}[1]{\\mathbf{#1}}\\mathcal{M}$$"
      ],
      "text/plain": [
       "4-dimensional Lorentzian manifold M"
      ]
     },
     "execution_count": 5,
     "metadata": {},
     "output_type": "execute_result"
    }
   ],
   "source": [
    "M = Manifold(4,'M',latex_name=r'\\mathcal{M}', structure='Lorentzian')\n",
    "print(M)\n",
    "M"
   ]
  },
  {
   "cell_type": "markdown",
   "id": "efb5433b",
   "metadata": {},
   "source": [
    "A chart is the way of describing the points of a small neighborhood on a manifold M, as coordinates in Euclidean space. We'll use spherical coordinates."
   ]
  },
  {
   "cell_type": "code",
   "execution_count": 6,
   "id": "45fb2b0f",
   "metadata": {},
   "outputs": [
    {
     "name": "stdout",
     "output_type": "stream",
     "text": [
      "Chart (M, (t, r, th, ph))\n"
     ]
    },
    {
     "data": {
      "text/html": [
       "<html>\\[\\newcommand{\\Bold}[1]{\\mathbf{#1}}\\left(\\mathcal{M},(t, r, {\\theta}, {\\phi})\\right)\\]</html>"
      ],
      "text/latex": [
       "$$\\newcommand{\\Bold}[1]{\\mathbf{#1}}\\left(\\mathcal{M},(t, r, {\\theta}, {\\phi})\\right)$$"
      ],
      "text/plain": [
       "Chart (M, (t, r, th, ph))"
      ]
     },
     "execution_count": 6,
     "metadata": {},
     "output_type": "execute_result"
    }
   ],
   "source": [
    "X.<t,r,th,ph> = M.chart(r\"t r:(0,+oo) th:(0,pi):\\theta ph:(0,2*pi):\\phi\")\n",
    "print(X)\n",
    "X"
   ]
  },
  {
   "cell_type": "markdown",
   "id": "7b3a6655",
   "metadata": {},
   "source": [
    "# Hayward Metric"
   ]
  },
  {
   "cell_type": "markdown",
   "id": "ebf69688",
   "metadata": {},
   "source": [
    "Based on: Hayward, S. A. (2006). Formation and Evaporation of Nonsingular Black Holes. Physical Review Letters, 96(3). doi:10.1103/physrevlett.96.031103 "
   ]
  },
  {
   "cell_type": "markdown",
   "id": "c8b1cc34",
   "metadata": {},
   "source": [
    "The Hayward metric is a simple description of a black hole which is non-singular, static, spcherically symetric and asymptotically flat."
   ]
  },
  {
   "cell_type": "markdown",
   "id": "cec9035a",
   "metadata": {},
   "source": [
    "## 1. Metric Tensor"
   ]
  },
  {
   "cell_type": "markdown",
   "id": "603d463f",
   "metadata": {},
   "source": [
    "Consider static, spherically symmetric metrics of the form:\n",
    "\\begin{equation}\n",
    "    ds^2 = - F(r)dt^2 + \\frac{dr^2}{F(r)} + r^2d\\theta^2 + r^2\\sin^2(\\theta)d\\phi^2 \n",
    "\\end{equation}\n"
   ]
  },
  {
   "cell_type": "code",
   "execution_count": 7,
   "id": "c31f136e",
   "metadata": {},
   "outputs": [],
   "source": [
    "R = var(\"R\")\n",
    "A(r) = 1 - R/r"
   ]
  },
  {
   "cell_type": "code",
   "execution_count": 8,
   "id": "92ae3567",
   "metadata": {},
   "outputs": [
    {
     "data": {
      "text/html": [
       "<html>\\[\\newcommand{\\Bold}[1]{\\mathbf{#1}}\\left(\\begin{array}{rrrr}\n",
       "-\\frac{R}{r} + 1 & 0 & 0 & 0 \\\\\n",
       "0 & \\frac{1}{\\frac{R}{r} - 1} & 0 & 0 \\\\\n",
       "0 & 0 & -r^{2} & 0 \\\\\n",
       "0 & 0 & 0 & -r^{2} \\sin\\left({\\theta}\\right)^{2}\n",
       "\\end{array}\\right)\\]</html>"
      ],
      "text/latex": [
       "$$\\newcommand{\\Bold}[1]{\\mathbf{#1}}\\left(\\begin{array}{rrrr}\n",
       "-\\frac{R}{r} + 1 & 0 & 0 & 0 \\\\\n",
       "0 & \\frac{1}{\\frac{R}{r} - 1} & 0 & 0 \\\\\n",
       "0 & 0 & -r^{2} & 0 \\\\\n",
       "0 & 0 & 0 & -r^{2} \\sin\\left({\\theta}\\right)^{2}\n",
       "\\end{array}\\right)$$"
      ],
      "text/plain": [
       "[      -R/r + 1              0              0              0]\n",
       "[             0    1/(R/r - 1)              0              0]\n",
       "[             0              0           -r^2              0]\n",
       "[             0              0              0 -r^2*sin(th)^2]"
      ]
     },
     "execution_count": 8,
     "metadata": {},
     "output_type": "execute_result"
    }
   ],
   "source": [
    "g = M.metric()\n",
    "g[0,0] = A\n",
    "g[1,1] = -1/A\n",
    "g[2,2] = -r^2\n",
    "g[3,3] = -(r*sin(th))^2\n",
    "g[:]"
   ]
  },
  {
   "cell_type": "markdown",
   "id": "bf301427",
   "metadata": {},
   "source": [
    "$m$ is the total mass in spacetime. $l$ is a parameter that encodes the central energy density. Both are constans assumed to be positive. "
   ]
  },
  {
   "cell_type": "code",
   "execution_count": 9,
   "id": "67818b8a",
   "metadata": {},
   "outputs": [],
   "source": [
    "m = var('m')\n",
    "l = var('l')\n",
    "assume(m>0, l>0)"
   ]
  },
  {
   "cell_type": "markdown",
   "id": "e17ef743",
   "metadata": {},
   "source": [
    "For an asymptotically flat space-time with total mass M:\n",
    "\\begin{equation}\n",
    "    F(r) \\approx 1 - \\frac{2m}{r} \\textrm{     as } r \\to \\infty\n",
    "\\end{equation}\n",
    "For flatness at the center:\n",
    "\\begin{equation}\n",
    "    F(r) \\approx 1 - \\frac{r^2}{l^2} \\textrm{     as } r \\to 0\n",
    "\\end{equation}\n",
    "A particularly\n",
    "simple metric satisfying the above conditions is:\n",
    "\\begin{equation}\n",
    "    F(r) = 1 - \\frac{2mr^2}{r^3+2l^2m}\n",
    "\\end{equation}"
   ]
  },
  {
   "cell_type": "code",
   "execution_count": 10,
   "id": "2db5dcb5",
   "metadata": {},
   "outputs": [
    {
     "data": {
      "text/html": [
       "<html>\\[\\newcommand{\\Bold}[1]{\\mathbf{#1}}r \\ {\\mapsto}\\ -\\frac{2 \\, m r^{2}}{2 \\, l^{2} m + r^{3}} + 1\\]</html>"
      ],
      "text/latex": [
       "$$\\newcommand{\\Bold}[1]{\\mathbf{#1}}r \\ {\\mapsto}\\ -\\frac{2 \\, m r^{2}}{2 \\, l^{2} m + r^{3}} + 1$$"
      ],
      "text/plain": [
       "r |--> -2*m*r^2/(2*l^2*m + r^3) + 1"
      ]
     },
     "execution_count": 10,
     "metadata": {},
     "output_type": "execute_result"
    }
   ],
   "source": [
    "F(r) = 1 - (2*m*r**2)/(r**3+2*l**2*m)\n",
    "F"
   ]
  },
  {
   "cell_type": "code",
   "execution_count": 11,
   "id": "76461c62",
   "metadata": {},
   "outputs": [
    {
     "data": {
      "text/html": [
       "<html>\\[\\newcommand{\\Bold}[1]{\\mathbf{#1}}r \\ {\\mapsto}\\ 1\\]</html>"
      ],
      "text/latex": [
       "$$\\newcommand{\\Bold}[1]{\\mathbf{#1}}r \\ {\\mapsto}\\ 1$$"
      ],
      "text/plain": [
       "r |--> 1"
      ]
     },
     "execution_count": 11,
     "metadata": {},
     "output_type": "execute_result"
    }
   ],
   "source": [
    "limit(F,r=oo)"
   ]
  },
  {
   "cell_type": "code",
   "execution_count": 12,
   "id": "86dc2d1a",
   "metadata": {},
   "outputs": [
    {
     "data": {
      "text/html": [
       "<html>\\[\\newcommand{\\Bold}[1]{\\mathbf{#1}}r \\ {\\mapsto}\\ -\\frac{r^{2}}{l^{2}} + 1\\]</html>"
      ],
      "text/latex": [
       "$$\\newcommand{\\Bold}[1]{\\mathbf{#1}}r \\ {\\mapsto}\\ -\\frac{r^{2}}{l^{2}} + 1$$"
      ],
      "text/plain": [
       "r |--> -r^2/l^2 + 1"
      ]
     },
     "execution_count": 12,
     "metadata": {},
     "output_type": "execute_result"
    }
   ],
   "source": [
    "F.taylor(r, 0, 2)"
   ]
  },
  {
   "cell_type": "code",
   "execution_count": 13,
   "id": "57acf01c",
   "metadata": {
    "scrolled": true
   },
   "outputs": [
    {
     "data": {
      "text/html": [
       "<html>\\[\\newcommand{\\Bold}[1]{\\mathbf{#1}}\\left(\\begin{array}{rrrr}\n",
       "\\frac{2 \\, m r^{2}}{2 \\, l^{2} m + r^{3}} - 1 & 0 & 0 & 0 \\\\\n",
       "0 & -\\frac{1}{\\frac{2 \\, m r^{2}}{2 \\, l^{2} m + r^{3}} - 1} & 0 & 0 \\\\\n",
       "0 & 0 & r^{2} & 0 \\\\\n",
       "0 & 0 & 0 & r^{2} \\sin\\left({\\theta}\\right)^{2}\n",
       "\\end{array}\\right)\\]</html>"
      ],
      "text/latex": [
       "$$\\newcommand{\\Bold}[1]{\\mathbf{#1}}\\left(\\begin{array}{rrrr}\n",
       "\\frac{2 \\, m r^{2}}{2 \\, l^{2} m + r^{3}} - 1 & 0 & 0 & 0 \\\\\n",
       "0 & -\\frac{1}{\\frac{2 \\, m r^{2}}{2 \\, l^{2} m + r^{3}} - 1} & 0 & 0 \\\\\n",
       "0 & 0 & r^{2} & 0 \\\\\n",
       "0 & 0 & 0 & r^{2} \\sin\\left({\\theta}\\right)^{2}\n",
       "\\end{array}\\right)$$"
      ],
      "text/plain": [
       "[     2*m*r^2/(2*l^2*m + r^3) - 1                                0                                0                                0]\n",
       "[                               0 -1/(2*m*r^2/(2*l^2*m + r^3) - 1)                                0                                0]\n",
       "[                               0                                0                              r^2                                0]\n",
       "[                               0                                0                                0                    r^2*sin(th)^2]"
      ]
     },
     "execution_count": 13,
     "metadata": {},
     "output_type": "execute_result"
    }
   ],
   "source": [
    "g = M.metric()\n",
    "g[0,0] = -F\n",
    "g[1,1] = 1/F\n",
    "g[2,2] = r^2\n",
    "g[3,3] = (r*sin(th))^2\n",
    "g[:]"
   ]
  },
  {
   "cell_type": "markdown",
   "id": "90c52b5a",
   "metadata": {},
   "source": [
    "### Inverse Metric"
   ]
  },
  {
   "cell_type": "code",
   "execution_count": 14,
   "id": "59e0ae98",
   "metadata": {},
   "outputs": [
    {
     "data": {
      "text/html": [
       "<html>\\[\\newcommand{\\Bold}[1]{\\mathbf{#1}}\\left(\\begin{array}{rrrr}\n",
       "-\\frac{2 \\, l^{2} m + r^{3}}{2 \\, l^{2} m - 2 \\, m r^{2} + r^{3}} & 0 & 0 & 0 \\\\\n",
       "0 & \\frac{2 \\, l^{2} m - 2 \\, m r^{2} + r^{3}}{2 \\, l^{2} m + r^{3}} & 0 & 0 \\\\\n",
       "0 & 0 & \\frac{1}{r^{2}} & 0 \\\\\n",
       "0 & 0 & 0 & \\frac{1}{r^{2} \\sin\\left({\\theta}\\right)^{2}}\n",
       "\\end{array}\\right)\\]</html>"
      ],
      "text/latex": [
       "$$\\newcommand{\\Bold}[1]{\\mathbf{#1}}\\left(\\begin{array}{rrrr}\n",
       "-\\frac{2 \\, l^{2} m + r^{3}}{2 \\, l^{2} m - 2 \\, m r^{2} + r^{3}} & 0 & 0 & 0 \\\\\n",
       "0 & \\frac{2 \\, l^{2} m - 2 \\, m r^{2} + r^{3}}{2 \\, l^{2} m + r^{3}} & 0 & 0 \\\\\n",
       "0 & 0 & \\frac{1}{r^{2}} & 0 \\\\\n",
       "0 & 0 & 0 & \\frac{1}{r^{2} \\sin\\left({\\theta}\\right)^{2}}\n",
       "\\end{array}\\right)$$"
      ],
      "text/plain": [
       "[-(2*l^2*m + r^3)/(2*l^2*m - 2*m*r^2 + r^3)                                          0                                          0                                          0]\n",
       "[                                         0  (2*l^2*m - 2*m*r^2 + r^3)/(2*l^2*m + r^3)                                          0                                          0]\n",
       "[                                         0                                          0                                     r^(-2)                                          0]\n",
       "[                                         0                                          0                                          0                          1/(r^2*sin(th)^2)]"
      ]
     },
     "execution_count": 14,
     "metadata": {},
     "output_type": "execute_result"
    }
   ],
   "source": [
    "g_in = g.inverse()\n",
    "g_in[:]"
   ]
  },
  {
   "cell_type": "markdown",
   "id": "7ba35c17",
   "metadata": {},
   "source": [
    "\\begin{equation}\n",
    "    g^{\\mu\\rho}g_{\\rho\\nu}=\\delta^{\\mu}_{\\nu}\n",
    "\\end{equation}"
   ]
  },
  {
   "cell_type": "code",
   "execution_count": 15,
   "id": "a2c37f65",
   "metadata": {},
   "outputs": [
    {
     "data": {
      "text/html": [
       "<html>\\[\\newcommand{\\Bold}[1]{\\mathbf{#1}}\\left(\\begin{array}{rrrr}\n",
       "-\\frac{2 \\, l^{2} m + r^{3}}{2 \\, l^{2} m - 2 \\, m r^{2} + r^{3}} & 0 & 0 & 0 \\\\\n",
       "0 & \\frac{2 \\, l^{2} m - 2 \\, m r^{2} + r^{3}}{2 \\, l^{2} m + r^{3}} & 0 & 0 \\\\\n",
       "0 & 0 & \\frac{1}{r^{2}} & 0 \\\\\n",
       "0 & 0 & 0 & \\frac{1}{r^{2} \\sin\\left({\\theta}\\right)^{2}}\n",
       "\\end{array}\\right)\\]</html>"
      ],
      "text/latex": [
       "$$\\newcommand{\\Bold}[1]{\\mathbf{#1}}\\left(\\begin{array}{rrrr}\n",
       "-\\frac{2 \\, l^{2} m + r^{3}}{2 \\, l^{2} m - 2 \\, m r^{2} + r^{3}} & 0 & 0 & 0 \\\\\n",
       "0 & \\frac{2 \\, l^{2} m - 2 \\, m r^{2} + r^{3}}{2 \\, l^{2} m + r^{3}} & 0 & 0 \\\\\n",
       "0 & 0 & \\frac{1}{r^{2}} & 0 \\\\\n",
       "0 & 0 & 0 & \\frac{1}{r^{2} \\sin\\left({\\theta}\\right)^{2}}\n",
       "\\end{array}\\right)$$"
      ],
      "text/plain": [
       "[-(2*l^2*m + r^3)/(2*l^2*m - 2*m*r^2 + r^3)                                          0                                          0                                          0]\n",
       "[                                         0  (2*l^2*m - 2*m*r^2 + r^3)/(2*l^2*m + r^3)                                          0                                          0]\n",
       "[                                         0                                          0                                     r^(-2)                                          0]\n",
       "[                                         0                                          0                                          0                          1/(r^2*sin(th)^2)]"
      ]
     },
     "execution_count": 15,
     "metadata": {},
     "output_type": "execute_result"
    }
   ],
   "source": [
    "g_uu = g.up(g) \n",
    "g_uu[:]"
   ]
  },
  {
   "cell_type": "code",
   "execution_count": 16,
   "id": "d37eb56e",
   "metadata": {},
   "outputs": [
    {
     "data": {
      "text/html": [
       "<html>\\[\\newcommand{\\Bold}[1]{\\mathbf{#1}}\\left(\\begin{array}{rrrr}\n",
       "1 & 0 & 0 & 0 \\\\\n",
       "0 & 1 & 0 & 0 \\\\\n",
       "0 & 0 & 1 & 0 \\\\\n",
       "0 & 0 & 0 & 1\n",
       "\\end{array}\\right)\\]</html>"
      ],
      "text/latex": [
       "$$\\newcommand{\\Bold}[1]{\\mathbf{#1}}\\left(\\begin{array}{rrrr}\n",
       "1 & 0 & 0 & 0 \\\\\n",
       "0 & 1 & 0 & 0 \\\\\n",
       "0 & 0 & 1 & 0 \\\\\n",
       "0 & 0 & 0 & 1\n",
       "\\end{array}\\right)$$"
      ],
      "text/plain": [
       "[1 0 0 0]\n",
       "[0 1 0 0]\n",
       "[0 0 1 0]\n",
       "[0 0 0 1]"
      ]
     },
     "execution_count": 16,
     "metadata": {},
     "output_type": "execute_result"
    }
   ],
   "source": [
    "delta = g_uu['^{ab}']*g['_{bc}']\n",
    "delta[:]"
   ]
  },
  {
   "cell_type": "markdown",
   "id": "82cdeb15",
   "metadata": {},
   "source": [
    "## 2. Christoffel Symbols"
   ]
  },
  {
   "cell_type": "markdown",
   "id": "8a0e8f2a",
   "metadata": {},
   "source": [
    "The Christoffel Symbols are defined as\n",
    "\\begin{equation}\n",
    "\\Gamma^\\alpha_{\\mu \\nu} = \\frac{1}{2} g^{\\alpha \\sigma} \\left[\\partial_\\mu g_{\\sigma \\nu} + \\partial_\\nu g_{\\mu \\sigma } - \\partial_\\sigma g_{\\mu \\nu} \\right]\n",
    "\\end{equation}"
   ]
  },
  {
   "cell_type": "code",
   "execution_count": 17,
   "id": "6a1196e3",
   "metadata": {},
   "outputs": [
    {
     "data": {
      "text/html": [
       "<html>\\[\\newcommand{\\Bold}[1]{\\mathbf{#1}}\\begin{array}{lcl} \\Gamma_{ \\phantom{\\, t} \\, t \\, r }^{ \\, t \\phantom{\\, t} \\phantom{\\, r} } & = & -\\frac{4 \\, l^{2} m^{2} r - m r^{4}}{4 \\, l^{4} m^{2} - 4 \\, l^{2} m^{2} r^{2} + 4 \\, l^{2} m r^{3} - 2 \\, m r^{5} + r^{6}} \\\\ \\Gamma_{ \\phantom{\\, r} \\, t \\, t }^{ \\, r \\phantom{\\, t} \\phantom{\\, t} } & = & -\\frac{8 \\, l^{4} m^{3} r - 8 \\, l^{2} m^{3} r^{3} + 2 \\, l^{2} m^{2} r^{4} + 2 \\, m^{2} r^{6} - m r^{7}}{8 \\, l^{6} m^{3} + 12 \\, l^{4} m^{2} r^{3} + 6 \\, l^{2} m r^{6} + r^{9}} \\\\ \\Gamma_{ \\phantom{\\, r} \\, r \\, r }^{ \\, r \\phantom{\\, r} \\phantom{\\, r} } & = & \\frac{4 \\, l^{2} m^{2} r - m r^{4}}{4 \\, l^{4} m^{2} - 4 \\, l^{2} m^{2} r^{2} + 4 \\, l^{2} m r^{3} - 2 \\, m r^{5} + r^{6}} \\\\ \\Gamma_{ \\phantom{\\, r} \\, {\\theta} \\, {\\theta} }^{ \\, r \\phantom{\\, {\\theta}} \\phantom{\\, {\\theta}} } & = & -\\frac{2 \\, l^{2} m r - 2 \\, m r^{3} + r^{4}}{2 \\, l^{2} m + r^{3}} \\\\ \\Gamma_{ \\phantom{\\, r} \\, {\\phi} \\, {\\phi} }^{ \\, r \\phantom{\\, {\\phi}} \\phantom{\\, {\\phi}} } & = & -\\frac{{\\left(2 \\, l^{2} m r - 2 \\, m r^{3} + r^{4}\\right)} \\sin\\left({\\theta}\\right)^{2}}{2 \\, l^{2} m + r^{3}} \\\\ \\Gamma_{ \\phantom{\\, {\\theta}} \\, r \\, {\\theta} }^{ \\, {\\theta} \\phantom{\\, r} \\phantom{\\, {\\theta}} } & = & \\frac{1}{r} \\\\ \\Gamma_{ \\phantom{\\, {\\theta}} \\, {\\phi} \\, {\\phi} }^{ \\, {\\theta} \\phantom{\\, {\\phi}} \\phantom{\\, {\\phi}} } & = & -\\cos\\left({\\theta}\\right) \\sin\\left({\\theta}\\right) \\\\ \\Gamma_{ \\phantom{\\, {\\phi}} \\, r \\, {\\phi} }^{ \\, {\\phi} \\phantom{\\, r} \\phantom{\\, {\\phi}} } & = & \\frac{1}{r} \\\\ \\Gamma_{ \\phantom{\\, {\\phi}} \\, {\\theta} \\, {\\phi} }^{ \\, {\\phi} \\phantom{\\, {\\theta}} \\phantom{\\, {\\phi}} } & = & \\frac{\\cos\\left({\\theta}\\right)}{\\sin\\left({\\theta}\\right)} \\end{array}\\]</html>"
      ],
      "text/latex": [
       "$$\\newcommand{\\Bold}[1]{\\mathbf{#1}}\\begin{array}{lcl} \\Gamma_{ \\phantom{\\, t} \\, t \\, r }^{ \\, t \\phantom{\\, t} \\phantom{\\, r} } & = & -\\frac{4 \\, l^{2} m^{2} r - m r^{4}}{4 \\, l^{4} m^{2} - 4 \\, l^{2} m^{2} r^{2} + 4 \\, l^{2} m r^{3} - 2 \\, m r^{5} + r^{6}} \\\\ \\Gamma_{ \\phantom{\\, r} \\, t \\, t }^{ \\, r \\phantom{\\, t} \\phantom{\\, t} } & = & -\\frac{8 \\, l^{4} m^{3} r - 8 \\, l^{2} m^{3} r^{3} + 2 \\, l^{2} m^{2} r^{4} + 2 \\, m^{2} r^{6} - m r^{7}}{8 \\, l^{6} m^{3} + 12 \\, l^{4} m^{2} r^{3} + 6 \\, l^{2} m r^{6} + r^{9}} \\\\ \\Gamma_{ \\phantom{\\, r} \\, r \\, r }^{ \\, r \\phantom{\\, r} \\phantom{\\, r} } & = & \\frac{4 \\, l^{2} m^{2} r - m r^{4}}{4 \\, l^{4} m^{2} - 4 \\, l^{2} m^{2} r^{2} + 4 \\, l^{2} m r^{3} - 2 \\, m r^{5} + r^{6}} \\\\ \\Gamma_{ \\phantom{\\, r} \\, {\\theta} \\, {\\theta} }^{ \\, r \\phantom{\\, {\\theta}} \\phantom{\\, {\\theta}} } & = & -\\frac{2 \\, l^{2} m r - 2 \\, m r^{3} + r^{4}}{2 \\, l^{2} m + r^{3}} \\\\ \\Gamma_{ \\phantom{\\, r} \\, {\\phi} \\, {\\phi} }^{ \\, r \\phantom{\\, {\\phi}} \\phantom{\\, {\\phi}} } & = & -\\frac{{\\left(2 \\, l^{2} m r - 2 \\, m r^{3} + r^{4}\\right)} \\sin\\left({\\theta}\\right)^{2}}{2 \\, l^{2} m + r^{3}} \\\\ \\Gamma_{ \\phantom{\\, {\\theta}} \\, r \\, {\\theta} }^{ \\, {\\theta} \\phantom{\\, r} \\phantom{\\, {\\theta}} } & = & \\frac{1}{r} \\\\ \\Gamma_{ \\phantom{\\, {\\theta}} \\, {\\phi} \\, {\\phi} }^{ \\, {\\theta} \\phantom{\\, {\\phi}} \\phantom{\\, {\\phi}} } & = & -\\cos\\left({\\theta}\\right) \\sin\\left({\\theta}\\right) \\\\ \\Gamma_{ \\phantom{\\, {\\phi}} \\, r \\, {\\phi} }^{ \\, {\\phi} \\phantom{\\, r} \\phantom{\\, {\\phi}} } & = & \\frac{1}{r} \\\\ \\Gamma_{ \\phantom{\\, {\\phi}} \\, {\\theta} \\, {\\phi} }^{ \\, {\\phi} \\phantom{\\, {\\theta}} \\phantom{\\, {\\phi}} } & = & \\frac{\\cos\\left({\\theta}\\right)}{\\sin\\left({\\theta}\\right)} \\end{array}$$"
      ],
      "text/plain": [
       "Gam^t_t,r = -(4*l^2*m^2*r - m*r^4)/(4*l^4*m^2 - 4*l^2*m^2*r^2 + 4*l^2*m*r^3 - 2*m*r^5 + r^6) \n",
       "Gam^r_t,t = -(8*l^4*m^3*r - 8*l^2*m^3*r^3 + 2*l^2*m^2*r^4 + 2*m^2*r^6 - m*r^7)/(8*l^6*m^3 + 12*l^4*m^2*r^3 + 6*l^2*m*r^6 + r^9) \n",
       "Gam^r_r,r = (4*l^2*m^2*r - m*r^4)/(4*l^4*m^2 - 4*l^2*m^2*r^2 + 4*l^2*m*r^3 - 2*m*r^5 + r^6) \n",
       "Gam^r_th,th = -(2*l^2*m*r - 2*m*r^3 + r^4)/(2*l^2*m + r^3) \n",
       "Gam^r_ph,ph = -(2*l^2*m*r - 2*m*r^3 + r^4)*sin(th)^2/(2*l^2*m + r^3) \n",
       "Gam^th_r,th = 1/r \n",
       "Gam^th_ph,ph = -cos(th)*sin(th) \n",
       "Gam^ph_r,ph = 1/r \n",
       "Gam^ph_th,ph = cos(th)/sin(th) "
      ]
     },
     "execution_count": 17,
     "metadata": {},
     "output_type": "execute_result"
    }
   ],
   "source": [
    "gamma = g.connection()\n",
    "gamma.display()\n",
    "gamma.display(only_nonredundant=True)"
   ]
  },
  {
   "cell_type": "code",
   "execution_count": 18,
   "id": "1d3f515c",
   "metadata": {},
   "outputs": [
    {
     "data": {
      "text/html": [
       "<html>\\[\\newcommand{\\Bold}[1]{\\mathbf{#1}}\\verb|3-indices|\\phantom{\\verb!x!}\\verb|components|\\phantom{\\verb!x!}\\verb|w.r.t.|\\phantom{\\verb!x!}\\verb|Coordinate|\\phantom{\\verb!x!}\\verb|frame|\\phantom{\\verb!x!}\\verb|(M,|\\phantom{\\verb!x!}\\verb|(∂/∂t,∂/∂r,∂/∂th,∂/∂ph)),|\\phantom{\\verb!x!}\\verb|with|\\phantom{\\verb!x!}\\verb|symmetry|\\phantom{\\verb!x!}\\verb|on|\\phantom{\\verb!x!}\\verb|the|\\phantom{\\verb!x!}\\verb|index|\\phantom{\\verb!x!}\\verb|positions|\\phantom{\\verb!x!}\\verb|(1,|\\phantom{\\verb!x!}\\verb|2)|\\]</html>"
      ],
      "text/latex": [
       "$$\\newcommand{\\Bold}[1]{\\mathbf{#1}}\\verb|3-indices|\\phantom{\\verb!x!}\\verb|components|\\phantom{\\verb!x!}\\verb|w.r.t.|\\phantom{\\verb!x!}\\verb|Coordinate|\\phantom{\\verb!x!}\\verb|frame|\\phantom{\\verb!x!}\\verb|(M,|\\phantom{\\verb!x!}\\verb|(∂/∂t,∂/∂r,∂/∂th,∂/∂ph)),|\\phantom{\\verb!x!}\\verb|with|\\phantom{\\verb!x!}\\verb|symmetry|\\phantom{\\verb!x!}\\verb|on|\\phantom{\\verb!x!}\\verb|the|\\phantom{\\verb!x!}\\verb|index|\\phantom{\\verb!x!}\\verb|positions|\\phantom{\\verb!x!}\\verb|(1,|\\phantom{\\verb!x!}\\verb|2)|$$"
      ],
      "text/plain": [
       "3-indices components w.r.t. Coordinate frame (M, (∂/∂t,∂/∂r,∂/∂th,∂/∂ph)), with symmetry on the index positions (1, 2)"
      ]
     },
     "execution_count": 18,
     "metadata": {},
     "output_type": "execute_result"
    }
   ],
   "source": [
    "g.christoffel_symbols()"
   ]
  },
  {
   "cell_type": "code",
   "execution_count": 19,
   "id": "2d5082bd",
   "metadata": {},
   "outputs": [
    {
     "data": {
      "text/html": [
       "<html>\\[\\newcommand{\\Bold}[1]{\\mathbf{#1}}\\begin{array}{lcl} \\Gamma_{ \\phantom{\\, t} \\, t \\, r }^{ \\, t \\phantom{\\, t} \\phantom{\\, r} } & = & -\\frac{4 \\, l^{2} m^{2} r - m r^{4}}{4 \\, l^{4} m^{2} - 4 \\, l^{2} m^{2} r^{2} + 4 \\, l^{2} m r^{3} - 2 \\, m r^{5} + r^{6}} \\\\ \\Gamma_{ \\phantom{\\, r} \\, t \\, t }^{ \\, r \\phantom{\\, t} \\phantom{\\, t} } & = & -\\frac{8 \\, l^{4} m^{3} r - 8 \\, l^{2} m^{3} r^{3} + 2 \\, l^{2} m^{2} r^{4} + 2 \\, m^{2} r^{6} - m r^{7}}{8 \\, l^{6} m^{3} + 12 \\, l^{4} m^{2} r^{3} + 6 \\, l^{2} m r^{6} + r^{9}} \\\\ \\Gamma_{ \\phantom{\\, r} \\, r \\, r }^{ \\, r \\phantom{\\, r} \\phantom{\\, r} } & = & \\frac{4 \\, l^{2} m^{2} r - m r^{4}}{4 \\, l^{4} m^{2} - 4 \\, l^{2} m^{2} r^{2} + 4 \\, l^{2} m r^{3} - 2 \\, m r^{5} + r^{6}} \\\\ \\Gamma_{ \\phantom{\\, r} \\, {\\theta} \\, {\\theta} }^{ \\, r \\phantom{\\, {\\theta}} \\phantom{\\, {\\theta}} } & = & -\\frac{2 \\, l^{2} m r - 2 \\, m r^{3} + r^{4}}{2 \\, l^{2} m + r^{3}} \\\\ \\Gamma_{ \\phantom{\\, r} \\, {\\phi} \\, {\\phi} }^{ \\, r \\phantom{\\, {\\phi}} \\phantom{\\, {\\phi}} } & = & -\\frac{{\\left(2 \\, l^{2} m r - 2 \\, m r^{3} + r^{4}\\right)} \\sin\\left({\\theta}\\right)^{2}}{2 \\, l^{2} m + r^{3}} \\\\ \\Gamma_{ \\phantom{\\, {\\theta}} \\, r \\, {\\theta} }^{ \\, {\\theta} \\phantom{\\, r} \\phantom{\\, {\\theta}} } & = & \\frac{1}{r} \\\\ \\Gamma_{ \\phantom{\\, {\\theta}} \\, {\\phi} \\, {\\phi} }^{ \\, {\\theta} \\phantom{\\, {\\phi}} \\phantom{\\, {\\phi}} } & = & -\\cos\\left({\\theta}\\right) \\sin\\left({\\theta}\\right) \\\\ \\Gamma_{ \\phantom{\\, {\\phi}} \\, r \\, {\\phi} }^{ \\, {\\phi} \\phantom{\\, r} \\phantom{\\, {\\phi}} } & = & \\frac{1}{r} \\\\ \\Gamma_{ \\phantom{\\, {\\phi}} \\, {\\theta} \\, {\\phi} }^{ \\, {\\phi} \\phantom{\\, {\\theta}} \\phantom{\\, {\\phi}} } & = & \\frac{\\cos\\left({\\theta}\\right)}{\\sin\\left({\\theta}\\right)} \\end{array}\\]</html>"
      ],
      "text/latex": [
       "$$\\newcommand{\\Bold}[1]{\\mathbf{#1}}\\begin{array}{lcl} \\Gamma_{ \\phantom{\\, t} \\, t \\, r }^{ \\, t \\phantom{\\, t} \\phantom{\\, r} } & = & -\\frac{4 \\, l^{2} m^{2} r - m r^{4}}{4 \\, l^{4} m^{2} - 4 \\, l^{2} m^{2} r^{2} + 4 \\, l^{2} m r^{3} - 2 \\, m r^{5} + r^{6}} \\\\ \\Gamma_{ \\phantom{\\, r} \\, t \\, t }^{ \\, r \\phantom{\\, t} \\phantom{\\, t} } & = & -\\frac{8 \\, l^{4} m^{3} r - 8 \\, l^{2} m^{3} r^{3} + 2 \\, l^{2} m^{2} r^{4} + 2 \\, m^{2} r^{6} - m r^{7}}{8 \\, l^{6} m^{3} + 12 \\, l^{4} m^{2} r^{3} + 6 \\, l^{2} m r^{6} + r^{9}} \\\\ \\Gamma_{ \\phantom{\\, r} \\, r \\, r }^{ \\, r \\phantom{\\, r} \\phantom{\\, r} } & = & \\frac{4 \\, l^{2} m^{2} r - m r^{4}}{4 \\, l^{4} m^{2} - 4 \\, l^{2} m^{2} r^{2} + 4 \\, l^{2} m r^{3} - 2 \\, m r^{5} + r^{6}} \\\\ \\Gamma_{ \\phantom{\\, r} \\, {\\theta} \\, {\\theta} }^{ \\, r \\phantom{\\, {\\theta}} \\phantom{\\, {\\theta}} } & = & -\\frac{2 \\, l^{2} m r - 2 \\, m r^{3} + r^{4}}{2 \\, l^{2} m + r^{3}} \\\\ \\Gamma_{ \\phantom{\\, r} \\, {\\phi} \\, {\\phi} }^{ \\, r \\phantom{\\, {\\phi}} \\phantom{\\, {\\phi}} } & = & -\\frac{{\\left(2 \\, l^{2} m r - 2 \\, m r^{3} + r^{4}\\right)} \\sin\\left({\\theta}\\right)^{2}}{2 \\, l^{2} m + r^{3}} \\\\ \\Gamma_{ \\phantom{\\, {\\theta}} \\, r \\, {\\theta} }^{ \\, {\\theta} \\phantom{\\, r} \\phantom{\\, {\\theta}} } & = & \\frac{1}{r} \\\\ \\Gamma_{ \\phantom{\\, {\\theta}} \\, {\\phi} \\, {\\phi} }^{ \\, {\\theta} \\phantom{\\, {\\phi}} \\phantom{\\, {\\phi}} } & = & -\\cos\\left({\\theta}\\right) \\sin\\left({\\theta}\\right) \\\\ \\Gamma_{ \\phantom{\\, {\\phi}} \\, r \\, {\\phi} }^{ \\, {\\phi} \\phantom{\\, r} \\phantom{\\, {\\phi}} } & = & \\frac{1}{r} \\\\ \\Gamma_{ \\phantom{\\, {\\phi}} \\, {\\theta} \\, {\\phi} }^{ \\, {\\phi} \\phantom{\\, {\\theta}} \\phantom{\\, {\\phi}} } & = & \\frac{\\cos\\left({\\theta}\\right)}{\\sin\\left({\\theta}\\right)} \\end{array}$$"
      ],
      "text/plain": [
       "Gam^t_t,r = -(4*l^2*m^2*r - m*r^4)/(4*l^4*m^2 - 4*l^2*m^2*r^2 + 4*l^2*m*r^3 - 2*m*r^5 + r^6) \n",
       "Gam^r_t,t = -(8*l^4*m^3*r - 8*l^2*m^3*r^3 + 2*l^2*m^2*r^4 + 2*m^2*r^6 - m*r^7)/(8*l^6*m^3 + 12*l^4*m^2*r^3 + 6*l^2*m*r^6 + r^9) \n",
       "Gam^r_r,r = (4*l^2*m^2*r - m*r^4)/(4*l^4*m^2 - 4*l^2*m^2*r^2 + 4*l^2*m*r^3 - 2*m*r^5 + r^6) \n",
       "Gam^r_th,th = -(2*l^2*m*r - 2*m*r^3 + r^4)/(2*l^2*m + r^3) \n",
       "Gam^r_ph,ph = -(2*l^2*m*r - 2*m*r^3 + r^4)*sin(th)^2/(2*l^2*m + r^3) \n",
       "Gam^th_r,th = 1/r \n",
       "Gam^th_ph,ph = -cos(th)*sin(th) \n",
       "Gam^ph_r,ph = 1/r \n",
       "Gam^ph_th,ph = cos(th)/sin(th) "
      ]
     },
     "execution_count": 19,
     "metadata": {},
     "output_type": "execute_result"
    }
   ],
   "source": [
    "g.christoffel_symbols_display()"
   ]
  },
  {
   "cell_type": "code",
   "execution_count": 20,
   "id": "b2f2d315",
   "metadata": {},
   "outputs": [
    {
     "data": {
      "text/html": [
       "<html>\\[\\newcommand{\\Bold}[1]{\\mathbf{#1}}-\\frac{{\\left(2 \\, l^{2} m r - 2 \\, m r^{3} + r^{4}\\right)} \\sin\\left({\\theta}\\right)^{2}}{2 \\, l^{2} m + r^{3}}\\]</html>"
      ],
      "text/latex": [
       "$$\\newcommand{\\Bold}[1]{\\mathbf{#1}}-\\frac{{\\left(2 \\, l^{2} m r - 2 \\, m r^{3} + r^{4}\\right)} \\sin\\left({\\theta}\\right)^{2}}{2 \\, l^{2} m + r^{3}}$$"
      ],
      "text/plain": [
       "-(2*l^2*m*r - 2*m*r^3 + r^4)*sin(th)^2/(2*l^2*m + r^3)"
      ]
     },
     "execution_count": 20,
     "metadata": {},
     "output_type": "execute_result"
    }
   ],
   "source": [
    "g.christoffel_symbols()[1,3,3]"
   ]
  },
  {
   "cell_type": "code",
   "execution_count": 21,
   "id": "0a2cf93b",
   "metadata": {},
   "outputs": [
    {
     "data": {
      "text/html": [
       "<html>\\[\\newcommand{\\Bold}[1]{\\mathbf{#1}}\\mathrm{True}\\]</html>"
      ],
      "text/latex": [
       "$$\\newcommand{\\Bold}[1]{\\mathbf{#1}}\\mathrm{True}$$"
      ],
      "text/plain": [
       "True"
      ]
     },
     "execution_count": 21,
     "metadata": {},
     "output_type": "execute_result"
    }
   ],
   "source": [
    "g.christoffel_symbols()[0,0,1] == g.christoffel_symbols()[0,1,0]"
   ]
  },
  {
   "cell_type": "markdown",
   "id": "9093abd2",
   "metadata": {},
   "source": [
    "## 3. Riemann Tensor"
   ]
  },
  {
   "cell_type": "markdown",
   "id": "bea6d040",
   "metadata": {},
   "source": [
    "The Riemann curvature tensor is defined as\n",
    "\n",
    "\\begin{equation}\n",
    "R^\\mu_{\\,\\, \\nu \\rho \\sigma} = \\frac{\\partial \\Gamma^\\mu_{ \\nu \\sigma}}{\\partial x^{\\rho}} - \\frac{\\partial \\Gamma^\\mu_{ \\nu \\rho}}{\\partial x^{\\sigma}} + \\Gamma^{\\alpha}_{\\nu \\sigma}\\Gamma^\\mu_{\\rho \\alpha} - \\Gamma^{\\alpha}_{\\ \\nu \\rho}\\Gamma^\\mu_{\\sigma \\alpha} \n",
    "\\end{equation}"
   ]
  },
  {
   "cell_type": "code",
   "execution_count": 22,
   "id": "a807696a",
   "metadata": {},
   "outputs": [
    {
     "name": "stdout",
     "output_type": "stream",
     "text": [
      "Tensor field Riem(g) of type (1,3) on the 4-dimensional Lorentzian manifold M\n"
     ]
    }
   ],
   "source": [
    "Riemann = g.riemann()\n",
    "print(Riemann)"
   ]
  },
  {
   "cell_type": "code",
   "execution_count": 23,
   "id": "2f4d818f",
   "metadata": {},
   "outputs": [
    {
     "data": {
      "text/html": [
       "<html>\\[\\newcommand{\\Bold}[1]{\\mathbf{#1}}\\left[\\left[\\left[\\left[0, 0, 0, 0\\right], \\left[0, 0, 0, 0\\right], \\left[0, 0, 0, 0\\right], \\left[0, 0, 0, 0\\right]\\right], \\left[\\left[0, \\frac{2 \\, {\\left(4 \\, l^{4} m^{3} - 14 \\, l^{2} m^{2} r^{3} + m r^{6}\\right)}}{8 \\, l^{6} m^{3} - 8 \\, l^{4} m^{3} r^{2} + 12 \\, l^{4} m^{2} r^{3} - 8 \\, l^{2} m^{2} r^{5} + 6 \\, l^{2} m r^{6} - 2 \\, m r^{8} + r^{9}}, 0, 0\\right], \\left[-\\frac{2 \\, {\\left(4 \\, l^{4} m^{3} - 14 \\, l^{2} m^{2} r^{3} + m r^{6}\\right)}}{8 \\, l^{6} m^{3} - 8 \\, l^{4} m^{3} r^{2} + 12 \\, l^{4} m^{2} r^{3} - 8 \\, l^{2} m^{2} r^{5} + 6 \\, l^{2} m r^{6} - 2 \\, m r^{8} + r^{9}}, 0, 0, 0\\right], \\left[0, 0, 0, 0\\right], \\left[0, 0, 0, 0\\right]\\right], \\left[\\left[0, 0, \\frac{4 \\, l^{2} m^{2} r^{2} - m r^{5}}{4 \\, l^{4} m^{2} + 4 \\, l^{2} m r^{3} + r^{6}}, 0\\right], \\left[0, 0, 0, 0\\right], \\left[-\\frac{4 \\, l^{2} m^{2} r^{2} - m r^{5}}{4 \\, l^{4} m^{2} + 4 \\, l^{2} m r^{3} + r^{6}}, 0, 0, 0\\right], \\left[0, 0, 0, 0\\right]\\right], \\left[\\left[0, 0, 0, \\frac{{\\left(4 \\, l^{2} m^{2} r^{2} - m r^{5}\\right)} \\sin\\left({\\theta}\\right)^{2}}{4 \\, l^{4} m^{2} + 4 \\, l^{2} m r^{3} + r^{6}}\\right], \\left[0, 0, 0, 0\\right], \\left[0, 0, 0, 0\\right], \\left[-\\frac{{\\left(4 \\, l^{2} m^{2} r^{2} - m r^{5}\\right)} \\sin\\left({\\theta}\\right)^{2}}{4 \\, l^{4} m^{2} + 4 \\, l^{2} m r^{3} + r^{6}}, 0, 0, 0\\right]\\right]\\right], \\left[\\left[\\left[0, \\frac{2 \\, {\\left(8 \\, l^{6} m^{4} - 8 \\, l^{4} m^{4} r^{2} - 24 \\, l^{4} m^{3} r^{3} + 28 \\, l^{2} m^{3} r^{5} - 12 \\, l^{2} m^{2} r^{6} - 2 \\, m^{2} r^{8} + m r^{9}\\right)}}{16 \\, l^{8} m^{4} + 32 \\, l^{6} m^{3} r^{3} + 24 \\, l^{4} m^{2} r^{6} + 8 \\, l^{2} m r^{9} + r^{12}}, 0, 0\\right], \\left[-\\frac{2 \\, {\\left(8 \\, l^{6} m^{4} - 8 \\, l^{4} m^{4} r^{2} - 24 \\, l^{4} m^{3} r^{3} + 28 \\, l^{2} m^{3} r^{5} - 12 \\, l^{2} m^{2} r^{6} - 2 \\, m^{2} r^{8} + m r^{9}\\right)}}{16 \\, l^{8} m^{4} + 32 \\, l^{6} m^{3} r^{3} + 24 \\, l^{4} m^{2} r^{6} + 8 \\, l^{2} m r^{9} + r^{12}}, 0, 0, 0\\right], \\left[0, 0, 0, 0\\right], \\left[0, 0, 0, 0\\right]\\right], \\left[\\left[0, 0, 0, 0\\right], \\left[0, 0, 0, 0\\right], \\left[0, 0, 0, 0\\right], \\left[0, 0, 0, 0\\right]\\right], \\left[\\left[0, 0, 0, 0\\right], \\left[0, 0, \\frac{4 \\, l^{2} m^{2} r^{2} - m r^{5}}{4 \\, l^{4} m^{2} + 4 \\, l^{2} m r^{3} + r^{6}}, 0\\right], \\left[0, -\\frac{4 \\, l^{2} m^{2} r^{2} - m r^{5}}{4 \\, l^{4} m^{2} + 4 \\, l^{2} m r^{3} + r^{6}}, 0, 0\\right], \\left[0, 0, 0, 0\\right]\\right], \\left[\\left[0, 0, 0, 0\\right], \\left[0, 0, 0, \\frac{{\\left(4 \\, l^{2} m^{2} r^{2} - m r^{5}\\right)} \\sin\\left({\\theta}\\right)^{2}}{4 \\, l^{4} m^{2} + 4 \\, l^{2} m r^{3} + r^{6}}\\right], \\left[0, 0, 0, 0\\right], \\left[0, -\\frac{{\\left(4 \\, l^{2} m^{2} r^{2} - m r^{5}\\right)} \\sin\\left({\\theta}\\right)^{2}}{4 \\, l^{4} m^{2} + 4 \\, l^{2} m r^{3} + r^{6}}, 0, 0\\right]\\right]\\right], \\left[\\left[\\left[0, 0, \\frac{8 \\, l^{4} m^{3} - 8 \\, l^{2} m^{3} r^{2} + 2 \\, l^{2} m^{2} r^{3} + 2 \\, m^{2} r^{5} - m r^{6}}{8 \\, l^{6} m^{3} + 12 \\, l^{4} m^{2} r^{3} + 6 \\, l^{2} m r^{6} + r^{9}}, 0\\right], \\left[0, 0, 0, 0\\right], \\left[-\\frac{8 \\, l^{4} m^{3} - 8 \\, l^{2} m^{3} r^{2} + 2 \\, l^{2} m^{2} r^{3} + 2 \\, m^{2} r^{5} - m r^{6}}{8 \\, l^{6} m^{3} + 12 \\, l^{4} m^{2} r^{3} + 6 \\, l^{2} m r^{6} + r^{9}}, 0, 0, 0\\right], \\left[0, 0, 0, 0\\right]\\right], \\left[\\left[0, 0, 0, 0\\right], \\left[0, 0, -\\frac{4 \\, l^{2} m^{2} - m r^{3}}{4 \\, l^{4} m^{2} - 4 \\, l^{2} m^{2} r^{2} + 4 \\, l^{2} m r^{3} - 2 \\, m r^{5} + r^{6}}, 0\\right], \\left[0, \\frac{4 \\, l^{2} m^{2} - m r^{3}}{4 \\, l^{4} m^{2} - 4 \\, l^{2} m^{2} r^{2} + 4 \\, l^{2} m r^{3} - 2 \\, m r^{5} + r^{6}}, 0, 0\\right], \\left[0, 0, 0, 0\\right]\\right], \\left[\\left[0, 0, 0, 0\\right], \\left[0, 0, 0, 0\\right], \\left[0, 0, 0, 0\\right], \\left[0, 0, 0, 0\\right]\\right], \\left[\\left[0, 0, 0, 0\\right], \\left[0, 0, 0, 0\\right], \\left[0, 0, 0, \\frac{2 \\, m r^{2} \\sin\\left({\\theta}\\right)^{2}}{2 \\, l^{2} m + r^{3}}\\right], \\left[0, 0, -\\frac{2 \\, m r^{2} \\sin\\left({\\theta}\\right)^{2}}{2 \\, l^{2} m + r^{3}}, 0\\right]\\right]\\right], \\left[\\left[\\left[0, 0, 0, \\frac{8 \\, l^{4} m^{3} - 8 \\, l^{2} m^{3} r^{2} + 2 \\, l^{2} m^{2} r^{3} + 2 \\, m^{2} r^{5} - m r^{6}}{8 \\, l^{6} m^{3} + 12 \\, l^{4} m^{2} r^{3} + 6 \\, l^{2} m r^{6} + r^{9}}\\right], \\left[0, 0, 0, 0\\right], \\left[0, 0, 0, 0\\right], \\left[-\\frac{8 \\, l^{4} m^{3} - 8 \\, l^{2} m^{3} r^{2} + 2 \\, l^{2} m^{2} r^{3} + 2 \\, m^{2} r^{5} - m r^{6}}{8 \\, l^{6} m^{3} + 12 \\, l^{4} m^{2} r^{3} + 6 \\, l^{2} m r^{6} + r^{9}}, 0, 0, 0\\right]\\right], \\left[\\left[0, 0, 0, 0\\right], \\left[0, 0, 0, -\\frac{4 \\, l^{2} m^{2} - m r^{3}}{4 \\, l^{4} m^{2} - 4 \\, l^{2} m^{2} r^{2} + 4 \\, l^{2} m r^{3} - 2 \\, m r^{5} + r^{6}}\\right], \\left[0, 0, 0, 0\\right], \\left[0, \\frac{4 \\, l^{2} m^{2} - m r^{3}}{4 \\, l^{4} m^{2} - 4 \\, l^{2} m^{2} r^{2} + 4 \\, l^{2} m r^{3} - 2 \\, m r^{5} + r^{6}}, 0, 0\\right]\\right], \\left[\\left[0, 0, 0, 0\\right], \\left[0, 0, 0, 0\\right], \\left[0, 0, 0, -\\frac{2 \\, m r^{2}}{2 \\, l^{2} m + r^{3}}\\right], \\left[0, 0, \\frac{2 \\, m r^{2}}{2 \\, l^{2} m + r^{3}}, 0\\right]\\right], \\left[\\left[0, 0, 0, 0\\right], \\left[0, 0, 0, 0\\right], \\left[0, 0, 0, 0\\right], \\left[0, 0, 0, 0\\right]\\right]\\right]\\right]\\]</html>"
      ],
      "text/latex": [
       "$$\\newcommand{\\Bold}[1]{\\mathbf{#1}}\\left[\\left[\\left[\\left[0, 0, 0, 0\\right], \\left[0, 0, 0, 0\\right], \\left[0, 0, 0, 0\\right], \\left[0, 0, 0, 0\\right]\\right], \\left[\\left[0, \\frac{2 \\, {\\left(4 \\, l^{4} m^{3} - 14 \\, l^{2} m^{2} r^{3} + m r^{6}\\right)}}{8 \\, l^{6} m^{3} - 8 \\, l^{4} m^{3} r^{2} + 12 \\, l^{4} m^{2} r^{3} - 8 \\, l^{2} m^{2} r^{5} + 6 \\, l^{2} m r^{6} - 2 \\, m r^{8} + r^{9}}, 0, 0\\right], \\left[-\\frac{2 \\, {\\left(4 \\, l^{4} m^{3} - 14 \\, l^{2} m^{2} r^{3} + m r^{6}\\right)}}{8 \\, l^{6} m^{3} - 8 \\, l^{4} m^{3} r^{2} + 12 \\, l^{4} m^{2} r^{3} - 8 \\, l^{2} m^{2} r^{5} + 6 \\, l^{2} m r^{6} - 2 \\, m r^{8} + r^{9}}, 0, 0, 0\\right], \\left[0, 0, 0, 0\\right], \\left[0, 0, 0, 0\\right]\\right], \\left[\\left[0, 0, \\frac{4 \\, l^{2} m^{2} r^{2} - m r^{5}}{4 \\, l^{4} m^{2} + 4 \\, l^{2} m r^{3} + r^{6}}, 0\\right], \\left[0, 0, 0, 0\\right], \\left[-\\frac{4 \\, l^{2} m^{2} r^{2} - m r^{5}}{4 \\, l^{4} m^{2} + 4 \\, l^{2} m r^{3} + r^{6}}, 0, 0, 0\\right], \\left[0, 0, 0, 0\\right]\\right], \\left[\\left[0, 0, 0, \\frac{{\\left(4 \\, l^{2} m^{2} r^{2} - m r^{5}\\right)} \\sin\\left({\\theta}\\right)^{2}}{4 \\, l^{4} m^{2} + 4 \\, l^{2} m r^{3} + r^{6}}\\right], \\left[0, 0, 0, 0\\right], \\left[0, 0, 0, 0\\right], \\left[-\\frac{{\\left(4 \\, l^{2} m^{2} r^{2} - m r^{5}\\right)} \\sin\\left({\\theta}\\right)^{2}}{4 \\, l^{4} m^{2} + 4 \\, l^{2} m r^{3} + r^{6}}, 0, 0, 0\\right]\\right]\\right], \\left[\\left[\\left[0, \\frac{2 \\, {\\left(8 \\, l^{6} m^{4} - 8 \\, l^{4} m^{4} r^{2} - 24 \\, l^{4} m^{3} r^{3} + 28 \\, l^{2} m^{3} r^{5} - 12 \\, l^{2} m^{2} r^{6} - 2 \\, m^{2} r^{8} + m r^{9}\\right)}}{16 \\, l^{8} m^{4} + 32 \\, l^{6} m^{3} r^{3} + 24 \\, l^{4} m^{2} r^{6} + 8 \\, l^{2} m r^{9} + r^{12}}, 0, 0\\right], \\left[-\\frac{2 \\, {\\left(8 \\, l^{6} m^{4} - 8 \\, l^{4} m^{4} r^{2} - 24 \\, l^{4} m^{3} r^{3} + 28 \\, l^{2} m^{3} r^{5} - 12 \\, l^{2} m^{2} r^{6} - 2 \\, m^{2} r^{8} + m r^{9}\\right)}}{16 \\, l^{8} m^{4} + 32 \\, l^{6} m^{3} r^{3} + 24 \\, l^{4} m^{2} r^{6} + 8 \\, l^{2} m r^{9} + r^{12}}, 0, 0, 0\\right], \\left[0, 0, 0, 0\\right], \\left[0, 0, 0, 0\\right]\\right], \\left[\\left[0, 0, 0, 0\\right], \\left[0, 0, 0, 0\\right], \\left[0, 0, 0, 0\\right], \\left[0, 0, 0, 0\\right]\\right], \\left[\\left[0, 0, 0, 0\\right], \\left[0, 0, \\frac{4 \\, l^{2} m^{2} r^{2} - m r^{5}}{4 \\, l^{4} m^{2} + 4 \\, l^{2} m r^{3} + r^{6}}, 0\\right], \\left[0, -\\frac{4 \\, l^{2} m^{2} r^{2} - m r^{5}}{4 \\, l^{4} m^{2} + 4 \\, l^{2} m r^{3} + r^{6}}, 0, 0\\right], \\left[0, 0, 0, 0\\right]\\right], \\left[\\left[0, 0, 0, 0\\right], \\left[0, 0, 0, \\frac{{\\left(4 \\, l^{2} m^{2} r^{2} - m r^{5}\\right)} \\sin\\left({\\theta}\\right)^{2}}{4 \\, l^{4} m^{2} + 4 \\, l^{2} m r^{3} + r^{6}}\\right], \\left[0, 0, 0, 0\\right], \\left[0, -\\frac{{\\left(4 \\, l^{2} m^{2} r^{2} - m r^{5}\\right)} \\sin\\left({\\theta}\\right)^{2}}{4 \\, l^{4} m^{2} + 4 \\, l^{2} m r^{3} + r^{6}}, 0, 0\\right]\\right]\\right], \\left[\\left[\\left[0, 0, \\frac{8 \\, l^{4} m^{3} - 8 \\, l^{2} m^{3} r^{2} + 2 \\, l^{2} m^{2} r^{3} + 2 \\, m^{2} r^{5} - m r^{6}}{8 \\, l^{6} m^{3} + 12 \\, l^{4} m^{2} r^{3} + 6 \\, l^{2} m r^{6} + r^{9}}, 0\\right], \\left[0, 0, 0, 0\\right], \\left[-\\frac{8 \\, l^{4} m^{3} - 8 \\, l^{2} m^{3} r^{2} + 2 \\, l^{2} m^{2} r^{3} + 2 \\, m^{2} r^{5} - m r^{6}}{8 \\, l^{6} m^{3} + 12 \\, l^{4} m^{2} r^{3} + 6 \\, l^{2} m r^{6} + r^{9}}, 0, 0, 0\\right], \\left[0, 0, 0, 0\\right]\\right], \\left[\\left[0, 0, 0, 0\\right], \\left[0, 0, -\\frac{4 \\, l^{2} m^{2} - m r^{3}}{4 \\, l^{4} m^{2} - 4 \\, l^{2} m^{2} r^{2} + 4 \\, l^{2} m r^{3} - 2 \\, m r^{5} + r^{6}}, 0\\right], \\left[0, \\frac{4 \\, l^{2} m^{2} - m r^{3}}{4 \\, l^{4} m^{2} - 4 \\, l^{2} m^{2} r^{2} + 4 \\, l^{2} m r^{3} - 2 \\, m r^{5} + r^{6}}, 0, 0\\right], \\left[0, 0, 0, 0\\right]\\right], \\left[\\left[0, 0, 0, 0\\right], \\left[0, 0, 0, 0\\right], \\left[0, 0, 0, 0\\right], \\left[0, 0, 0, 0\\right]\\right], \\left[\\left[0, 0, 0, 0\\right], \\left[0, 0, 0, 0\\right], \\left[0, 0, 0, \\frac{2 \\, m r^{2} \\sin\\left({\\theta}\\right)^{2}}{2 \\, l^{2} m + r^{3}}\\right], \\left[0, 0, -\\frac{2 \\, m r^{2} \\sin\\left({\\theta}\\right)^{2}}{2 \\, l^{2} m + r^{3}}, 0\\right]\\right]\\right], \\left[\\left[\\left[0, 0, 0, \\frac{8 \\, l^{4} m^{3} - 8 \\, l^{2} m^{3} r^{2} + 2 \\, l^{2} m^{2} r^{3} + 2 \\, m^{2} r^{5} - m r^{6}}{8 \\, l^{6} m^{3} + 12 \\, l^{4} m^{2} r^{3} + 6 \\, l^{2} m r^{6} + r^{9}}\\right], \\left[0, 0, 0, 0\\right], \\left[0, 0, 0, 0\\right], \\left[-\\frac{8 \\, l^{4} m^{3} - 8 \\, l^{2} m^{3} r^{2} + 2 \\, l^{2} m^{2} r^{3} + 2 \\, m^{2} r^{5} - m r^{6}}{8 \\, l^{6} m^{3} + 12 \\, l^{4} m^{2} r^{3} + 6 \\, l^{2} m r^{6} + r^{9}}, 0, 0, 0\\right]\\right], \\left[\\left[0, 0, 0, 0\\right], \\left[0, 0, 0, -\\frac{4 \\, l^{2} m^{2} - m r^{3}}{4 \\, l^{4} m^{2} - 4 \\, l^{2} m^{2} r^{2} + 4 \\, l^{2} m r^{3} - 2 \\, m r^{5} + r^{6}}\\right], \\left[0, 0, 0, 0\\right], \\left[0, \\frac{4 \\, l^{2} m^{2} - m r^{3}}{4 \\, l^{4} m^{2} - 4 \\, l^{2} m^{2} r^{2} + 4 \\, l^{2} m r^{3} - 2 \\, m r^{5} + r^{6}}, 0, 0\\right]\\right], \\left[\\left[0, 0, 0, 0\\right], \\left[0, 0, 0, 0\\right], \\left[0, 0, 0, -\\frac{2 \\, m r^{2}}{2 \\, l^{2} m + r^{3}}\\right], \\left[0, 0, \\frac{2 \\, m r^{2}}{2 \\, l^{2} m + r^{3}}, 0\\right]\\right], \\left[\\left[0, 0, 0, 0\\right], \\left[0, 0, 0, 0\\right], \\left[0, 0, 0, 0\\right], \\left[0, 0, 0, 0\\right]\\right]\\right]\\right]$$"
      ],
      "text/plain": [
       "[[[[0, 0, 0, 0], [0, 0, 0, 0], [0, 0, 0, 0], [0, 0, 0, 0]],\n",
       "  [[0,\n",
       "    2*(4*l^4*m^3 - 14*l^2*m^2*r^3 + m*r^6)/(8*l^6*m^3 - 8*l^4*m^3*r^2 + 12*l^4*m^2*r^3 - 8*l^2*m^2*r^5 + 6*l^2*m*r^6 - 2*m*r^8 + r^9),\n",
       "    0,\n",
       "    0],\n",
       "   [-2*(4*l^4*m^3 - 14*l^2*m^2*r^3 + m*r^6)/(8*l^6*m^3 - 8*l^4*m^3*r^2 + 12*l^4*m^2*r^3 - 8*l^2*m^2*r^5 + 6*l^2*m*r^6 - 2*m*r^8 + r^9),\n",
       "    0,\n",
       "    0,\n",
       "    0],\n",
       "   [0, 0, 0, 0],\n",
       "   [0, 0, 0, 0]],\n",
       "  [[0, 0, (4*l^2*m^2*r^2 - m*r^5)/(4*l^4*m^2 + 4*l^2*m*r^3 + r^6), 0],\n",
       "   [0, 0, 0, 0],\n",
       "   [-(4*l^2*m^2*r^2 - m*r^5)/(4*l^4*m^2 + 4*l^2*m*r^3 + r^6), 0, 0, 0],\n",
       "   [0, 0, 0, 0]],\n",
       "  [[0,\n",
       "    0,\n",
       "    0,\n",
       "    (4*l^2*m^2*r^2 - m*r^5)*sin(th)^2/(4*l^4*m^2 + 4*l^2*m*r^3 + r^6)],\n",
       "   [0, 0, 0, 0],\n",
       "   [0, 0, 0, 0],\n",
       "   [-(4*l^2*m^2*r^2 - m*r^5)*sin(th)^2/(4*l^4*m^2 + 4*l^2*m*r^3 + r^6),\n",
       "    0,\n",
       "    0,\n",
       "    0]]],\n",
       " [[[0,\n",
       "    2*(8*l^6*m^4 - 8*l^4*m^4*r^2 - 24*l^4*m^3*r^3 + 28*l^2*m^3*r^5 - 12*l^2*m^2*r^6 - 2*m^2*r^8 + m*r^9)/(16*l^8*m^4 + 32*l^6*m^3*r^3 + 24*l^4*m^2*r^6 + 8*l^2*m*r^9 + r^12),\n",
       "    0,\n",
       "    0],\n",
       "   [-2*(8*l^6*m^4 - 8*l^4*m^4*r^2 - 24*l^4*m^3*r^3 + 28*l^2*m^3*r^5 - 12*l^2*m^2*r^6 - 2*m^2*r^8 + m*r^9)/(16*l^8*m^4 + 32*l^6*m^3*r^3 + 24*l^4*m^2*r^6 + 8*l^2*m*r^9 + r^12),\n",
       "    0,\n",
       "    0,\n",
       "    0],\n",
       "   [0, 0, 0, 0],\n",
       "   [0, 0, 0, 0]],\n",
       "  [[0, 0, 0, 0], [0, 0, 0, 0], [0, 0, 0, 0], [0, 0, 0, 0]],\n",
       "  [[0, 0, 0, 0],\n",
       "   [0, 0, (4*l^2*m^2*r^2 - m*r^5)/(4*l^4*m^2 + 4*l^2*m*r^3 + r^6), 0],\n",
       "   [0, -(4*l^2*m^2*r^2 - m*r^5)/(4*l^4*m^2 + 4*l^2*m*r^3 + r^6), 0, 0],\n",
       "   [0, 0, 0, 0]],\n",
       "  [[0, 0, 0, 0],\n",
       "   [0,\n",
       "    0,\n",
       "    0,\n",
       "    (4*l^2*m^2*r^2 - m*r^5)*sin(th)^2/(4*l^4*m^2 + 4*l^2*m*r^3 + r^6)],\n",
       "   [0, 0, 0, 0],\n",
       "   [0,\n",
       "    -(4*l^2*m^2*r^2 - m*r^5)*sin(th)^2/(4*l^4*m^2 + 4*l^2*m*r^3 + r^6),\n",
       "    0,\n",
       "    0]]],\n",
       " [[[0,\n",
       "    0,\n",
       "    (8*l^4*m^3 - 8*l^2*m^3*r^2 + 2*l^2*m^2*r^3 + 2*m^2*r^5 - m*r^6)/(8*l^6*m^3 + 12*l^4*m^2*r^3 + 6*l^2*m*r^6 + r^9),\n",
       "    0],\n",
       "   [0, 0, 0, 0],\n",
       "   [-(8*l^4*m^3 - 8*l^2*m^3*r^2 + 2*l^2*m^2*r^3 + 2*m^2*r^5 - m*r^6)/(8*l^6*m^3 + 12*l^4*m^2*r^3 + 6*l^2*m*r^6 + r^9),\n",
       "    0,\n",
       "    0,\n",
       "    0],\n",
       "   [0, 0, 0, 0]],\n",
       "  [[0, 0, 0, 0],\n",
       "   [0,\n",
       "    0,\n",
       "    -(4*l^2*m^2 - m*r^3)/(4*l^4*m^2 - 4*l^2*m^2*r^2 + 4*l^2*m*r^3 - 2*m*r^5 + r^6),\n",
       "    0],\n",
       "   [0,\n",
       "    (4*l^2*m^2 - m*r^3)/(4*l^4*m^2 - 4*l^2*m^2*r^2 + 4*l^2*m*r^3 - 2*m*r^5 + r^6),\n",
       "    0,\n",
       "    0],\n",
       "   [0, 0, 0, 0]],\n",
       "  [[0, 0, 0, 0], [0, 0, 0, 0], [0, 0, 0, 0], [0, 0, 0, 0]],\n",
       "  [[0, 0, 0, 0],\n",
       "   [0, 0, 0, 0],\n",
       "   [0, 0, 0, 2*m*r^2*sin(th)^2/(2*l^2*m + r^3)],\n",
       "   [0, 0, -2*m*r^2*sin(th)^2/(2*l^2*m + r^3), 0]]],\n",
       " [[[0,\n",
       "    0,\n",
       "    0,\n",
       "    (8*l^4*m^3 - 8*l^2*m^3*r^2 + 2*l^2*m^2*r^3 + 2*m^2*r^5 - m*r^6)/(8*l^6*m^3 + 12*l^4*m^2*r^3 + 6*l^2*m*r^6 + r^9)],\n",
       "   [0, 0, 0, 0],\n",
       "   [0, 0, 0, 0],\n",
       "   [-(8*l^4*m^3 - 8*l^2*m^3*r^2 + 2*l^2*m^2*r^3 + 2*m^2*r^5 - m*r^6)/(8*l^6*m^3 + 12*l^4*m^2*r^3 + 6*l^2*m*r^6 + r^9),\n",
       "    0,\n",
       "    0,\n",
       "    0]],\n",
       "  [[0, 0, 0, 0],\n",
       "   [0,\n",
       "    0,\n",
       "    0,\n",
       "    -(4*l^2*m^2 - m*r^3)/(4*l^4*m^2 - 4*l^2*m^2*r^2 + 4*l^2*m*r^3 - 2*m*r^5 + r^6)],\n",
       "   [0, 0, 0, 0],\n",
       "   [0,\n",
       "    (4*l^2*m^2 - m*r^3)/(4*l^4*m^2 - 4*l^2*m^2*r^2 + 4*l^2*m*r^3 - 2*m*r^5 + r^6),\n",
       "    0,\n",
       "    0]],\n",
       "  [[0, 0, 0, 0],\n",
       "   [0, 0, 0, 0],\n",
       "   [0, 0, 0, -2*m*r^2/(2*l^2*m + r^3)],\n",
       "   [0, 0, 2*m*r^2/(2*l^2*m + r^3), 0]],\n",
       "  [[0, 0, 0, 0], [0, 0, 0, 0], [0, 0, 0, 0], [0, 0, 0, 0]]]]"
      ]
     },
     "execution_count": 23,
     "metadata": {},
     "output_type": "execute_result"
    }
   ],
   "source": [
    "Riemann.display()\n",
    "Riemann[:]"
   ]
  },
  {
   "cell_type": "code",
   "execution_count": 24,
   "id": "357c2299",
   "metadata": {},
   "outputs": [
    {
     "data": {
      "text/html": [
       "<html>\\[\\newcommand{\\Bold}[1]{\\mathbf{#1}}\\mbox{Tensor field of type (0,4) on the 4-dimensional Lorentzian manifold M}\\]</html>"
      ],
      "text/latex": [
       "$$\\newcommand{\\Bold}[1]{\\mathbf{#1}}\\mbox{Tensor field of type (0,4) on the 4-dimensional Lorentzian manifold M}$$"
      ],
      "text/plain": [
       "Tensor field of type (0,4) on the 4-dimensional Lorentzian manifold M"
      ]
     },
     "execution_count": 24,
     "metadata": {},
     "output_type": "execute_result"
    }
   ],
   "source": [
    "Riemann_dddd=Riemann.down(g)\n",
    "Riemann_dddd"
   ]
  },
  {
   "cell_type": "code",
   "execution_count": 25,
   "id": "e94b8b68",
   "metadata": {},
   "outputs": [
    {
     "data": {
      "text/html": [
       "<html>\\[\\newcommand{\\Bold}[1]{\\mathbf{#1}}\\mbox{Tensor field of type (2,2) on the 4-dimensional Lorentzian manifold M}\\]</html>"
      ],
      "text/latex": [
       "$$\\newcommand{\\Bold}[1]{\\mathbf{#1}}\\mbox{Tensor field of type (2,2) on the 4-dimensional Lorentzian manifold M}$$"
      ],
      "text/plain": [
       "Tensor field of type (2,2) on the 4-dimensional Lorentzian manifold M"
      ]
     },
     "execution_count": 25,
     "metadata": {},
     "output_type": "execute_result"
    }
   ],
   "source": [
    "Riemann_udud=Riemann.up(g,pos=2)\n",
    "Riemann_udud"
   ]
  },
  {
   "cell_type": "code",
   "execution_count": 26,
   "id": "1da6aa77",
   "metadata": {},
   "outputs": [
    {
     "data": {
      "text/html": [
       "<html>\\[\\newcommand{\\Bold}[1]{\\mathbf{#1}}\\frac{2 \\, {\\left(4 \\, l^{4} m^{3} - 14 \\, l^{2} m^{2} r^{3} + m r^{6}\\right)}}{8 \\, l^{6} m^{3} + 12 \\, l^{4} m^{2} r^{3} + 6 \\, l^{2} m r^{6} + r^{9}}\\]</html>"
      ],
      "text/latex": [
       "$$\\newcommand{\\Bold}[1]{\\mathbf{#1}}\\frac{2 \\, {\\left(4 \\, l^{4} m^{3} - 14 \\, l^{2} m^{2} r^{3} + m r^{6}\\right)}}{8 \\, l^{6} m^{3} + 12 \\, l^{4} m^{2} r^{3} + 6 \\, l^{2} m r^{6} + r^{9}}$$"
      ],
      "text/plain": [
       "2*(4*l^4*m^3 - 14*l^2*m^2*r^3 + m*r^6)/(8*l^6*m^3 + 12*l^4*m^2*r^3 + 6*l^2*m*r^6 + r^9)"
      ]
     },
     "execution_count": 26,
     "metadata": {},
     "output_type": "execute_result"
    }
   ],
   "source": [
    "Riemann_dddd[0,1,1,0]"
   ]
  },
  {
   "cell_type": "code",
   "execution_count": 27,
   "id": "196a3190",
   "metadata": {},
   "outputs": [
    {
     "data": {
      "text/html": [
       "<html>\\[\\newcommand{\\Bold}[1]{\\mathbf{#1}}-\\frac{2 \\, {\\left(4 \\, l^{4} m^{3} - 14 \\, l^{2} m^{2} r^{3} + m r^{6}\\right)}}{8 \\, l^{6} m^{3} + 12 \\, l^{4} m^{2} r^{3} + 6 \\, l^{2} m r^{6} + r^{9}}\\]</html>"
      ],
      "text/latex": [
       "$$\\newcommand{\\Bold}[1]{\\mathbf{#1}}-\\frac{2 \\, {\\left(4 \\, l^{4} m^{3} - 14 \\, l^{2} m^{2} r^{3} + m r^{6}\\right)}}{8 \\, l^{6} m^{3} + 12 \\, l^{4} m^{2} r^{3} + 6 \\, l^{2} m r^{6} + r^{9}}$$"
      ],
      "text/plain": [
       "-2*(4*l^4*m^3 - 14*l^2*m^2*r^3 + m*r^6)/(8*l^6*m^3 + 12*l^4*m^2*r^3 + 6*l^2*m*r^6 + r^9)"
      ]
     },
     "execution_count": 27,
     "metadata": {},
     "output_type": "execute_result"
    }
   ],
   "source": [
    "Riemann_dddd[0,1,0,1]"
   ]
  },
  {
   "cell_type": "code",
   "execution_count": 28,
   "id": "a67d186c",
   "metadata": {},
   "outputs": [
    {
     "data": {
      "text/html": [
       "<html>\\[\\newcommand{\\Bold}[1]{\\mathbf{#1}}\\mathrm{Riem}\\left(g\\right) = \\left( \\frac{2 \\, {\\left(4 \\, l^{4} m^{3} - 14 \\, l^{2} m^{2} r^{3} + m r^{6}\\right)}}{8 \\, l^{6} m^{3} - 8 \\, l^{4} m^{3} r^{2} + 12 \\, l^{4} m^{2} r^{3} - 8 \\, l^{2} m^{2} r^{5} + 6 \\, l^{2} m r^{6} - 2 \\, m r^{8} + r^{9}} \\right) \\frac{\\partial}{\\partial t }\\otimes \\mathrm{d} r\\otimes \\mathrm{d} t\\otimes \\mathrm{d} r + \\left( -\\frac{2 \\, {\\left(4 \\, l^{4} m^{3} - 14 \\, l^{2} m^{2} r^{3} + m r^{6}\\right)}}{8 \\, l^{6} m^{3} - 8 \\, l^{4} m^{3} r^{2} + 12 \\, l^{4} m^{2} r^{3} - 8 \\, l^{2} m^{2} r^{5} + 6 \\, l^{2} m r^{6} - 2 \\, m r^{8} + r^{9}} \\right) \\frac{\\partial}{\\partial t }\\otimes \\mathrm{d} r\\otimes \\mathrm{d} r\\otimes \\mathrm{d} t + \\left( \\frac{4 \\, l^{2} m^{2} r^{2} - m r^{5}}{4 \\, l^{4} m^{2} + 4 \\, l^{2} m r^{3} + r^{6}} \\right) \\frac{\\partial}{\\partial t }\\otimes \\mathrm{d} {\\theta}\\otimes \\mathrm{d} t\\otimes \\mathrm{d} {\\theta} + \\left( -\\frac{4 \\, l^{2} m^{2} r^{2} - m r^{5}}{4 \\, l^{4} m^{2} + 4 \\, l^{2} m r^{3} + r^{6}} \\right) \\frac{\\partial}{\\partial t }\\otimes \\mathrm{d} {\\theta}\\otimes \\mathrm{d} {\\theta}\\otimes \\mathrm{d} t + \\left( \\frac{{\\left(4 \\, l^{2} m^{2} r^{2} - m r^{5}\\right)} \\sin\\left({\\theta}\\right)^{2}}{4 \\, l^{4} m^{2} + 4 \\, l^{2} m r^{3} + r^{6}} \\right) \\frac{\\partial}{\\partial t }\\otimes \\mathrm{d} {\\phi}\\otimes \\mathrm{d} t\\otimes \\mathrm{d} {\\phi} + \\left( -\\frac{{\\left(4 \\, l^{2} m^{2} r^{2} - m r^{5}\\right)} \\sin\\left({\\theta}\\right)^{2}}{4 \\, l^{4} m^{2} + 4 \\, l^{2} m r^{3} + r^{6}} \\right) \\frac{\\partial}{\\partial t }\\otimes \\mathrm{d} {\\phi}\\otimes \\mathrm{d} {\\phi}\\otimes \\mathrm{d} t + \\left( \\frac{2 \\, {\\left(8 \\, l^{6} m^{4} - 8 \\, l^{4} m^{4} r^{2} - 24 \\, l^{4} m^{3} r^{3} + 28 \\, l^{2} m^{3} r^{5} - 12 \\, l^{2} m^{2} r^{6} - 2 \\, m^{2} r^{8} + m r^{9}\\right)}}{16 \\, l^{8} m^{4} + 32 \\, l^{6} m^{3} r^{3} + 24 \\, l^{4} m^{2} r^{6} + 8 \\, l^{2} m r^{9} + r^{12}} \\right) \\frac{\\partial}{\\partial r }\\otimes \\mathrm{d} t\\otimes \\mathrm{d} t\\otimes \\mathrm{d} r + \\left( -\\frac{2 \\, {\\left(8 \\, l^{6} m^{4} - 8 \\, l^{4} m^{4} r^{2} - 24 \\, l^{4} m^{3} r^{3} + 28 \\, l^{2} m^{3} r^{5} - 12 \\, l^{2} m^{2} r^{6} - 2 \\, m^{2} r^{8} + m r^{9}\\right)}}{16 \\, l^{8} m^{4} + 32 \\, l^{6} m^{3} r^{3} + 24 \\, l^{4} m^{2} r^{6} + 8 \\, l^{2} m r^{9} + r^{12}} \\right) \\frac{\\partial}{\\partial r }\\otimes \\mathrm{d} t\\otimes \\mathrm{d} r\\otimes \\mathrm{d} t + \\left( \\frac{4 \\, l^{2} m^{2} r^{2} - m r^{5}}{4 \\, l^{4} m^{2} + 4 \\, l^{2} m r^{3} + r^{6}} \\right) \\frac{\\partial}{\\partial r }\\otimes \\mathrm{d} {\\theta}\\otimes \\mathrm{d} r\\otimes \\mathrm{d} {\\theta} + \\left( -\\frac{4 \\, l^{2} m^{2} r^{2} - m r^{5}}{4 \\, l^{4} m^{2} + 4 \\, l^{2} m r^{3} + r^{6}} \\right) \\frac{\\partial}{\\partial r }\\otimes \\mathrm{d} {\\theta}\\otimes \\mathrm{d} {\\theta}\\otimes \\mathrm{d} r + \\left( \\frac{{\\left(4 \\, l^{2} m^{2} r^{2} - m r^{5}\\right)} \\sin\\left({\\theta}\\right)^{2}}{4 \\, l^{4} m^{2} + 4 \\, l^{2} m r^{3} + r^{6}} \\right) \\frac{\\partial}{\\partial r }\\otimes \\mathrm{d} {\\phi}\\otimes \\mathrm{d} r\\otimes \\mathrm{d} {\\phi} + \\left( -\\frac{{\\left(4 \\, l^{2} m^{2} r^{2} - m r^{5}\\right)} \\sin\\left({\\theta}\\right)^{2}}{4 \\, l^{4} m^{2} + 4 \\, l^{2} m r^{3} + r^{6}} \\right) \\frac{\\partial}{\\partial r }\\otimes \\mathrm{d} {\\phi}\\otimes \\mathrm{d} {\\phi}\\otimes \\mathrm{d} r + \\left( \\frac{8 \\, l^{4} m^{3} - 8 \\, l^{2} m^{3} r^{2} + 2 \\, l^{2} m^{2} r^{3} + 2 \\, m^{2} r^{5} - m r^{6}}{8 \\, l^{6} m^{3} + 12 \\, l^{4} m^{2} r^{3} + 6 \\, l^{2} m r^{6} + r^{9}} \\right) \\frac{\\partial}{\\partial {\\theta} }\\otimes \\mathrm{d} t\\otimes \\mathrm{d} t\\otimes \\mathrm{d} {\\theta} + \\left( -\\frac{8 \\, l^{4} m^{3} - 8 \\, l^{2} m^{3} r^{2} + 2 \\, l^{2} m^{2} r^{3} + 2 \\, m^{2} r^{5} - m r^{6}}{8 \\, l^{6} m^{3} + 12 \\, l^{4} m^{2} r^{3} + 6 \\, l^{2} m r^{6} + r^{9}} \\right) \\frac{\\partial}{\\partial {\\theta} }\\otimes \\mathrm{d} t\\otimes \\mathrm{d} {\\theta}\\otimes \\mathrm{d} t + \\left( -\\frac{4 \\, l^{2} m^{2} - m r^{3}}{4 \\, l^{4} m^{2} - 4 \\, l^{2} m^{2} r^{2} + 4 \\, l^{2} m r^{3} - 2 \\, m r^{5} + r^{6}} \\right) \\frac{\\partial}{\\partial {\\theta} }\\otimes \\mathrm{d} r\\otimes \\mathrm{d} r\\otimes \\mathrm{d} {\\theta} + \\left( \\frac{4 \\, l^{2} m^{2} - m r^{3}}{4 \\, l^{4} m^{2} - 4 \\, l^{2} m^{2} r^{2} + 4 \\, l^{2} m r^{3} - 2 \\, m r^{5} + r^{6}} \\right) \\frac{\\partial}{\\partial {\\theta} }\\otimes \\mathrm{d} r\\otimes \\mathrm{d} {\\theta}\\otimes \\mathrm{d} r + \\left( \\frac{2 \\, m r^{2} \\sin\\left({\\theta}\\right)^{2}}{2 \\, l^{2} m + r^{3}} \\right) \\frac{\\partial}{\\partial {\\theta} }\\otimes \\mathrm{d} {\\phi}\\otimes \\mathrm{d} {\\theta}\\otimes \\mathrm{d} {\\phi} + \\left( -\\frac{2 \\, m r^{2} \\sin\\left({\\theta}\\right)^{2}}{2 \\, l^{2} m + r^{3}} \\right) \\frac{\\partial}{\\partial {\\theta} }\\otimes \\mathrm{d} {\\phi}\\otimes \\mathrm{d} {\\phi}\\otimes \\mathrm{d} {\\theta} + \\left( \\frac{8 \\, l^{4} m^{3} - 8 \\, l^{2} m^{3} r^{2} + 2 \\, l^{2} m^{2} r^{3} + 2 \\, m^{2} r^{5} - m r^{6}}{8 \\, l^{6} m^{3} + 12 \\, l^{4} m^{2} r^{3} + 6 \\, l^{2} m r^{6} + r^{9}} \\right) \\frac{\\partial}{\\partial {\\phi} }\\otimes \\mathrm{d} t\\otimes \\mathrm{d} t\\otimes \\mathrm{d} {\\phi} + \\left( -\\frac{8 \\, l^{4} m^{3} - 8 \\, l^{2} m^{3} r^{2} + 2 \\, l^{2} m^{2} r^{3} + 2 \\, m^{2} r^{5} - m r^{6}}{8 \\, l^{6} m^{3} + 12 \\, l^{4} m^{2} r^{3} + 6 \\, l^{2} m r^{6} + r^{9}} \\right) \\frac{\\partial}{\\partial {\\phi} }\\otimes \\mathrm{d} t\\otimes \\mathrm{d} {\\phi}\\otimes \\mathrm{d} t + \\left( -\\frac{4 \\, l^{2} m^{2} - m r^{3}}{4 \\, l^{4} m^{2} - 4 \\, l^{2} m^{2} r^{2} + 4 \\, l^{2} m r^{3} - 2 \\, m r^{5} + r^{6}} \\right) \\frac{\\partial}{\\partial {\\phi} }\\otimes \\mathrm{d} r\\otimes \\mathrm{d} r\\otimes \\mathrm{d} {\\phi} + \\left( \\frac{4 \\, l^{2} m^{2} - m r^{3}}{4 \\, l^{4} m^{2} - 4 \\, l^{2} m^{2} r^{2} + 4 \\, l^{2} m r^{3} - 2 \\, m r^{5} + r^{6}} \\right) \\frac{\\partial}{\\partial {\\phi} }\\otimes \\mathrm{d} r\\otimes \\mathrm{d} {\\phi}\\otimes \\mathrm{d} r + \\left( -\\frac{2 \\, m r^{2}}{2 \\, l^{2} m + r^{3}} \\right) \\frac{\\partial}{\\partial {\\phi} }\\otimes \\mathrm{d} {\\theta}\\otimes \\mathrm{d} {\\theta}\\otimes \\mathrm{d} {\\phi} + \\left( \\frac{2 \\, m r^{2}}{2 \\, l^{2} m + r^{3}} \\right) \\frac{\\partial}{\\partial {\\phi} }\\otimes \\mathrm{d} {\\theta}\\otimes \\mathrm{d} {\\phi}\\otimes \\mathrm{d} {\\theta}\\]</html>"
      ],
      "text/latex": [
       "$$\\newcommand{\\Bold}[1]{\\mathbf{#1}}\\mathrm{Riem}\\left(g\\right) = \\left( \\frac{2 \\, {\\left(4 \\, l^{4} m^{3} - 14 \\, l^{2} m^{2} r^{3} + m r^{6}\\right)}}{8 \\, l^{6} m^{3} - 8 \\, l^{4} m^{3} r^{2} + 12 \\, l^{4} m^{2} r^{3} - 8 \\, l^{2} m^{2} r^{5} + 6 \\, l^{2} m r^{6} - 2 \\, m r^{8} + r^{9}} \\right) \\frac{\\partial}{\\partial t }\\otimes \\mathrm{d} r\\otimes \\mathrm{d} t\\otimes \\mathrm{d} r + \\left( -\\frac{2 \\, {\\left(4 \\, l^{4} m^{3} - 14 \\, l^{2} m^{2} r^{3} + m r^{6}\\right)}}{8 \\, l^{6} m^{3} - 8 \\, l^{4} m^{3} r^{2} + 12 \\, l^{4} m^{2} r^{3} - 8 \\, l^{2} m^{2} r^{5} + 6 \\, l^{2} m r^{6} - 2 \\, m r^{8} + r^{9}} \\right) \\frac{\\partial}{\\partial t }\\otimes \\mathrm{d} r\\otimes \\mathrm{d} r\\otimes \\mathrm{d} t + \\left( \\frac{4 \\, l^{2} m^{2} r^{2} - m r^{5}}{4 \\, l^{4} m^{2} + 4 \\, l^{2} m r^{3} + r^{6}} \\right) \\frac{\\partial}{\\partial t }\\otimes \\mathrm{d} {\\theta}\\otimes \\mathrm{d} t\\otimes \\mathrm{d} {\\theta} + \\left( -\\frac{4 \\, l^{2} m^{2} r^{2} - m r^{5}}{4 \\, l^{4} m^{2} + 4 \\, l^{2} m r^{3} + r^{6}} \\right) \\frac{\\partial}{\\partial t }\\otimes \\mathrm{d} {\\theta}\\otimes \\mathrm{d} {\\theta}\\otimes \\mathrm{d} t + \\left( \\frac{{\\left(4 \\, l^{2} m^{2} r^{2} - m r^{5}\\right)} \\sin\\left({\\theta}\\right)^{2}}{4 \\, l^{4} m^{2} + 4 \\, l^{2} m r^{3} + r^{6}} \\right) \\frac{\\partial}{\\partial t }\\otimes \\mathrm{d} {\\phi}\\otimes \\mathrm{d} t\\otimes \\mathrm{d} {\\phi} + \\left( -\\frac{{\\left(4 \\, l^{2} m^{2} r^{2} - m r^{5}\\right)} \\sin\\left({\\theta}\\right)^{2}}{4 \\, l^{4} m^{2} + 4 \\, l^{2} m r^{3} + r^{6}} \\right) \\frac{\\partial}{\\partial t }\\otimes \\mathrm{d} {\\phi}\\otimes \\mathrm{d} {\\phi}\\otimes \\mathrm{d} t + \\left( \\frac{2 \\, {\\left(8 \\, l^{6} m^{4} - 8 \\, l^{4} m^{4} r^{2} - 24 \\, l^{4} m^{3} r^{3} + 28 \\, l^{2} m^{3} r^{5} - 12 \\, l^{2} m^{2} r^{6} - 2 \\, m^{2} r^{8} + m r^{9}\\right)}}{16 \\, l^{8} m^{4} + 32 \\, l^{6} m^{3} r^{3} + 24 \\, l^{4} m^{2} r^{6} + 8 \\, l^{2} m r^{9} + r^{12}} \\right) \\frac{\\partial}{\\partial r }\\otimes \\mathrm{d} t\\otimes \\mathrm{d} t\\otimes \\mathrm{d} r + \\left( -\\frac{2 \\, {\\left(8 \\, l^{6} m^{4} - 8 \\, l^{4} m^{4} r^{2} - 24 \\, l^{4} m^{3} r^{3} + 28 \\, l^{2} m^{3} r^{5} - 12 \\, l^{2} m^{2} r^{6} - 2 \\, m^{2} r^{8} + m r^{9}\\right)}}{16 \\, l^{8} m^{4} + 32 \\, l^{6} m^{3} r^{3} + 24 \\, l^{4} m^{2} r^{6} + 8 \\, l^{2} m r^{9} + r^{12}} \\right) \\frac{\\partial}{\\partial r }\\otimes \\mathrm{d} t\\otimes \\mathrm{d} r\\otimes \\mathrm{d} t + \\left( \\frac{4 \\, l^{2} m^{2} r^{2} - m r^{5}}{4 \\, l^{4} m^{2} + 4 \\, l^{2} m r^{3} + r^{6}} \\right) \\frac{\\partial}{\\partial r }\\otimes \\mathrm{d} {\\theta}\\otimes \\mathrm{d} r\\otimes \\mathrm{d} {\\theta} + \\left( -\\frac{4 \\, l^{2} m^{2} r^{2} - m r^{5}}{4 \\, l^{4} m^{2} + 4 \\, l^{2} m r^{3} + r^{6}} \\right) \\frac{\\partial}{\\partial r }\\otimes \\mathrm{d} {\\theta}\\otimes \\mathrm{d} {\\theta}\\otimes \\mathrm{d} r + \\left( \\frac{{\\left(4 \\, l^{2} m^{2} r^{2} - m r^{5}\\right)} \\sin\\left({\\theta}\\right)^{2}}{4 \\, l^{4} m^{2} + 4 \\, l^{2} m r^{3} + r^{6}} \\right) \\frac{\\partial}{\\partial r }\\otimes \\mathrm{d} {\\phi}\\otimes \\mathrm{d} r\\otimes \\mathrm{d} {\\phi} + \\left( -\\frac{{\\left(4 \\, l^{2} m^{2} r^{2} - m r^{5}\\right)} \\sin\\left({\\theta}\\right)^{2}}{4 \\, l^{4} m^{2} + 4 \\, l^{2} m r^{3} + r^{6}} \\right) \\frac{\\partial}{\\partial r }\\otimes \\mathrm{d} {\\phi}\\otimes \\mathrm{d} {\\phi}\\otimes \\mathrm{d} r + \\left( \\frac{8 \\, l^{4} m^{3} - 8 \\, l^{2} m^{3} r^{2} + 2 \\, l^{2} m^{2} r^{3} + 2 \\, m^{2} r^{5} - m r^{6}}{8 \\, l^{6} m^{3} + 12 \\, l^{4} m^{2} r^{3} + 6 \\, l^{2} m r^{6} + r^{9}} \\right) \\frac{\\partial}{\\partial {\\theta} }\\otimes \\mathrm{d} t\\otimes \\mathrm{d} t\\otimes \\mathrm{d} {\\theta} + \\left( -\\frac{8 \\, l^{4} m^{3} - 8 \\, l^{2} m^{3} r^{2} + 2 \\, l^{2} m^{2} r^{3} + 2 \\, m^{2} r^{5} - m r^{6}}{8 \\, l^{6} m^{3} + 12 \\, l^{4} m^{2} r^{3} + 6 \\, l^{2} m r^{6} + r^{9}} \\right) \\frac{\\partial}{\\partial {\\theta} }\\otimes \\mathrm{d} t\\otimes \\mathrm{d} {\\theta}\\otimes \\mathrm{d} t + \\left( -\\frac{4 \\, l^{2} m^{2} - m r^{3}}{4 \\, l^{4} m^{2} - 4 \\, l^{2} m^{2} r^{2} + 4 \\, l^{2} m r^{3} - 2 \\, m r^{5} + r^{6}} \\right) \\frac{\\partial}{\\partial {\\theta} }\\otimes \\mathrm{d} r\\otimes \\mathrm{d} r\\otimes \\mathrm{d} {\\theta} + \\left( \\frac{4 \\, l^{2} m^{2} - m r^{3}}{4 \\, l^{4} m^{2} - 4 \\, l^{2} m^{2} r^{2} + 4 \\, l^{2} m r^{3} - 2 \\, m r^{5} + r^{6}} \\right) \\frac{\\partial}{\\partial {\\theta} }\\otimes \\mathrm{d} r\\otimes \\mathrm{d} {\\theta}\\otimes \\mathrm{d} r + \\left( \\frac{2 \\, m r^{2} \\sin\\left({\\theta}\\right)^{2}}{2 \\, l^{2} m + r^{3}} \\right) \\frac{\\partial}{\\partial {\\theta} }\\otimes \\mathrm{d} {\\phi}\\otimes \\mathrm{d} {\\theta}\\otimes \\mathrm{d} {\\phi} + \\left( -\\frac{2 \\, m r^{2} \\sin\\left({\\theta}\\right)^{2}}{2 \\, l^{2} m + r^{3}} \\right) \\frac{\\partial}{\\partial {\\theta} }\\otimes \\mathrm{d} {\\phi}\\otimes \\mathrm{d} {\\phi}\\otimes \\mathrm{d} {\\theta} + \\left( \\frac{8 \\, l^{4} m^{3} - 8 \\, l^{2} m^{3} r^{2} + 2 \\, l^{2} m^{2} r^{3} + 2 \\, m^{2} r^{5} - m r^{6}}{8 \\, l^{6} m^{3} + 12 \\, l^{4} m^{2} r^{3} + 6 \\, l^{2} m r^{6} + r^{9}} \\right) \\frac{\\partial}{\\partial {\\phi} }\\otimes \\mathrm{d} t\\otimes \\mathrm{d} t\\otimes \\mathrm{d} {\\phi} + \\left( -\\frac{8 \\, l^{4} m^{3} - 8 \\, l^{2} m^{3} r^{2} + 2 \\, l^{2} m^{2} r^{3} + 2 \\, m^{2} r^{5} - m r^{6}}{8 \\, l^{6} m^{3} + 12 \\, l^{4} m^{2} r^{3} + 6 \\, l^{2} m r^{6} + r^{9}} \\right) \\frac{\\partial}{\\partial {\\phi} }\\otimes \\mathrm{d} t\\otimes \\mathrm{d} {\\phi}\\otimes \\mathrm{d} t + \\left( -\\frac{4 \\, l^{2} m^{2} - m r^{3}}{4 \\, l^{4} m^{2} - 4 \\, l^{2} m^{2} r^{2} + 4 \\, l^{2} m r^{3} - 2 \\, m r^{5} + r^{6}} \\right) \\frac{\\partial}{\\partial {\\phi} }\\otimes \\mathrm{d} r\\otimes \\mathrm{d} r\\otimes \\mathrm{d} {\\phi} + \\left( \\frac{4 \\, l^{2} m^{2} - m r^{3}}{4 \\, l^{4} m^{2} - 4 \\, l^{2} m^{2} r^{2} + 4 \\, l^{2} m r^{3} - 2 \\, m r^{5} + r^{6}} \\right) \\frac{\\partial}{\\partial {\\phi} }\\otimes \\mathrm{d} r\\otimes \\mathrm{d} {\\phi}\\otimes \\mathrm{d} r + \\left( -\\frac{2 \\, m r^{2}}{2 \\, l^{2} m + r^{3}} \\right) \\frac{\\partial}{\\partial {\\phi} }\\otimes \\mathrm{d} {\\theta}\\otimes \\mathrm{d} {\\theta}\\otimes \\mathrm{d} {\\phi} + \\left( \\frac{2 \\, m r^{2}}{2 \\, l^{2} m + r^{3}} \\right) \\frac{\\partial}{\\partial {\\phi} }\\otimes \\mathrm{d} {\\theta}\\otimes \\mathrm{d} {\\phi}\\otimes \\mathrm{d} {\\theta}$$"
      ],
      "text/plain": [
       "Riem(g) = 2*(4*l^4*m^3 - 14*l^2*m^2*r^3 + m*r^6)/(8*l^6*m^3 - 8*l^4*m^3*r^2 + 12*l^4*m^2*r^3 - 8*l^2*m^2*r^5 + 6*l^2*m*r^6 - 2*m*r^8 + r^9) ∂/∂t⊗dr⊗dt⊗dr - 2*(4*l^4*m^3 - 14*l^2*m^2*r^3 + m*r^6)/(8*l^6*m^3 - 8*l^4*m^3*r^2 + 12*l^4*m^2*r^3 - 8*l^2*m^2*r^5 + 6*l^2*m*r^6 - 2*m*r^8 + r^9) ∂/∂t⊗dr⊗dr⊗dt + (4*l^2*m^2*r^2 - m*r^5)/(4*l^4*m^2 + 4*l^2*m*r^3 + r^6) ∂/∂t⊗dth⊗dt⊗dth - (4*l^2*m^2*r^2 - m*r^5)/(4*l^4*m^2 + 4*l^2*m*r^3 + r^6) ∂/∂t⊗dth⊗dth⊗dt + (4*l^2*m^2*r^2 - m*r^5)*sin(th)^2/(4*l^4*m^2 + 4*l^2*m*r^3 + r^6) ∂/∂t⊗dph⊗dt⊗dph - (4*l^2*m^2*r^2 - m*r^5)*sin(th)^2/(4*l^4*m^2 + 4*l^2*m*r^3 + r^6) ∂/∂t⊗dph⊗dph⊗dt + 2*(8*l^6*m^4 - 8*l^4*m^4*r^2 - 24*l^4*m^3*r^3 + 28*l^2*m^3*r^5 - 12*l^2*m^2*r^6 - 2*m^2*r^8 + m*r^9)/(16*l^8*m^4 + 32*l^6*m^3*r^3 + 24*l^4*m^2*r^6 + 8*l^2*m*r^9 + r^12) ∂/∂r⊗dt⊗dt⊗dr - 2*(8*l^6*m^4 - 8*l^4*m^4*r^2 - 24*l^4*m^3*r^3 + 28*l^2*m^3*r^5 - 12*l^2*m^2*r^6 - 2*m^2*r^8 + m*r^9)/(16*l^8*m^4 + 32*l^6*m^3*r^3 + 24*l^4*m^2*r^6 + 8*l^2*m*r^9 + r^12) ∂/∂r⊗dt⊗dr⊗dt + (4*l^2*m^2*r^2 - m*r^5)/(4*l^4*m^2 + 4*l^2*m*r^3 + r^6) ∂/∂r⊗dth⊗dr⊗dth - (4*l^2*m^2*r^2 - m*r^5)/(4*l^4*m^2 + 4*l^2*m*r^3 + r^6) ∂/∂r⊗dth⊗dth⊗dr + (4*l^2*m^2*r^2 - m*r^5)*sin(th)^2/(4*l^4*m^2 + 4*l^2*m*r^3 + r^6) ∂/∂r⊗dph⊗dr⊗dph - (4*l^2*m^2*r^2 - m*r^5)*sin(th)^2/(4*l^4*m^2 + 4*l^2*m*r^3 + r^6) ∂/∂r⊗dph⊗dph⊗dr + (8*l^4*m^3 - 8*l^2*m^3*r^2 + 2*l^2*m^2*r^3 + 2*m^2*r^5 - m*r^6)/(8*l^6*m^3 + 12*l^4*m^2*r^3 + 6*l^2*m*r^6 + r^9) ∂/∂th⊗dt⊗dt⊗dth - (8*l^4*m^3 - 8*l^2*m^3*r^2 + 2*l^2*m^2*r^3 + 2*m^2*r^5 - m*r^6)/(8*l^6*m^3 + 12*l^4*m^2*r^3 + 6*l^2*m*r^6 + r^9) ∂/∂th⊗dt⊗dth⊗dt - (4*l^2*m^2 - m*r^3)/(4*l^4*m^2 - 4*l^2*m^2*r^2 + 4*l^2*m*r^3 - 2*m*r^5 + r^6) ∂/∂th⊗dr⊗dr⊗dth + (4*l^2*m^2 - m*r^3)/(4*l^4*m^2 - 4*l^2*m^2*r^2 + 4*l^2*m*r^3 - 2*m*r^5 + r^6) ∂/∂th⊗dr⊗dth⊗dr + 2*m*r^2*sin(th)^2/(2*l^2*m + r^3) ∂/∂th⊗dph⊗dth⊗dph - 2*m*r^2*sin(th)^2/(2*l^2*m + r^3) ∂/∂th⊗dph⊗dph⊗dth + (8*l^4*m^3 - 8*l^2*m^3*r^2 + 2*l^2*m^2*r^3 + 2*m^2*r^5 - m*r^6)/(8*l^6*m^3 + 12*l^4*m^2*r^3 + 6*l^2*m*r^6 + r^9) ∂/∂ph⊗dt⊗dt⊗dph - (8*l^4*m^3 - 8*l^2*m^3*r^2 + 2*l^2*m^2*r^3 + 2*m^2*r^5 - m*r^6)/(8*l^6*m^3 + 12*l^4*m^2*r^3 + 6*l^2*m*r^6 + r^9) ∂/∂ph⊗dt⊗dph⊗dt - (4*l^2*m^2 - m*r^3)/(4*l^4*m^2 - 4*l^2*m^2*r^2 + 4*l^2*m*r^3 - 2*m*r^5 + r^6) ∂/∂ph⊗dr⊗dr⊗dph + (4*l^2*m^2 - m*r^3)/(4*l^4*m^2 - 4*l^2*m^2*r^2 + 4*l^2*m*r^3 - 2*m*r^5 + r^6) ∂/∂ph⊗dr⊗dph⊗dr - 2*m*r^2/(2*l^2*m + r^3) ∂/∂ph⊗dth⊗dth⊗dph + 2*m*r^2/(2*l^2*m + r^3) ∂/∂ph⊗dth⊗dph⊗dth"
      ]
     },
     "execution_count": 28,
     "metadata": {},
     "output_type": "execute_result"
    }
   ],
   "source": [
    "Riemann.display()"
   ]
  },
  {
   "cell_type": "markdown",
   "id": "f0f95935",
   "metadata": {},
   "source": [
    "## 4. Ricci Tensor"
   ]
  },
  {
   "cell_type": "markdown",
   "id": "4255ea4e",
   "metadata": {},
   "source": [
    "The Ricci Tensor is:\n",
    "\\begin{equation}\n",
    "R_{\\mu \\nu} = R^\\alpha_{\\,\\, \\mu \\alpha \\nu} = g ^{\\alpha \\beta} R_{\\alpha \\mu \\beta \\nu}\n",
    "\\end{equation}"
   ]
  },
  {
   "cell_type": "code",
   "execution_count": 29,
   "id": "70a53d1b",
   "metadata": {},
   "outputs": [
    {
     "data": {
      "text/html": [
       "<html>\\[\\newcommand{\\Bold}[1]{\\mathbf{#1}}\\left( -\\frac{24 \\, {\\left(2 \\, l^{6} m^{4} - 2 \\, l^{4} m^{4} r^{2} - l^{4} m^{3} r^{3} + 2 \\, l^{2} m^{3} r^{5} - l^{2} m^{2} r^{6}\\right)}}{16 \\, l^{8} m^{4} + 32 \\, l^{6} m^{3} r^{3} + 24 \\, l^{4} m^{2} r^{6} + 8 \\, l^{2} m r^{9} + r^{12}} \\right) \\mathrm{d} t\\otimes \\mathrm{d} t + \\left( \\frac{24 \\, {\\left(l^{4} m^{3} - l^{2} m^{2} r^{3}\\right)}}{8 \\, l^{6} m^{3} - 8 \\, l^{4} m^{3} r^{2} + 12 \\, l^{4} m^{2} r^{3} - 8 \\, l^{2} m^{2} r^{5} + 6 \\, l^{2} m r^{6} - 2 \\, m r^{8} + r^{9}} \\right) \\mathrm{d} r\\otimes \\mathrm{d} r + \\left( \\frac{12 \\, l^{2} m^{2} r^{2}}{4 \\, l^{4} m^{2} + 4 \\, l^{2} m r^{3} + r^{6}} \\right) \\mathrm{d} {\\theta}\\otimes \\mathrm{d} {\\theta} + \\left( \\frac{12 \\, l^{2} m^{2} r^{2} \\sin\\left({\\theta}\\right)^{2}}{4 \\, l^{4} m^{2} + 4 \\, l^{2} m r^{3} + r^{6}} \\right) \\mathrm{d} {\\phi}\\otimes \\mathrm{d} {\\phi}\\]</html>"
      ],
      "text/latex": [
       "$$\\newcommand{\\Bold}[1]{\\mathbf{#1}}\\left( -\\frac{24 \\, {\\left(2 \\, l^{6} m^{4} - 2 \\, l^{4} m^{4} r^{2} - l^{4} m^{3} r^{3} + 2 \\, l^{2} m^{3} r^{5} - l^{2} m^{2} r^{6}\\right)}}{16 \\, l^{8} m^{4} + 32 \\, l^{6} m^{3} r^{3} + 24 \\, l^{4} m^{2} r^{6} + 8 \\, l^{2} m r^{9} + r^{12}} \\right) \\mathrm{d} t\\otimes \\mathrm{d} t + \\left( \\frac{24 \\, {\\left(l^{4} m^{3} - l^{2} m^{2} r^{3}\\right)}}{8 \\, l^{6} m^{3} - 8 \\, l^{4} m^{3} r^{2} + 12 \\, l^{4} m^{2} r^{3} - 8 \\, l^{2} m^{2} r^{5} + 6 \\, l^{2} m r^{6} - 2 \\, m r^{8} + r^{9}} \\right) \\mathrm{d} r\\otimes \\mathrm{d} r + \\left( \\frac{12 \\, l^{2} m^{2} r^{2}}{4 \\, l^{4} m^{2} + 4 \\, l^{2} m r^{3} + r^{6}} \\right) \\mathrm{d} {\\theta}\\otimes \\mathrm{d} {\\theta} + \\left( \\frac{12 \\, l^{2} m^{2} r^{2} \\sin\\left({\\theta}\\right)^{2}}{4 \\, l^{4} m^{2} + 4 \\, l^{2} m r^{3} + r^{6}} \\right) \\mathrm{d} {\\phi}\\otimes \\mathrm{d} {\\phi}$$"
      ],
      "text/plain": [
       "-24*(2*l^6*m^4 - 2*l^4*m^4*r^2 - l^4*m^3*r^3 + 2*l^2*m^3*r^5 - l^2*m^2*r^6)/(16*l^8*m^4 + 32*l^6*m^3*r^3 + 24*l^4*m^2*r^6 + 8*l^2*m*r^9 + r^12) dt⊗dt + 24*(l^4*m^3 - l^2*m^2*r^3)/(8*l^6*m^3 - 8*l^4*m^3*r^2 + 12*l^4*m^2*r^3 - 8*l^2*m^2*r^5 + 6*l^2*m*r^6 - 2*m*r^8 + r^9) dr⊗dr + 12*l^2*m^2*r^2/(4*l^4*m^2 + 4*l^2*m*r^3 + r^6) dth⊗dth + 12*l^2*m^2*r^2*sin(th)^2/(4*l^4*m^2 + 4*l^2*m*r^3 + r^6) dph⊗dph"
      ]
     },
     "execution_count": 29,
     "metadata": {},
     "output_type": "execute_result"
    }
   ],
   "source": [
    "Ricci = g_uu['^{ab}'] * Riemann_dddd['_{acbd}']\n",
    "Ricci.display()"
   ]
  },
  {
   "cell_type": "code",
   "execution_count": 10,
   "id": "5774060f",
   "metadata": {},
   "outputs": [
    {
     "data": {
      "text/html": [
       "<html>\\[\\newcommand{\\Bold}[1]{\\mathbf{#1}}\\left(\\begin{array}{rrrr}\n",
       "0 & 0 & 0 & 0 \\\\\n",
       "0 & 0 & 0 & 0 \\\\\n",
       "0 & 0 & 0 & 0 \\\\\n",
       "0 & 0 & 0 & 0\n",
       "\\end{array}\\right)\\]</html>"
      ],
      "text/latex": [
       "$$\\newcommand{\\Bold}[1]{\\mathbf{#1}}\\left(\\begin{array}{rrrr}\n",
       "0 & 0 & 0 & 0 \\\\\n",
       "0 & 0 & 0 & 0 \\\\\n",
       "0 & 0 & 0 & 0 \\\\\n",
       "0 & 0 & 0 & 0\n",
       "\\end{array}\\right)$$"
      ],
      "text/plain": [
       "[0 0 0 0]\n",
       "[0 0 0 0]\n",
       "[0 0 0 0]\n",
       "[0 0 0 0]"
      ]
     },
     "execution_count": 10,
     "metadata": {},
     "output_type": "execute_result"
    }
   ],
   "source": [
    "Ricci2 = g.ricci()\n",
    "Ricci2[:]"
   ]
  },
  {
   "cell_type": "markdown",
   "id": "a52b3052",
   "metadata": {},
   "source": [
    "## 5. Ricci Escalar"
   ]
  },
  {
   "cell_type": "markdown",
   "id": "aeb02c13",
   "metadata": {},
   "source": [
    "Finally, the Ricci scalar is:\n",
    "\\begin{equation}\n",
    "    R=R^{\\mu}_{\\mu}=g^{\\mu\\nu}R_{\\mu\\nu}\n",
    "\\end{equation}"
   ]
  },
  {
   "cell_type": "code",
   "execution_count": 55,
   "id": "cacc05f0",
   "metadata": {},
   "outputs": [
    {
     "data": {
      "text/html": [
       "<html>\\[\\newcommand{\\Bold}[1]{\\mathbf{#1}}\\begin{array}{llcl} & \\mathcal{M} & \\longrightarrow & \\mathbb{R} \\\\ & \\left(t, r, {\\theta}, {\\phi}\\right) & \\longmapsto & \\frac{24 \\, {\\left(4 \\, l^{4} m^{3} - l^{2} m^{2} r^{3}\\right)}}{8 \\, l^{6} m^{3} + 12 \\, l^{4} m^{2} r^{3} + 6 \\, l^{2} m r^{6} + r^{9}} \\end{array}\\]</html>"
      ],
      "text/latex": [
       "$$\\newcommand{\\Bold}[1]{\\mathbf{#1}}\\begin{array}{llcl} & \\mathcal{M} & \\longrightarrow & \\mathbb{R} \\\\ & \\left(t, r, {\\theta}, {\\phi}\\right) & \\longmapsto & \\frac{24 \\, {\\left(4 \\, l^{4} m^{3} - l^{2} m^{2} r^{3}\\right)}}{8 \\, l^{6} m^{3} + 12 \\, l^{4} m^{2} r^{3} + 6 \\, l^{2} m r^{6} + r^{9}} \\end{array}$$"
      ],
      "text/plain": [
       "M → ℝ\n",
       "(t, r, th, ph) ↦ 24*(4*l^4*m^3 - l^2*m^2*r^3)/(8*l^6*m^3 + 12*l^4*m^2*r^3 + 6*l^2*m*r^6 + r^9)"
      ]
     },
     "execution_count": 55,
     "metadata": {},
     "output_type": "execute_result"
    }
   ],
   "source": [
    "ricci = g.up(g)[\"^{ab}\"]*Ricci[\"_{ab}\"]\n",
    "ricci.display()"
   ]
  },
  {
   "cell_type": "code",
   "execution_count": 9,
   "id": "fa1750cd",
   "metadata": {},
   "outputs": [
    {
     "data": {
      "text/html": [
       "<html>\\[\\newcommand{\\Bold}[1]{\\mathbf{#1}}\\begin{array}{llcl} \\mathrm{r}\\left(g\\right):& \\mathcal{M} & \\longrightarrow & \\mathbb{R} \\\\ & \\left(t, r, {\\theta}, {\\phi}\\right) & \\longmapsto & 0 \\end{array}\\]</html>"
      ],
      "text/latex": [
       "$$\\newcommand{\\Bold}[1]{\\mathbf{#1}}\\begin{array}{llcl} \\mathrm{r}\\left(g\\right):& \\mathcal{M} & \\longrightarrow & \\mathbb{R} \\\\ & \\left(t, r, {\\theta}, {\\phi}\\right) & \\longmapsto & 0 \\end{array}$$"
      ],
      "text/plain": [
       "r(g): M → ℝ\n",
       "   (t, r, th, ph) ↦ 0"
      ]
     },
     "execution_count": 9,
     "metadata": {},
     "output_type": "execute_result"
    }
   ],
   "source": [
    "ricci2 = g.ricci_scalar()\n",
    "ricci2.display()"
   ]
  },
  {
   "cell_type": "code",
   "execution_count": 57,
   "id": "dd495e35",
   "metadata": {},
   "outputs": [
    {
     "data": {
      "text/html": [
       "<html>\\[\\newcommand{\\Bold}[1]{\\mathbf{#1}}\\frac{24 \\, {\\left(4 \\, l^{2} m - r^{3}\\right)} l^{2} m^{2}}{{\\left(2 \\, l^{2} m + r^{3}\\right)}^{3}}\\]</html>"
      ],
      "text/latex": [
       "$$\\newcommand{\\Bold}[1]{\\mathbf{#1}}\\frac{24 \\, {\\left(4 \\, l^{2} m - r^{3}\\right)} l^{2} m^{2}}{{\\left(2 \\, l^{2} m + r^{3}\\right)}^{3}}$$"
      ],
      "text/plain": [
       "24*(4*l^2*m - r^3)*l^2*m^2/(2*l^2*m + r^3)^3"
      ]
     },
     "execution_count": 57,
     "metadata": {},
     "output_type": "execute_result"
    }
   ],
   "source": [
    "ricci.expr().factor()"
   ]
  },
  {
   "cell_type": "markdown",
   "id": "7b2e2c6e",
   "metadata": {},
   "source": [
    "## 6. Kretschmann scalar"
   ]
  },
  {
   "cell_type": "markdown",
   "id": "4962a66f",
   "metadata": {},
   "source": [
    "The Kretschmann scalar is:\n",
    "\\begin{equation}\n",
    "    K = R_{\\mu \\nu \\rho \\sigma} R^{\\mu \\nu \\rho \\sigma}\n",
    "\\end{equation}\n"
   ]
  },
  {
   "cell_type": "code",
   "execution_count": 58,
   "id": "5bae3664",
   "metadata": {},
   "outputs": [
    {
     "data": {
      "text/html": [
       "<html>\\[\\newcommand{\\Bold}[1]{\\mathbf{#1}}\\mbox{Scalar field on the 4-dimensional Lorentzian manifold M}\\]</html>"
      ],
      "text/latex": [
       "$$\\newcommand{\\Bold}[1]{\\mathbf{#1}}\\mbox{Scalar field on the 4-dimensional Lorentzian manifold M}$$"
      ],
      "text/plain": [
       "Scalar field on the 4-dimensional Lorentzian manifold M"
      ]
     },
     "execution_count": 58,
     "metadata": {},
     "output_type": "execute_result"
    }
   ],
   "source": [
    "K = Riemann.down(g)['_{abcd}'] * Riemann.up(g)['^{abcd}']\n",
    "K"
   ]
  },
  {
   "cell_type": "code",
   "execution_count": 59,
   "id": "750a412b",
   "metadata": {},
   "outputs": [
    {
     "data": {
      "text/html": [
       "<html>\\[\\newcommand{\\Bold}[1]{\\mathbf{#1}}\\begin{array}{llcl} & \\mathcal{M} & \\longrightarrow & \\mathbb{R} \\\\ & \\left(t, r, {\\theta}, {\\phi}\\right) & \\longmapsto & \\frac{48 \\, {\\left(32 \\, l^{8} m^{6} - 16 \\, l^{6} m^{5} r^{3} + 72 \\, l^{4} m^{4} r^{6} - 8 \\, l^{2} m^{3} r^{9} + m^{2} r^{12}\\right)}}{64 \\, l^{12} m^{6} + 192 \\, l^{10} m^{5} r^{3} + 240 \\, l^{8} m^{4} r^{6} + 160 \\, l^{6} m^{3} r^{9} + 60 \\, l^{4} m^{2} r^{12} + 12 \\, l^{2} m r^{15} + r^{18}} \\end{array}\\]</html>"
      ],
      "text/latex": [
       "$$\\newcommand{\\Bold}[1]{\\mathbf{#1}}\\begin{array}{llcl} & \\mathcal{M} & \\longrightarrow & \\mathbb{R} \\\\ & \\left(t, r, {\\theta}, {\\phi}\\right) & \\longmapsto & \\frac{48 \\, {\\left(32 \\, l^{8} m^{6} - 16 \\, l^{6} m^{5} r^{3} + 72 \\, l^{4} m^{4} r^{6} - 8 \\, l^{2} m^{3} r^{9} + m^{2} r^{12}\\right)}}{64 \\, l^{12} m^{6} + 192 \\, l^{10} m^{5} r^{3} + 240 \\, l^{8} m^{4} r^{6} + 160 \\, l^{6} m^{3} r^{9} + 60 \\, l^{4} m^{2} r^{12} + 12 \\, l^{2} m r^{15} + r^{18}} \\end{array}$$"
      ],
      "text/plain": [
       "M → ℝ\n",
       "(t, r, th, ph) ↦ 48*(32*l^8*m^6 - 16*l^6*m^5*r^3 + 72*l^4*m^4*r^6 - 8*l^2*m^3*r^9 + m^2*r^12)/(64*l^12*m^6 + 192*l^10*m^5*r^3 + 240*l^8*m^4*r^6 + 160*l^6*m^3*r^9 + 60*l^4*m^2*r^12 + 12*l^2*m*r^15 + r^18)"
      ]
     },
     "execution_count": 59,
     "metadata": {},
     "output_type": "execute_result"
    }
   ],
   "source": [
    "K.display()"
   ]
  },
  {
   "cell_type": "code",
   "execution_count": 60,
   "id": "d7f00353",
   "metadata": {
    "scrolled": true
   },
   "outputs": [
    {
     "data": {
      "text/html": [
       "<html>\\[\\newcommand{\\Bold}[1]{\\mathbf{#1}}\\frac{48 \\, {\\left(32 \\, l^{8} m^{4} - 16 \\, l^{6} m^{3} r^{3} + 72 \\, l^{4} m^{2} r^{6} - 8 \\, l^{2} m r^{9} + r^{12}\\right)} m^{2}}{{\\left(2 \\, l^{2} m + r^{3}\\right)}^{6}}\\]</html>"
      ],
      "text/latex": [
       "$$\\newcommand{\\Bold}[1]{\\mathbf{#1}}\\frac{48 \\, {\\left(32 \\, l^{8} m^{4} - 16 \\, l^{6} m^{3} r^{3} + 72 \\, l^{4} m^{2} r^{6} - 8 \\, l^{2} m r^{9} + r^{12}\\right)} m^{2}}{{\\left(2 \\, l^{2} m + r^{3}\\right)}^{6}}$$"
      ],
      "text/plain": [
       "48*(32*l^8*m^4 - 16*l^6*m^3*r^3 + 72*l^4*m^2*r^6 - 8*l^2*m*r^9 + r^12)*m^2/(2*l^2*m + r^3)^6"
      ]
     },
     "execution_count": 60,
     "metadata": {},
     "output_type": "execute_result"
    }
   ],
   "source": [
    "K.expr().factor()"
   ]
  },
  {
   "cell_type": "markdown",
   "id": "23dfc4e4",
   "metadata": {},
   "source": [
    "# Sumary: The Bardeen Metric"
   ]
  },
  {
   "cell_type": "markdown",
   "id": "a1664905",
   "metadata": {},
   "source": [
    "Bardeen spacetime is a solution of the Einstein gravitational equations adding non-linear electrodynamics. It describes also a black hole which is non-singular.\n",
    "\n",
    "The line element of the Bardeen spacetime metric is:\n",
    "\n",
    "\\begin{equation}\n",
    "        ds^2 = - G(r)dt^2 + \\frac{dr^2}{G(r)} + r^2d\\theta^2 + r^2\\sin^2(\\theta)d\\phi^2 \n",
    "\\end{equation}\n",
    "\n",
    "\\begin{equation}\n",
    "    G(r) = 1 - \\frac{2mr^2}{(r^2+q^2)^{3/2}}\n",
    "\\end{equation}\n",
    "\n",
    "where $m$ is the mass parameter and $q$ is the magnetic charge.\n",
    "\n",
    "Based on: https://link.springer.com/article/10.1140/epjc/s10052-019-6543-8"
   ]
  },
  {
   "cell_type": "code",
   "execution_count": 61,
   "id": "d6157b3d",
   "metadata": {},
   "outputs": [],
   "source": [
    "N = Manifold(4,'N',latex_name=r'\\mathcal{N}', structure='Lorentzian')"
   ]
  },
  {
   "cell_type": "code",
   "execution_count": 62,
   "id": "2d08538e",
   "metadata": {},
   "outputs": [],
   "source": [
    "Y.<t1,r2,th2,ph2> = N.chart(r\"t r:(0,+oo) th:(0,pi):\\theta ph:(0,2*pi):\\phi\")"
   ]
  },
  {
   "cell_type": "code",
   "execution_count": 63,
   "id": "49e39630",
   "metadata": {},
   "outputs": [],
   "source": [
    "m2 = var('m')\n",
    "q = var('q')\n",
    "assume(m2>0)"
   ]
  },
  {
   "cell_type": "code",
   "execution_count": 64,
   "id": "a6191114",
   "metadata": {},
   "outputs": [
    {
     "data": {
      "text/html": [
       "<html>\\[\\newcommand{\\Bold}[1]{\\mathbf{#1}}r \\ {\\mapsto}\\ -\\frac{2 \\, m r^{2}}{{\\left(q^{2} + r^{2}\\right)}^{\\frac{3}{2}}} + 1\\]</html>"
      ],
      "text/latex": [
       "$$\\newcommand{\\Bold}[1]{\\mathbf{#1}}r \\ {\\mapsto}\\ -\\frac{2 \\, m r^{2}}{{\\left(q^{2} + r^{2}\\right)}^{\\frac{3}{2}}} + 1$$"
      ],
      "text/plain": [
       "r |--> -2*m*r^2/(q^2 + r^2)^(3/2) + 1"
      ]
     },
     "execution_count": 64,
     "metadata": {},
     "output_type": "execute_result"
    }
   ],
   "source": [
    "G(r) = 1 - (2*m2*r2**2)/sqrt(r2**2+q**2)**(3)\n",
    "G"
   ]
  },
  {
   "cell_type": "code",
   "execution_count": 65,
   "id": "8f227e19",
   "metadata": {},
   "outputs": [
    {
     "data": {
      "text/html": [
       "<html>\\[\\newcommand{\\Bold}[1]{\\mathbf{#1}}\\left(\\begin{array}{rrrr}\n",
       "\\frac{2 \\, m r^{2}}{{\\left(q^{2} + r^{2}\\right)}^{\\frac{3}{2}}} - 1 & 0 & 0 & 0 \\\\\n",
       "0 & -\\frac{1}{\\frac{2 \\, m r^{2}}{{\\left(q^{2} + r^{2}\\right)}^{\\frac{3}{2}}} - 1} & 0 & 0 \\\\\n",
       "0 & 0 & r^{2} & 0 \\\\\n",
       "0 & 0 & 0 & r^{2} \\sin\\left({\\theta}\\right)^{2}\n",
       "\\end{array}\\right)\\]</html>"
      ],
      "text/latex": [
       "$$\\newcommand{\\Bold}[1]{\\mathbf{#1}}\\left(\\begin{array}{rrrr}\n",
       "\\frac{2 \\, m r^{2}}{{\\left(q^{2} + r^{2}\\right)}^{\\frac{3}{2}}} - 1 & 0 & 0 & 0 \\\\\n",
       "0 & -\\frac{1}{\\frac{2 \\, m r^{2}}{{\\left(q^{2} + r^{2}\\right)}^{\\frac{3}{2}}} - 1} & 0 & 0 \\\\\n",
       "0 & 0 & r^{2} & 0 \\\\\n",
       "0 & 0 & 0 & r^{2} \\sin\\left({\\theta}\\right)^{2}\n",
       "\\end{array}\\right)$$"
      ],
      "text/plain": [
       "[     2*m*r^2/(q^2 + r^2)^(3/2) - 1                                  0                                  0                                  0]\n",
       "[                                 0 -1/(2*m*r^2/(q^2 + r^2)^(3/2) - 1)                                  0                                  0]\n",
       "[                                 0                                  0                                r^2                                  0]\n",
       "[                                 0                                  0                                  0                      r^2*sin(th)^2]"
      ]
     },
     "execution_count": 65,
     "metadata": {},
     "output_type": "execute_result"
    }
   ],
   "source": [
    "h = N.metric()\n",
    "h[0,0] = -G\n",
    "h[1,1] = 1/G\n",
    "h[2,2] = r2**2\n",
    "h[3,3] = (r2*sin(th2))**2\n",
    "h[:]"
   ]
  },
  {
   "cell_type": "code",
   "execution_count": 66,
   "id": "f807cd3a",
   "metadata": {},
   "outputs": [
    {
     "data": {
      "text/html": [
       "<html>\\[\\newcommand{\\Bold}[1]{\\mathbf{#1}}\\begin{array}{lcl} \\Gamma_{ \\phantom{\\, t} \\, t \\, r }^{ \\, t \\phantom{\\, t} \\phantom{\\, r} } & = & \\frac{2 \\, m q^{2} r - m r^{3}}{2 \\, m q^{2} r^{2} + 2 \\, m r^{4} - {\\left(q^{4} + 2 \\, q^{2} r^{2} + r^{4}\\right)} \\sqrt{q^{2} + r^{2}}} \\\\ \\Gamma_{ \\phantom{\\, r} \\, t \\, t }^{ \\, r \\phantom{\\, t} \\phantom{\\, t} } & = & \\frac{4 \\, m^{2} q^{2} r^{3} - 2 \\, m^{2} r^{5} - {\\left(2 \\, m q^{4} r + m q^{2} r^{3} - m r^{5}\\right)} \\sqrt{q^{2} + r^{2}}}{q^{8} + 4 \\, q^{6} r^{2} + 6 \\, q^{4} r^{4} + 4 \\, q^{2} r^{6} + r^{8}} \\\\ \\Gamma_{ \\phantom{\\, r} \\, r \\, r }^{ \\, r \\phantom{\\, r} \\phantom{\\, r} } & = & -\\frac{4 \\, m^{2} q^{2} r^{3} - 2 \\, m^{2} r^{5} - {\\left(2 \\, m q^{4} r + m q^{2} r^{3} - m r^{5}\\right)} \\sqrt{q^{2} + r^{2}}}{q^{8} + 4 \\, q^{6} r^{2} + r^{8} + 4 \\, {\\left(m^{2} + q^{2}\\right)} r^{6} + 2 \\, {\\left(2 \\, m^{2} q^{2} + 3 \\, q^{4}\\right)} r^{4} - 4 \\, {\\left(m q^{4} r^{2} + 2 \\, m q^{2} r^{4} + m r^{6}\\right)} \\sqrt{q^{2} + r^{2}}} \\\\ \\Gamma_{ \\phantom{\\, r} \\, {\\theta} \\, {\\theta} }^{ \\, r \\phantom{\\, {\\theta}} \\phantom{\\, {\\theta}} } & = & \\frac{2 \\, m r^{3} - {\\left(q^{2} r + r^{3}\\right)} \\sqrt{q^{2} + r^{2}}}{{\\left(q^{2} + r^{2}\\right)}^{\\frac{3}{2}}} \\\\ \\Gamma_{ \\phantom{\\, r} \\, {\\phi} \\, {\\phi} }^{ \\, r \\phantom{\\, {\\phi}} \\phantom{\\, {\\phi}} } & = & \\frac{2 \\, m r^{3} \\sin\\left({\\theta}\\right)^{2} - {\\left(q^{2} r + r^{3}\\right)} \\sqrt{q^{2} + r^{2}} \\sin\\left({\\theta}\\right)^{2}}{{\\left(q^{2} + r^{2}\\right)}^{\\frac{3}{2}}} \\\\ \\Gamma_{ \\phantom{\\, {\\theta}} \\, r \\, {\\theta} }^{ \\, {\\theta} \\phantom{\\, r} \\phantom{\\, {\\theta}} } & = & \\frac{1}{r} \\\\ \\Gamma_{ \\phantom{\\, {\\theta}} \\, {\\phi} \\, {\\phi} }^{ \\, {\\theta} \\phantom{\\, {\\phi}} \\phantom{\\, {\\phi}} } & = & -\\cos\\left({\\theta}\\right) \\sin\\left({\\theta}\\right) \\\\ \\Gamma_{ \\phantom{\\, {\\phi}} \\, r \\, {\\phi} }^{ \\, {\\phi} \\phantom{\\, r} \\phantom{\\, {\\phi}} } & = & \\frac{1}{r} \\\\ \\Gamma_{ \\phantom{\\, {\\phi}} \\, {\\theta} \\, {\\phi} }^{ \\, {\\phi} \\phantom{\\, {\\theta}} \\phantom{\\, {\\phi}} } & = & \\frac{\\cos\\left({\\theta}\\right)}{\\sin\\left({\\theta}\\right)} \\end{array}\\]</html>"
      ],
      "text/latex": [
       "$$\\newcommand{\\Bold}[1]{\\mathbf{#1}}\\begin{array}{lcl} \\Gamma_{ \\phantom{\\, t} \\, t \\, r }^{ \\, t \\phantom{\\, t} \\phantom{\\, r} } & = & \\frac{2 \\, m q^{2} r - m r^{3}}{2 \\, m q^{2} r^{2} + 2 \\, m r^{4} - {\\left(q^{4} + 2 \\, q^{2} r^{2} + r^{4}\\right)} \\sqrt{q^{2} + r^{2}}} \\\\ \\Gamma_{ \\phantom{\\, r} \\, t \\, t }^{ \\, r \\phantom{\\, t} \\phantom{\\, t} } & = & \\frac{4 \\, m^{2} q^{2} r^{3} - 2 \\, m^{2} r^{5} - {\\left(2 \\, m q^{4} r + m q^{2} r^{3} - m r^{5}\\right)} \\sqrt{q^{2} + r^{2}}}{q^{8} + 4 \\, q^{6} r^{2} + 6 \\, q^{4} r^{4} + 4 \\, q^{2} r^{6} + r^{8}} \\\\ \\Gamma_{ \\phantom{\\, r} \\, r \\, r }^{ \\, r \\phantom{\\, r} \\phantom{\\, r} } & = & -\\frac{4 \\, m^{2} q^{2} r^{3} - 2 \\, m^{2} r^{5} - {\\left(2 \\, m q^{4} r + m q^{2} r^{3} - m r^{5}\\right)} \\sqrt{q^{2} + r^{2}}}{q^{8} + 4 \\, q^{6} r^{2} + r^{8} + 4 \\, {\\left(m^{2} + q^{2}\\right)} r^{6} + 2 \\, {\\left(2 \\, m^{2} q^{2} + 3 \\, q^{4}\\right)} r^{4} - 4 \\, {\\left(m q^{4} r^{2} + 2 \\, m q^{2} r^{4} + m r^{6}\\right)} \\sqrt{q^{2} + r^{2}}} \\\\ \\Gamma_{ \\phantom{\\, r} \\, {\\theta} \\, {\\theta} }^{ \\, r \\phantom{\\, {\\theta}} \\phantom{\\, {\\theta}} } & = & \\frac{2 \\, m r^{3} - {\\left(q^{2} r + r^{3}\\right)} \\sqrt{q^{2} + r^{2}}}{{\\left(q^{2} + r^{2}\\right)}^{\\frac{3}{2}}} \\\\ \\Gamma_{ \\phantom{\\, r} \\, {\\phi} \\, {\\phi} }^{ \\, r \\phantom{\\, {\\phi}} \\phantom{\\, {\\phi}} } & = & \\frac{2 \\, m r^{3} \\sin\\left({\\theta}\\right)^{2} - {\\left(q^{2} r + r^{3}\\right)} \\sqrt{q^{2} + r^{2}} \\sin\\left({\\theta}\\right)^{2}}{{\\left(q^{2} + r^{2}\\right)}^{\\frac{3}{2}}} \\\\ \\Gamma_{ \\phantom{\\, {\\theta}} \\, r \\, {\\theta} }^{ \\, {\\theta} \\phantom{\\, r} \\phantom{\\, {\\theta}} } & = & \\frac{1}{r} \\\\ \\Gamma_{ \\phantom{\\, {\\theta}} \\, {\\phi} \\, {\\phi} }^{ \\, {\\theta} \\phantom{\\, {\\phi}} \\phantom{\\, {\\phi}} } & = & -\\cos\\left({\\theta}\\right) \\sin\\left({\\theta}\\right) \\\\ \\Gamma_{ \\phantom{\\, {\\phi}} \\, r \\, {\\phi} }^{ \\, {\\phi} \\phantom{\\, r} \\phantom{\\, {\\phi}} } & = & \\frac{1}{r} \\\\ \\Gamma_{ \\phantom{\\, {\\phi}} \\, {\\theta} \\, {\\phi} }^{ \\, {\\phi} \\phantom{\\, {\\theta}} \\phantom{\\, {\\phi}} } & = & \\frac{\\cos\\left({\\theta}\\right)}{\\sin\\left({\\theta}\\right)} \\end{array}$$"
      ],
      "text/plain": [
       "Gam^t_t,r = (2*m*q^2*r - m*r^3)/(2*m*q^2*r^2 + 2*m*r^4 - (q^4 + 2*q^2*r^2 + r^4)*sqrt(q^2 + r^2)) \n",
       "Gam^r_t,t = (4*m^2*q^2*r^3 - 2*m^2*r^5 - (2*m*q^4*r + m*q^2*r^3 - m*r^5)*sqrt(q^2 + r^2))/(q^8 + 4*q^6*r^2 + 6*q^4*r^4 + 4*q^2*r^6 + r^8) \n",
       "Gam^r_r,r = -(4*m^2*q^2*r^3 - 2*m^2*r^5 - (2*m*q^4*r + m*q^2*r^3 - m*r^5)*sqrt(q^2 + r^2))/(q^8 + 4*q^6*r^2 + r^8 + 4*(m^2 + q^2)*r^6 + 2*(2*m^2*q^2 + 3*q^4)*r^4 - 4*(m*q^4*r^2 + 2*m*q^2*r^4 + m*r^6)*sqrt(q^2 + r^2)) \n",
       "Gam^r_th,th = (2*m*r^3 - (q^2*r + r^3)*sqrt(q^2 + r^2))/(q^2 + r^2)^(3/2) \n",
       "Gam^r_ph,ph = (2*m*r^3*sin(th)^2 - (q^2*r + r^3)*sqrt(q^2 + r^2)*sin(th)^2)/(q^2 + r^2)^(3/2) \n",
       "Gam^th_r,th = 1/r \n",
       "Gam^th_ph,ph = -cos(th)*sin(th) \n",
       "Gam^ph_r,ph = 1/r \n",
       "Gam^ph_th,ph = cos(th)/sin(th) "
      ]
     },
     "execution_count": 66,
     "metadata": {},
     "output_type": "execute_result"
    }
   ],
   "source": [
    "h.christoffel_symbols_display()"
   ]
  },
  {
   "cell_type": "code",
   "execution_count": 67,
   "id": "daf9e82a",
   "metadata": {},
   "outputs": [
    {
     "data": {
      "text/html": [
       "<html>\\[\\newcommand{\\Bold}[1]{\\mathbf{#1}}-\\frac{24 \\, m^{2} q^{20} r^{2} + 60 \\, m^{2} q^{18} r^{4} + 24 \\, m^{2} r^{22} + 20 \\, {\\left(16 \\, m^{4} + 3 \\, m^{2} q^{2}\\right)} r^{20} + 8 \\, {\\left(48 \\, m^{6} - 20 \\, m^{4} q^{2} - 45 \\, m^{2} q^{4}\\right)} r^{18} - 48 \\, {\\left(28 \\, m^{6} q^{2} + 110 \\, m^{4} q^{4} + 45 \\, m^{2} q^{6}\\right)} r^{16} - 16 \\, {\\left(216 \\, m^{6} q^{4} + 800 \\, m^{4} q^{6} + 315 \\, m^{2} q^{8}\\right)} r^{14} - 8 \\, {\\left(168 \\, m^{6} q^{6} + 1600 \\, m^{4} q^{8} + 819 \\, m^{2} q^{10}\\right)} r^{12} + 48 \\, {\\left(8 \\, m^{6} q^{8} - 110 \\, m^{4} q^{10} - 105 \\, m^{2} q^{12}\\right)} r^{10} - 80 \\, {\\left(2 \\, m^{4} q^{12} + 27 \\, m^{2} q^{14}\\right)} r^{8} + 40 \\, {\\left(8 \\, m^{4} q^{14} - 9 \\, m^{2} q^{16}\\right)} r^{6} - {\\left(2 \\, m q^{22} + 7 \\, m q^{20} r^{2} + 2 \\, m r^{22} + {\\left(120 \\, m^{3} + 7 \\, m q^{2}\\right)} r^{20} + 5 \\, {\\left(96 \\, m^{5} + 12 \\, m^{3} q^{2} - 5 \\, m q^{4}\\right)} r^{18} + 2 \\, {\\left(64 \\, m^{7} - 600 \\, m^{5} q^{2} - 1020 \\, m^{3} q^{4} - 105 \\, m q^{6}\\right)} r^{16} - 4 \\, {\\left(176 \\, m^{7} q^{2} + 1500 \\, m^{5} q^{4} + 1695 \\, m^{3} q^{6} + 150 \\, m q^{8}\\right)} r^{14} + 2 \\, {\\left(64 \\, m^{7} q^{4} - 3000 \\, m^{5} q^{6} - 4800 \\, m^{3} q^{8} - 483 \\, m q^{10}\\right)} r^{12} - 6 \\, {\\left(200 \\, m^{5} q^{8} + 1130 \\, m^{3} q^{10} + 161 \\, m q^{12}\\right)} r^{10} + 120 \\, {\\left(4 \\, m^{5} q^{10} - 17 \\, m^{3} q^{12} - 5 \\, m q^{14}\\right)} r^{8} + 30 \\, {\\left(2 \\, m^{3} q^{14} - 7 \\, m q^{16}\\right)} r^{6} + 5 \\, {\\left(24 \\, m^{3} q^{16} - 5 \\, m q^{18}\\right)} r^{4}\\right)} \\sqrt{q^{2} + r^{2}}}{q^{26} + 13 \\, q^{24} r^{2} + r^{26} + {\\left(84 \\, m^{2} + 13 \\, q^{2}\\right)} r^{24} + 2 \\, {\\left(280 \\, m^{4} + 420 \\, m^{2} q^{2} + 39 \\, q^{4}\\right)} r^{22} + 2 \\, {\\left(224 \\, m^{6} + 1960 \\, m^{4} q^{2} + 1890 \\, m^{2} q^{4} + 143 \\, q^{6}\\right)} r^{20} + {\\left(1792 \\, m^{6} q^{2} + 11760 \\, m^{4} q^{4} + 10080 \\, m^{2} q^{6} + 715 \\, q^{8}\\right)} r^{18} + {\\left(2688 \\, m^{6} q^{4} + 19600 \\, m^{4} q^{6} + 17640 \\, m^{2} q^{8} + 1287 \\, q^{10}\\right)} r^{16} + 4 \\, {\\left(448 \\, m^{6} q^{6} + 4900 \\, m^{4} q^{8} + 5292 \\, m^{2} q^{10} + 429 \\, q^{12}\\right)} r^{14} + 4 \\, {\\left(112 \\, m^{6} q^{8} + 2940 \\, m^{4} q^{10} + 4410 \\, m^{2} q^{12} + 429 \\, q^{14}\\right)} r^{12} + {\\left(3920 \\, m^{4} q^{12} + 10080 \\, m^{2} q^{14} + 1287 \\, q^{16}\\right)} r^{10} + 5 \\, {\\left(112 \\, m^{4} q^{14} + 756 \\, m^{2} q^{16} + 143 \\, q^{18}\\right)} r^{8} + 2 \\, {\\left(420 \\, m^{2} q^{18} + 143 \\, q^{20}\\right)} r^{6} + 6 \\, {\\left(14 \\, m^{2} q^{20} + 13 \\, q^{22}\\right)} r^{4} - 2 \\, {\\left(7 \\, m q^{22} r^{2} + 77 \\, m q^{20} r^{4} + 7 \\, m r^{24} + 7 \\, {\\left(20 \\, m^{3} + 11 \\, m q^{2}\\right)} r^{22} + 7 \\, {\\left(48 \\, m^{5} + 160 \\, m^{3} q^{2} + 55 \\, m q^{4}\\right)} r^{20} + {\\left(64 \\, m^{7} + 1680 \\, m^{5} q^{2} + 3920 \\, m^{3} q^{4} + 1155 \\, m q^{6}\\right)} r^{18} + 2 \\, {\\left(64 \\, m^{7} q^{2} + 1680 \\, m^{5} q^{4} + 3920 \\, m^{3} q^{6} + 1155 \\, m q^{8}\\right)} r^{16} + 2 \\, {\\left(32 \\, m^{7} q^{4} + 1680 \\, m^{5} q^{6} + 4900 \\, m^{3} q^{8} + 1617 \\, m q^{10}\\right)} r^{14} + 14 \\, {\\left(120 \\, m^{5} q^{8} + 560 \\, m^{3} q^{10} + 231 \\, m q^{12}\\right)} r^{12} + 14 \\, {\\left(24 \\, m^{5} q^{10} + 280 \\, m^{3} q^{12} + 165 \\, m q^{14}\\right)} r^{10} + 35 \\, {\\left(32 \\, m^{3} q^{14} + 33 \\, m q^{16}\\right)} r^{8} + 35 \\, {\\left(4 \\, m^{3} q^{16} + 11 \\, m q^{18}\\right)} r^{6}\\right)} \\sqrt{q^{2} + r^{2}}}\\]</html>"
      ],
      "text/latex": [
       "$$\\newcommand{\\Bold}[1]{\\mathbf{#1}}-\\frac{24 \\, m^{2} q^{20} r^{2} + 60 \\, m^{2} q^{18} r^{4} + 24 \\, m^{2} r^{22} + 20 \\, {\\left(16 \\, m^{4} + 3 \\, m^{2} q^{2}\\right)} r^{20} + 8 \\, {\\left(48 \\, m^{6} - 20 \\, m^{4} q^{2} - 45 \\, m^{2} q^{4}\\right)} r^{18} - 48 \\, {\\left(28 \\, m^{6} q^{2} + 110 \\, m^{4} q^{4} + 45 \\, m^{2} q^{6}\\right)} r^{16} - 16 \\, {\\left(216 \\, m^{6} q^{4} + 800 \\, m^{4} q^{6} + 315 \\, m^{2} q^{8}\\right)} r^{14} - 8 \\, {\\left(168 \\, m^{6} q^{6} + 1600 \\, m^{4} q^{8} + 819 \\, m^{2} q^{10}\\right)} r^{12} + 48 \\, {\\left(8 \\, m^{6} q^{8} - 110 \\, m^{4} q^{10} - 105 \\, m^{2} q^{12}\\right)} r^{10} - 80 \\, {\\left(2 \\, m^{4} q^{12} + 27 \\, m^{2} q^{14}\\right)} r^{8} + 40 \\, {\\left(8 \\, m^{4} q^{14} - 9 \\, m^{2} q^{16}\\right)} r^{6} - {\\left(2 \\, m q^{22} + 7 \\, m q^{20} r^{2} + 2 \\, m r^{22} + {\\left(120 \\, m^{3} + 7 \\, m q^{2}\\right)} r^{20} + 5 \\, {\\left(96 \\, m^{5} + 12 \\, m^{3} q^{2} - 5 \\, m q^{4}\\right)} r^{18} + 2 \\, {\\left(64 \\, m^{7} - 600 \\, m^{5} q^{2} - 1020 \\, m^{3} q^{4} - 105 \\, m q^{6}\\right)} r^{16} - 4 \\, {\\left(176 \\, m^{7} q^{2} + 1500 \\, m^{5} q^{4} + 1695 \\, m^{3} q^{6} + 150 \\, m q^{8}\\right)} r^{14} + 2 \\, {\\left(64 \\, m^{7} q^{4} - 3000 \\, m^{5} q^{6} - 4800 \\, m^{3} q^{8} - 483 \\, m q^{10}\\right)} r^{12} - 6 \\, {\\left(200 \\, m^{5} q^{8} + 1130 \\, m^{3} q^{10} + 161 \\, m q^{12}\\right)} r^{10} + 120 \\, {\\left(4 \\, m^{5} q^{10} - 17 \\, m^{3} q^{12} - 5 \\, m q^{14}\\right)} r^{8} + 30 \\, {\\left(2 \\, m^{3} q^{14} - 7 \\, m q^{16}\\right)} r^{6} + 5 \\, {\\left(24 \\, m^{3} q^{16} - 5 \\, m q^{18}\\right)} r^{4}\\right)} \\sqrt{q^{2} + r^{2}}}{q^{26} + 13 \\, q^{24} r^{2} + r^{26} + {\\left(84 \\, m^{2} + 13 \\, q^{2}\\right)} r^{24} + 2 \\, {\\left(280 \\, m^{4} + 420 \\, m^{2} q^{2} + 39 \\, q^{4}\\right)} r^{22} + 2 \\, {\\left(224 \\, m^{6} + 1960 \\, m^{4} q^{2} + 1890 \\, m^{2} q^{4} + 143 \\, q^{6}\\right)} r^{20} + {\\left(1792 \\, m^{6} q^{2} + 11760 \\, m^{4} q^{4} + 10080 \\, m^{2} q^{6} + 715 \\, q^{8}\\right)} r^{18} + {\\left(2688 \\, m^{6} q^{4} + 19600 \\, m^{4} q^{6} + 17640 \\, m^{2} q^{8} + 1287 \\, q^{10}\\right)} r^{16} + 4 \\, {\\left(448 \\, m^{6} q^{6} + 4900 \\, m^{4} q^{8} + 5292 \\, m^{2} q^{10} + 429 \\, q^{12}\\right)} r^{14} + 4 \\, {\\left(112 \\, m^{6} q^{8} + 2940 \\, m^{4} q^{10} + 4410 \\, m^{2} q^{12} + 429 \\, q^{14}\\right)} r^{12} + {\\left(3920 \\, m^{4} q^{12} + 10080 \\, m^{2} q^{14} + 1287 \\, q^{16}\\right)} r^{10} + 5 \\, {\\left(112 \\, m^{4} q^{14} + 756 \\, m^{2} q^{16} + 143 \\, q^{18}\\right)} r^{8} + 2 \\, {\\left(420 \\, m^{2} q^{18} + 143 \\, q^{20}\\right)} r^{6} + 6 \\, {\\left(14 \\, m^{2} q^{20} + 13 \\, q^{22}\\right)} r^{4} - 2 \\, {\\left(7 \\, m q^{22} r^{2} + 77 \\, m q^{20} r^{4} + 7 \\, m r^{24} + 7 \\, {\\left(20 \\, m^{3} + 11 \\, m q^{2}\\right)} r^{22} + 7 \\, {\\left(48 \\, m^{5} + 160 \\, m^{3} q^{2} + 55 \\, m q^{4}\\right)} r^{20} + {\\left(64 \\, m^{7} + 1680 \\, m^{5} q^{2} + 3920 \\, m^{3} q^{4} + 1155 \\, m q^{6}\\right)} r^{18} + 2 \\, {\\left(64 \\, m^{7} q^{2} + 1680 \\, m^{5} q^{4} + 3920 \\, m^{3} q^{6} + 1155 \\, m q^{8}\\right)} r^{16} + 2 \\, {\\left(32 \\, m^{7} q^{4} + 1680 \\, m^{5} q^{6} + 4900 \\, m^{3} q^{8} + 1617 \\, m q^{10}\\right)} r^{14} + 14 \\, {\\left(120 \\, m^{5} q^{8} + 560 \\, m^{3} q^{10} + 231 \\, m q^{12}\\right)} r^{12} + 14 \\, {\\left(24 \\, m^{5} q^{10} + 280 \\, m^{3} q^{12} + 165 \\, m q^{14}\\right)} r^{10} + 35 \\, {\\left(32 \\, m^{3} q^{14} + 33 \\, m q^{16}\\right)} r^{8} + 35 \\, {\\left(4 \\, m^{3} q^{16} + 11 \\, m q^{18}\\right)} r^{6}\\right)} \\sqrt{q^{2} + r^{2}}}$$"
      ],
      "text/plain": [
       "-(24*m^2*q^20*r^2 + 60*m^2*q^18*r^4 + 24*m^2*r^22 + 20*(16*m^4 + 3*m^2*q^2)*r^20 + 8*(48*m^6 - 20*m^4*q^2 - 45*m^2*q^4)*r^18 - 48*(28*m^6*q^2 + 110*m^4*q^4 + 45*m^2*q^6)*r^16 - 16*(216*m^6*q^4 + 800*m^4*q^6 + 315*m^2*q^8)*r^14 - 8*(168*m^6*q^6 + 1600*m^4*q^8 + 819*m^2*q^10)*r^12 + 48*(8*m^6*q^8 - 110*m^4*q^10 - 105*m^2*q^12)*r^10 - 80*(2*m^4*q^12 + 27*m^2*q^14)*r^8 + 40*(8*m^4*q^14 - 9*m^2*q^16)*r^6 - (2*m*q^22 + 7*m*q^20*r^2 + 2*m*r^22 + (120*m^3 + 7*m*q^2)*r^20 + 5*(96*m^5 + 12*m^3*q^2 - 5*m*q^4)*r^18 + 2*(64*m^7 - 600*m^5*q^2 - 1020*m^3*q^4 - 105*m*q^6)*r^16 - 4*(176*m^7*q^2 + 1500*m^5*q^4 + 1695*m^3*q^6 + 150*m*q^8)*r^14 + 2*(64*m^7*q^4 - 3000*m^5*q^6 - 4800*m^3*q^8 - 483*m*q^10)*r^12 - 6*(200*m^5*q^8 + 1130*m^3*q^10 + 161*m*q^12)*r^10 + 120*(4*m^5*q^10 - 17*m^3*q^12 - 5*m*q^14)*r^8 + 30*(2*m^3*q^14 - 7*m*q^16)*r^6 + 5*(24*m^3*q^16 - 5*m*q^18)*r^4)*sqrt(q^2 + r^2))/(q^26 + 13*q^24*r^2 + r^26 + (84*m^2 + 13*q^2)*r^24 + 2*(280*m^4 + 420*m^2*q^2 + 39*q^4)*r^22 + 2*(224*m^6 + 1960*m^4*q^2 + 1890*m^2*q^4 + 143*q^6)*r^20 + (1792*m^6*q^2 + 11760*m^4*q^4 + 10080*m^2*q^6 + 715*q^8)*r^18 + (2688*m^6*q^4 + 19600*m^4*q^6 + 17640*m^2*q^8 + 1287*q^10)*r^16 + 4*(448*m^6*q^6 + 4900*m^4*q^8 + 5292*m^2*q^10 + 429*q^12)*r^14 + 4*(112*m^6*q^8 + 2940*m^4*q^10 + 4410*m^2*q^12 + 429*q^14)*r^12 + (3920*m^4*q^12 + 10080*m^2*q^14 + 1287*q^16)*r^10 + 5*(112*m^4*q^14 + 756*m^2*q^16 + 143*q^18)*r^8 + 2*(420*m^2*q^18 + 143*q^20)*r^6 + 6*(14*m^2*q^20 + 13*q^22)*r^4 - 2*(7*m*q^22*r^2 + 77*m*q^20*r^4 + 7*m*r^24 + 7*(20*m^3 + 11*m*q^2)*r^22 + 7*(48*m^5 + 160*m^3*q^2 + 55*m*q^4)*r^20 + (64*m^7 + 1680*m^5*q^2 + 3920*m^3*q^4 + 1155*m*q^6)*r^18 + 2*(64*m^7*q^2 + 1680*m^5*q^4 + 3920*m^3*q^6 + 1155*m*q^8)*r^16 + 2*(32*m^7*q^4 + 1680*m^5*q^6 + 4900*m^3*q^8 + 1617*m*q^10)*r^14 + 14*(120*m^5*q^8 + 560*m^3*q^10 + 231*m*q^12)*r^12 + 14*(24*m^5*q^10 + 280*m^3*q^12 + 165*m*q^14)*r^10 + 35*(32*m^3*q^14 + 33*m*q^16)*r^8 + 35*(4*m^3*q^16 + 11*m*q^18)*r^6)*sqrt(q^2 + r^2))"
      ]
     },
     "execution_count": 67,
     "metadata": {},
     "output_type": "execute_result"
    }
   ],
   "source": [
    "Riemann3 = h.riemann()\n",
    "Riemann3[0,1,0,1]"
   ]
  },
  {
   "cell_type": "code",
   "execution_count": 73,
   "id": "7984f784",
   "metadata": {},
   "outputs": [
    {
     "data": {
      "text/html": [
       "<html>\\[\\newcommand{\\Bold}[1]{\\mathbf{#1}}\\left(\\begin{array}{rrrr}\n",
       "-\\frac{3 \\, {\\left(2 \\, m q^{8} + m q^{6} r^{2} - 4 \\, m q^{4} r^{4} - 3 \\, m q^{2} r^{6} - 2 \\, {\\left(2 \\, m^{2} q^{4} r^{2} - 3 \\, m^{2} q^{2} r^{4}\\right)} \\sqrt{q^{2} + r^{2}}\\right)}}{{\\left(q^{10} + 5 \\, q^{8} r^{2} + 10 \\, q^{6} r^{4} + 10 \\, q^{4} r^{6} + 5 \\, q^{2} r^{8} + r^{10}\\right)} \\sqrt{q^{2} + r^{2}}} & 0 & 0 & 0 \\\\\n",
       "0 & -\\frac{3 \\, {\\left(40 \\, m^{2} q^{32} r^{2} + 500 \\, m^{2} q^{30} r^{4} - 60 \\, m^{2} q^{2} r^{32} - 160 \\, {\\left(18 \\, m^{4} q^{2} + 5 \\, m^{2} q^{4}\\right)} r^{30} - 4 \\, {\\left(6048 \\, m^{6} q^{2} + 7440 \\, m^{4} q^{4} + 1225 \\, m^{2} q^{6}\\right)} r^{28} - 8 \\, {\\left(5760 \\, m^{8} q^{2} + 22176 \\, m^{6} q^{4} + 17160 \\, m^{4} q^{6} + 2275 \\, m^{2} q^{8}\\right)} r^{26} - 4 \\, {\\left(3840 \\, m^{10} q^{2} + 49920 \\, m^{8} q^{4} + 137088 \\, m^{6} q^{6} + 92400 \\, m^{4} q^{8} + 11375 \\, m^{2} q^{10}\\right)} r^{24} - 16 \\, {\\left(1280 \\, m^{10} q^{4} + 19200 \\, m^{8} q^{6} + 56448 \\, m^{6} q^{8} + 39600 \\, m^{4} q^{10} + 5005 \\, m^{2} q^{12}\\right)} r^{22} + 4 \\, {\\left(1280 \\, m^{10} q^{6} - 38400 \\, m^{8} q^{8} - 197568 \\, m^{6} q^{10} - 174240 \\, m^{4} q^{12} - 25025 \\, m^{2} q^{14}\\right)} r^{20} + 8 \\, {\\left(1280 \\, m^{10} q^{8} + 9600 \\, m^{8} q^{10} - 28224 \\, m^{6} q^{12} - 55440 \\, m^{4} q^{14} - 10725 \\, m^{2} q^{16}\\right)} r^{18} + 12 \\, {\\left(8960 \\, m^{8} q^{12} + 18816 \\, m^{6} q^{14} - 5280 \\, m^{4} q^{16} - 3575 \\, m^{2} q^{18}\\right)} r^{16} + 192 \\, {\\left(160 \\, m^{8} q^{14} + 1344 \\, m^{6} q^{16} + 825 \\, m^{4} q^{18}\\right)} r^{14} + 4 \\, {\\left(26208 \\, m^{6} q^{18} + 39600 \\, m^{4} q^{20} + 5005 \\, m^{2} q^{22}\\right)} r^{12} + 56 \\, {\\left(288 \\, m^{6} q^{20} + 1320 \\, m^{4} q^{22} + 325 \\, m^{2} q^{24}\\right)} r^{10} + 20 \\, {\\left(912 \\, m^{4} q^{24} + 455 \\, m^{2} q^{26}\\right)} r^{8} + 80 \\, {\\left(24 \\, m^{4} q^{26} + 35 \\, m^{2} q^{28}\\right)} r^{6} - {\\left(2 \\, m q^{34} + 27 \\, m q^{32} r^{2} - 3 \\, m q^{2} r^{32} - {\\left(540 \\, m^{3} q^{2} + 43 \\, m q^{4}\\right)} r^{30} - 15 \\, {\\left(672 \\, m^{5} q^{2} + 408 \\, m^{3} q^{4} + 19 \\, m q^{6}\\right)} r^{28} - 15 \\, {\\left(2688 \\, m^{7} q^{2} + 5600 \\, m^{5} q^{4} + 2088 \\, m^{3} q^{6} + 77 \\, m q^{8}\\right)} r^{26} - 5 \\, {\\left(6912 \\, m^{9} q^{2} + 43008 \\, m^{7} q^{4} + 60480 \\, m^{5} q^{6} + 19008 \\, m^{3} q^{8} + 637 \\, m q^{10}\\right)} r^{24} - 3 \\, {\\left(1024 \\, m^{11} q^{2} + 26880 \\, m^{9} q^{4} + 147840 \\, m^{7} q^{6} + 201600 \\, m^{5} q^{8} + 62700 \\, m^{3} q^{10} + 2093 \\, m q^{12}\\right)} r^{22} + {\\left(2048 \\, m^{11} q^{4} - 34560 \\, m^{9} q^{6} - 403200 \\, m^{7} q^{8} - 705600 \\, m^{5} q^{10} - 249480 \\, m^{3} q^{12} - 9009 \\, m q^{14}\\right)} r^{20} + 5 \\, {\\left(6912 \\, m^{9} q^{8} - 13440 \\, m^{7} q^{10} - 84672 \\, m^{5} q^{12} - 42768 \\, m^{3} q^{14} - 1859 \\, m q^{16}\\right)} r^{18} + 45 \\, {\\left(512 \\, m^{9} q^{10} + 3584 \\, m^{7} q^{12} - 2112 \\, m^{3} q^{16} - 143 \\, m q^{18}\\right)} r^{16} + 15 \\, {\\left(8064 \\, m^{7} q^{14} + 13440 \\, m^{5} q^{16} + 1188 \\, m^{3} q^{18} - 143 \\, m q^{20}\\right)} r^{14} + {\\left(26880 \\, m^{7} q^{16} + 151200 \\, m^{5} q^{18} + 59400 \\, m^{3} q^{20} + 1001 \\, m q^{22}\\right)} r^{12} + 3 \\, {\\left(16800 \\, m^{5} q^{20} + 14520 \\, m^{3} q^{22} + 637 \\, m q^{24}\\right)} r^{10} + 15 \\, {\\left(448 \\, m^{5} q^{22} + 1152 \\, m^{3} q^{24} + 91 \\, m q^{26}\\right)} r^{8} + 35 \\, {\\left(108 \\, m^{3} q^{26} + 17 \\, m q^{28}\\right)} r^{6} + 15 \\, {\\left(24 \\, m^{3} q^{28} + 11 \\, m q^{30}\\right)} r^{4}\\right)} \\sqrt{q^{2} + r^{2}}\\right)}}{q^{38} + 19 \\, q^{36} r^{2} + r^{38} + {\\left(220 \\, m^{2} + 19 \\, q^{2}\\right)} r^{36} + {\\left(5280 \\, m^{4} + 3520 \\, m^{2} q^{2} + 171 \\, q^{4}\\right)} r^{34} + 3 \\, {\\left(9856 \\, m^{6} + 22880 \\, m^{4} q^{2} + 8800 \\, m^{2} q^{4} + 323 \\, q^{6}\\right)} r^{32} + 4 \\, {\\left(10560 \\, m^{8} + 73920 \\, m^{6} q^{2} + 102960 \\, m^{4} q^{4} + 30800 \\, m^{2} q^{6} + 969 \\, q^{8}\\right)} r^{30} + 4 \\, {\\left(2816 \\, m^{10} + 73920 \\, m^{8} q^{2} + 332640 \\, m^{6} q^{4} + 377520 \\, m^{4} q^{6} + 100100 \\, m^{2} q^{8} + 2907 \\, q^{10}\\right)} r^{28} + 4 \\, {\\left(11264 \\, m^{10} q^{2} + 221760 \\, m^{8} q^{4} + 887040 \\, m^{6} q^{6} + 943800 \\, m^{4} q^{8} + 240240 \\, m^{2} q^{10} + 6783 \\, q^{12}\\right)} r^{26} + 4 \\, {\\left(16896 \\, m^{10} q^{4} + 369600 \\, m^{8} q^{6} + 1552320 \\, m^{6} q^{8} + 1698840 \\, m^{4} q^{10} + 440440 \\, m^{2} q^{12} + 12597 \\, q^{14}\\right)} r^{24} + 2 \\, {\\left(22528 \\, m^{10} q^{6} + 739200 \\, m^{8} q^{8} + 3725568 \\, m^{6} q^{10} + 4530240 \\, m^{4} q^{12} + 1258400 \\, m^{2} q^{14} + 37791 \\, q^{16}\\right)} r^{22} + 22 \\, {\\left(512 \\, m^{10} q^{8} + 40320 \\, m^{8} q^{10} + 282240 \\, m^{6} q^{12} + 411840 \\, m^{4} q^{14} + 128700 \\, m^{2} q^{16} + 4199 \\, q^{18}\\right)} r^{20} + 22 \\, {\\left(13440 \\, m^{8} q^{12} + 161280 \\, m^{6} q^{14} + 308880 \\, m^{4} q^{16} + 114400 \\, m^{2} q^{18} + 4199 \\, q^{20}\\right)} r^{18} + 2 \\, {\\left(21120 \\, m^{8} q^{14} + 665280 \\, m^{6} q^{16} + 1887600 \\, m^{4} q^{18} + 880880 \\, m^{2} q^{20} + 37791 \\, q^{22}\\right)} r^{16} + 12 \\, {\\left(24640 \\, m^{6} q^{18} + 125840 \\, m^{4} q^{20} + 80080 \\, m^{2} q^{22} + 4199 \\, q^{24}\\right)} r^{14} + 4 \\, {\\left(7392 \\, m^{6} q^{20} + 102960 \\, m^{4} q^{22} + 100100 \\, m^{2} q^{24} + 6783 \\, q^{26}\\right)} r^{12} + 4 \\, {\\left(17160 \\, m^{4} q^{24} + 30800 \\, m^{2} q^{26} + 2907 \\, q^{28}\\right)} r^{10} + 12 \\, {\\left(440 \\, m^{4} q^{26} + 2200 \\, m^{2} q^{28} + 323 \\, q^{30}\\right)} r^{8} + {\\left(3520 \\, m^{2} q^{30} + 969 \\, q^{32}\\right)} r^{6} + {\\left(220 \\, m^{2} q^{32} + 171 \\, q^{34}\\right)} r^{4} - 2 \\, {\\left(11 \\, m q^{34} r^{2} + 187 \\, m q^{32} r^{4} + 11 \\, m r^{36} + 11 \\, {\\left(60 \\, m^{3} + 17 \\, m q^{2}\\right)} r^{34} + 88 \\, {\\left(84 \\, m^{5} + 105 \\, m^{3} q^{2} + 17 \\, m q^{4}\\right)} r^{32} + 44 \\, {\\left(480 \\, m^{7} + 1848 \\, m^{5} q^{2} + 1365 \\, m^{3} q^{4} + 170 \\, m q^{6}\\right)} r^{30} + 220 \\, {\\left(64 \\, m^{9} + 768 \\, m^{7} q^{2} + 1848 \\, m^{5} q^{4} + 1092 \\, m^{3} q^{6} + 119 \\, m q^{8}\\right)} r^{28} + 4 \\, {\\left(256 \\, m^{11} + 17600 \\, m^{9} q^{2} + 147840 \\, m^{7} q^{4} + 304920 \\, m^{5} q^{6} + 165165 \\, m^{3} q^{8} + 17017 \\, m q^{10}\\right)} r^{26} + 8 \\, {\\left(256 \\, m^{11} q^{2} + 17600 \\, m^{9} q^{4} + 147840 \\, m^{7} q^{6} + 304920 \\, m^{5} q^{8} + 165165 \\, m^{3} q^{10} + 17017 \\, m q^{12}\\right)} r^{24} + 4 \\, {\\left(256 \\, m^{11} q^{4} + 35200 \\, m^{9} q^{6} + 369600 \\, m^{7} q^{8} + 853776 \\, m^{5} q^{10} + 495495 \\, m^{3} q^{12} + 53482 \\, m q^{14}\\right)} r^{22} + 22 \\, {\\left(3200 \\, m^{9} q^{8} + 53760 \\, m^{7} q^{10} + 155232 \\, m^{5} q^{12} + 102960 \\, m^{3} q^{14} + 12155 \\, m q^{16}\\right)} r^{20} + 110 \\, {\\left(128 \\, m^{9} q^{10} + 5376 \\, m^{7} q^{12} + 22176 \\, m^{5} q^{14} + 18018 \\, m^{3} q^{16} + 2431 \\, m q^{18}\\right)} r^{18} + 88 \\, {\\left(1920 \\, m^{7} q^{14} + 13860 \\, m^{5} q^{16} + 15015 \\, m^{3} q^{18} + 2431 \\, m q^{20}\\right)} r^{16} + 44 \\, {\\left(480 \\, m^{7} q^{16} + 9240 \\, m^{5} q^{18} + 15015 \\, m^{3} q^{20} + 3094 \\, m q^{22}\\right)} r^{14} + 308 \\, {\\left(264 \\, m^{5} q^{20} + 780 \\, m^{3} q^{22} + 221 \\, m q^{24}\\right)} r^{12} + 308 \\, {\\left(24 \\, m^{5} q^{22} + 195 \\, m^{3} q^{24} + 85 \\, m q^{26}\\right)} r^{10} + 440 \\, {\\left(21 \\, m^{3} q^{26} + 17 \\, m q^{28}\\right)} r^{8} + 44 \\, {\\left(15 \\, m^{3} q^{28} + 34 \\, m q^{30}\\right)} r^{6}\\right)} \\sqrt{q^{2} + r^{2}}} & 0 & 0 \\\\\n",
       "0 & 0 & -\\frac{6 \\, {\\left(6 \\, m^{2} q^{8} r^{4} + 18 \\, m^{2} q^{6} r^{6} + 6 \\, m^{2} q^{2} r^{10} + 2 \\, {\\left(4 \\, m^{4} q^{2} + 9 \\, m^{2} q^{4}\\right)} r^{8} - {\\left(m q^{10} r^{2} + 4 \\, m q^{8} r^{4} + m q^{2} r^{10} + 4 \\, {\\left(3 \\, m^{3} q^{2} + m q^{4}\\right)} r^{8} + 6 \\, {\\left(2 \\, m^{3} q^{4} + m q^{6}\\right)} r^{6}\\right)} \\sqrt{q^{2} + r^{2}}\\right)}}{q^{14} + 7 \\, q^{12} r^{2} + r^{14} + {\\left(12 \\, m^{2} + 7 \\, q^{2}\\right)} r^{12} + 3 \\, {\\left(16 \\, m^{2} q^{2} + 7 \\, q^{4}\\right)} r^{10} + {\\left(72 \\, m^{2} q^{4} + 35 \\, q^{6}\\right)} r^{8} + {\\left(48 \\, m^{2} q^{6} + 35 \\, q^{8}\\right)} r^{6} + 3 \\, {\\left(4 \\, m^{2} q^{8} + 7 \\, q^{10}\\right)} r^{4} - 2 \\, {\\left(3 \\, m q^{10} r^{2} + 15 \\, m q^{8} r^{4} + 3 \\, m r^{12} + {\\left(4 \\, m^{3} + 15 \\, m q^{2}\\right)} r^{10} + 2 \\, {\\left(4 \\, m^{3} q^{2} + 15 \\, m q^{4}\\right)} r^{8} + 2 \\, {\\left(2 \\, m^{3} q^{4} + 15 \\, m q^{6}\\right)} r^{6}\\right)} \\sqrt{q^{2} + r^{2}}} & 0 \\\\\n",
       "0 & 0 & 0 & \\frac{6 \\, {\\left({\\left(m q^{10} r^{2} + 4 \\, m q^{8} r^{4} + m q^{2} r^{10} + 4 \\, {\\left(3 \\, m^{3} q^{2} + m q^{4}\\right)} r^{8} + 6 \\, {\\left(2 \\, m^{3} q^{4} + m q^{6}\\right)} r^{6}\\right)} \\sqrt{q^{2} + r^{2}} \\sin\\left({\\theta}\\right)^{2} - 2 \\, {\\left(3 \\, m^{2} q^{8} r^{4} + 9 \\, m^{2} q^{6} r^{6} + 3 \\, m^{2} q^{2} r^{10} + {\\left(4 \\, m^{4} q^{2} + 9 \\, m^{2} q^{4}\\right)} r^{8}\\right)} \\sin\\left({\\theta}\\right)^{2}\\right)}}{q^{14} + 7 \\, q^{12} r^{2} + r^{14} + {\\left(12 \\, m^{2} + 7 \\, q^{2}\\right)} r^{12} + 3 \\, {\\left(16 \\, m^{2} q^{2} + 7 \\, q^{4}\\right)} r^{10} + {\\left(72 \\, m^{2} q^{4} + 35 \\, q^{6}\\right)} r^{8} + {\\left(48 \\, m^{2} q^{6} + 35 \\, q^{8}\\right)} r^{6} + 3 \\, {\\left(4 \\, m^{2} q^{8} + 7 \\, q^{10}\\right)} r^{4} - 2 \\, {\\left(3 \\, m q^{10} r^{2} + 15 \\, m q^{8} r^{4} + 3 \\, m r^{12} + {\\left(4 \\, m^{3} + 15 \\, m q^{2}\\right)} r^{10} + 2 \\, {\\left(4 \\, m^{3} q^{2} + 15 \\, m q^{4}\\right)} r^{8} + 2 \\, {\\left(2 \\, m^{3} q^{4} + 15 \\, m q^{6}\\right)} r^{6}\\right)} \\sqrt{q^{2} + r^{2}}}\n",
       "\\end{array}\\right)\\]</html>"
      ],
      "text/latex": [
       "$$\\newcommand{\\Bold}[1]{\\mathbf{#1}}\\left(\\begin{array}{rrrr}\n",
       "-\\frac{3 \\, {\\left(2 \\, m q^{8} + m q^{6} r^{2} - 4 \\, m q^{4} r^{4} - 3 \\, m q^{2} r^{6} - 2 \\, {\\left(2 \\, m^{2} q^{4} r^{2} - 3 \\, m^{2} q^{2} r^{4}\\right)} \\sqrt{q^{2} + r^{2}}\\right)}}{{\\left(q^{10} + 5 \\, q^{8} r^{2} + 10 \\, q^{6} r^{4} + 10 \\, q^{4} r^{6} + 5 \\, q^{2} r^{8} + r^{10}\\right)} \\sqrt{q^{2} + r^{2}}} & 0 & 0 & 0 \\\\\n",
       "0 & -\\frac{3 \\, {\\left(40 \\, m^{2} q^{32} r^{2} + 500 \\, m^{2} q^{30} r^{4} - 60 \\, m^{2} q^{2} r^{32} - 160 \\, {\\left(18 \\, m^{4} q^{2} + 5 \\, m^{2} q^{4}\\right)} r^{30} - 4 \\, {\\left(6048 \\, m^{6} q^{2} + 7440 \\, m^{4} q^{4} + 1225 \\, m^{2} q^{6}\\right)} r^{28} - 8 \\, {\\left(5760 \\, m^{8} q^{2} + 22176 \\, m^{6} q^{4} + 17160 \\, m^{4} q^{6} + 2275 \\, m^{2} q^{8}\\right)} r^{26} - 4 \\, {\\left(3840 \\, m^{10} q^{2} + 49920 \\, m^{8} q^{4} + 137088 \\, m^{6} q^{6} + 92400 \\, m^{4} q^{8} + 11375 \\, m^{2} q^{10}\\right)} r^{24} - 16 \\, {\\left(1280 \\, m^{10} q^{4} + 19200 \\, m^{8} q^{6} + 56448 \\, m^{6} q^{8} + 39600 \\, m^{4} q^{10} + 5005 \\, m^{2} q^{12}\\right)} r^{22} + 4 \\, {\\left(1280 \\, m^{10} q^{6} - 38400 \\, m^{8} q^{8} - 197568 \\, m^{6} q^{10} - 174240 \\, m^{4} q^{12} - 25025 \\, m^{2} q^{14}\\right)} r^{20} + 8 \\, {\\left(1280 \\, m^{10} q^{8} + 9600 \\, m^{8} q^{10} - 28224 \\, m^{6} q^{12} - 55440 \\, m^{4} q^{14} - 10725 \\, m^{2} q^{16}\\right)} r^{18} + 12 \\, {\\left(8960 \\, m^{8} q^{12} + 18816 \\, m^{6} q^{14} - 5280 \\, m^{4} q^{16} - 3575 \\, m^{2} q^{18}\\right)} r^{16} + 192 \\, {\\left(160 \\, m^{8} q^{14} + 1344 \\, m^{6} q^{16} + 825 \\, m^{4} q^{18}\\right)} r^{14} + 4 \\, {\\left(26208 \\, m^{6} q^{18} + 39600 \\, m^{4} q^{20} + 5005 \\, m^{2} q^{22}\\right)} r^{12} + 56 \\, {\\left(288 \\, m^{6} q^{20} + 1320 \\, m^{4} q^{22} + 325 \\, m^{2} q^{24}\\right)} r^{10} + 20 \\, {\\left(912 \\, m^{4} q^{24} + 455 \\, m^{2} q^{26}\\right)} r^{8} + 80 \\, {\\left(24 \\, m^{4} q^{26} + 35 \\, m^{2} q^{28}\\right)} r^{6} - {\\left(2 \\, m q^{34} + 27 \\, m q^{32} r^{2} - 3 \\, m q^{2} r^{32} - {\\left(540 \\, m^{3} q^{2} + 43 \\, m q^{4}\\right)} r^{30} - 15 \\, {\\left(672 \\, m^{5} q^{2} + 408 \\, m^{3} q^{4} + 19 \\, m q^{6}\\right)} r^{28} - 15 \\, {\\left(2688 \\, m^{7} q^{2} + 5600 \\, m^{5} q^{4} + 2088 \\, m^{3} q^{6} + 77 \\, m q^{8}\\right)} r^{26} - 5 \\, {\\left(6912 \\, m^{9} q^{2} + 43008 \\, m^{7} q^{4} + 60480 \\, m^{5} q^{6} + 19008 \\, m^{3} q^{8} + 637 \\, m q^{10}\\right)} r^{24} - 3 \\, {\\left(1024 \\, m^{11} q^{2} + 26880 \\, m^{9} q^{4} + 147840 \\, m^{7} q^{6} + 201600 \\, m^{5} q^{8} + 62700 \\, m^{3} q^{10} + 2093 \\, m q^{12}\\right)} r^{22} + {\\left(2048 \\, m^{11} q^{4} - 34560 \\, m^{9} q^{6} - 403200 \\, m^{7} q^{8} - 705600 \\, m^{5} q^{10} - 249480 \\, m^{3} q^{12} - 9009 \\, m q^{14}\\right)} r^{20} + 5 \\, {\\left(6912 \\, m^{9} q^{8} - 13440 \\, m^{7} q^{10} - 84672 \\, m^{5} q^{12} - 42768 \\, m^{3} q^{14} - 1859 \\, m q^{16}\\right)} r^{18} + 45 \\, {\\left(512 \\, m^{9} q^{10} + 3584 \\, m^{7} q^{12} - 2112 \\, m^{3} q^{16} - 143 \\, m q^{18}\\right)} r^{16} + 15 \\, {\\left(8064 \\, m^{7} q^{14} + 13440 \\, m^{5} q^{16} + 1188 \\, m^{3} q^{18} - 143 \\, m q^{20}\\right)} r^{14} + {\\left(26880 \\, m^{7} q^{16} + 151200 \\, m^{5} q^{18} + 59400 \\, m^{3} q^{20} + 1001 \\, m q^{22}\\right)} r^{12} + 3 \\, {\\left(16800 \\, m^{5} q^{20} + 14520 \\, m^{3} q^{22} + 637 \\, m q^{24}\\right)} r^{10} + 15 \\, {\\left(448 \\, m^{5} q^{22} + 1152 \\, m^{3} q^{24} + 91 \\, m q^{26}\\right)} r^{8} + 35 \\, {\\left(108 \\, m^{3} q^{26} + 17 \\, m q^{28}\\right)} r^{6} + 15 \\, {\\left(24 \\, m^{3} q^{28} + 11 \\, m q^{30}\\right)} r^{4}\\right)} \\sqrt{q^{2} + r^{2}}\\right)}}{q^{38} + 19 \\, q^{36} r^{2} + r^{38} + {\\left(220 \\, m^{2} + 19 \\, q^{2}\\right)} r^{36} + {\\left(5280 \\, m^{4} + 3520 \\, m^{2} q^{2} + 171 \\, q^{4}\\right)} r^{34} + 3 \\, {\\left(9856 \\, m^{6} + 22880 \\, m^{4} q^{2} + 8800 \\, m^{2} q^{4} + 323 \\, q^{6}\\right)} r^{32} + 4 \\, {\\left(10560 \\, m^{8} + 73920 \\, m^{6} q^{2} + 102960 \\, m^{4} q^{4} + 30800 \\, m^{2} q^{6} + 969 \\, q^{8}\\right)} r^{30} + 4 \\, {\\left(2816 \\, m^{10} + 73920 \\, m^{8} q^{2} + 332640 \\, m^{6} q^{4} + 377520 \\, m^{4} q^{6} + 100100 \\, m^{2} q^{8} + 2907 \\, q^{10}\\right)} r^{28} + 4 \\, {\\left(11264 \\, m^{10} q^{2} + 221760 \\, m^{8} q^{4} + 887040 \\, m^{6} q^{6} + 943800 \\, m^{4} q^{8} + 240240 \\, m^{2} q^{10} + 6783 \\, q^{12}\\right)} r^{26} + 4 \\, {\\left(16896 \\, m^{10} q^{4} + 369600 \\, m^{8} q^{6} + 1552320 \\, m^{6} q^{8} + 1698840 \\, m^{4} q^{10} + 440440 \\, m^{2} q^{12} + 12597 \\, q^{14}\\right)} r^{24} + 2 \\, {\\left(22528 \\, m^{10} q^{6} + 739200 \\, m^{8} q^{8} + 3725568 \\, m^{6} q^{10} + 4530240 \\, m^{4} q^{12} + 1258400 \\, m^{2} q^{14} + 37791 \\, q^{16}\\right)} r^{22} + 22 \\, {\\left(512 \\, m^{10} q^{8} + 40320 \\, m^{8} q^{10} + 282240 \\, m^{6} q^{12} + 411840 \\, m^{4} q^{14} + 128700 \\, m^{2} q^{16} + 4199 \\, q^{18}\\right)} r^{20} + 22 \\, {\\left(13440 \\, m^{8} q^{12} + 161280 \\, m^{6} q^{14} + 308880 \\, m^{4} q^{16} + 114400 \\, m^{2} q^{18} + 4199 \\, q^{20}\\right)} r^{18} + 2 \\, {\\left(21120 \\, m^{8} q^{14} + 665280 \\, m^{6} q^{16} + 1887600 \\, m^{4} q^{18} + 880880 \\, m^{2} q^{20} + 37791 \\, q^{22}\\right)} r^{16} + 12 \\, {\\left(24640 \\, m^{6} q^{18} + 125840 \\, m^{4} q^{20} + 80080 \\, m^{2} q^{22} + 4199 \\, q^{24}\\right)} r^{14} + 4 \\, {\\left(7392 \\, m^{6} q^{20} + 102960 \\, m^{4} q^{22} + 100100 \\, m^{2} q^{24} + 6783 \\, q^{26}\\right)} r^{12} + 4 \\, {\\left(17160 \\, m^{4} q^{24} + 30800 \\, m^{2} q^{26} + 2907 \\, q^{28}\\right)} r^{10} + 12 \\, {\\left(440 \\, m^{4} q^{26} + 2200 \\, m^{2} q^{28} + 323 \\, q^{30}\\right)} r^{8} + {\\left(3520 \\, m^{2} q^{30} + 969 \\, q^{32}\\right)} r^{6} + {\\left(220 \\, m^{2} q^{32} + 171 \\, q^{34}\\right)} r^{4} - 2 \\, {\\left(11 \\, m q^{34} r^{2} + 187 \\, m q^{32} r^{4} + 11 \\, m r^{36} + 11 \\, {\\left(60 \\, m^{3} + 17 \\, m q^{2}\\right)} r^{34} + 88 \\, {\\left(84 \\, m^{5} + 105 \\, m^{3} q^{2} + 17 \\, m q^{4}\\right)} r^{32} + 44 \\, {\\left(480 \\, m^{7} + 1848 \\, m^{5} q^{2} + 1365 \\, m^{3} q^{4} + 170 \\, m q^{6}\\right)} r^{30} + 220 \\, {\\left(64 \\, m^{9} + 768 \\, m^{7} q^{2} + 1848 \\, m^{5} q^{4} + 1092 \\, m^{3} q^{6} + 119 \\, m q^{8}\\right)} r^{28} + 4 \\, {\\left(256 \\, m^{11} + 17600 \\, m^{9} q^{2} + 147840 \\, m^{7} q^{4} + 304920 \\, m^{5} q^{6} + 165165 \\, m^{3} q^{8} + 17017 \\, m q^{10}\\right)} r^{26} + 8 \\, {\\left(256 \\, m^{11} q^{2} + 17600 \\, m^{9} q^{4} + 147840 \\, m^{7} q^{6} + 304920 \\, m^{5} q^{8} + 165165 \\, m^{3} q^{10} + 17017 \\, m q^{12}\\right)} r^{24} + 4 \\, {\\left(256 \\, m^{11} q^{4} + 35200 \\, m^{9} q^{6} + 369600 \\, m^{7} q^{8} + 853776 \\, m^{5} q^{10} + 495495 \\, m^{3} q^{12} + 53482 \\, m q^{14}\\right)} r^{22} + 22 \\, {\\left(3200 \\, m^{9} q^{8} + 53760 \\, m^{7} q^{10} + 155232 \\, m^{5} q^{12} + 102960 \\, m^{3} q^{14} + 12155 \\, m q^{16}\\right)} r^{20} + 110 \\, {\\left(128 \\, m^{9} q^{10} + 5376 \\, m^{7} q^{12} + 22176 \\, m^{5} q^{14} + 18018 \\, m^{3} q^{16} + 2431 \\, m q^{18}\\right)} r^{18} + 88 \\, {\\left(1920 \\, m^{7} q^{14} + 13860 \\, m^{5} q^{16} + 15015 \\, m^{3} q^{18} + 2431 \\, m q^{20}\\right)} r^{16} + 44 \\, {\\left(480 \\, m^{7} q^{16} + 9240 \\, m^{5} q^{18} + 15015 \\, m^{3} q^{20} + 3094 \\, m q^{22}\\right)} r^{14} + 308 \\, {\\left(264 \\, m^{5} q^{20} + 780 \\, m^{3} q^{22} + 221 \\, m q^{24}\\right)} r^{12} + 308 \\, {\\left(24 \\, m^{5} q^{22} + 195 \\, m^{3} q^{24} + 85 \\, m q^{26}\\right)} r^{10} + 440 \\, {\\left(21 \\, m^{3} q^{26} + 17 \\, m q^{28}\\right)} r^{8} + 44 \\, {\\left(15 \\, m^{3} q^{28} + 34 \\, m q^{30}\\right)} r^{6}\\right)} \\sqrt{q^{2} + r^{2}}} & 0 & 0 \\\\\n",
       "0 & 0 & -\\frac{6 \\, {\\left(6 \\, m^{2} q^{8} r^{4} + 18 \\, m^{2} q^{6} r^{6} + 6 \\, m^{2} q^{2} r^{10} + 2 \\, {\\left(4 \\, m^{4} q^{2} + 9 \\, m^{2} q^{4}\\right)} r^{8} - {\\left(m q^{10} r^{2} + 4 \\, m q^{8} r^{4} + m q^{2} r^{10} + 4 \\, {\\left(3 \\, m^{3} q^{2} + m q^{4}\\right)} r^{8} + 6 \\, {\\left(2 \\, m^{3} q^{4} + m q^{6}\\right)} r^{6}\\right)} \\sqrt{q^{2} + r^{2}}\\right)}}{q^{14} + 7 \\, q^{12} r^{2} + r^{14} + {\\left(12 \\, m^{2} + 7 \\, q^{2}\\right)} r^{12} + 3 \\, {\\left(16 \\, m^{2} q^{2} + 7 \\, q^{4}\\right)} r^{10} + {\\left(72 \\, m^{2} q^{4} + 35 \\, q^{6}\\right)} r^{8} + {\\left(48 \\, m^{2} q^{6} + 35 \\, q^{8}\\right)} r^{6} + 3 \\, {\\left(4 \\, m^{2} q^{8} + 7 \\, q^{10}\\right)} r^{4} - 2 \\, {\\left(3 \\, m q^{10} r^{2} + 15 \\, m q^{8} r^{4} + 3 \\, m r^{12} + {\\left(4 \\, m^{3} + 15 \\, m q^{2}\\right)} r^{10} + 2 \\, {\\left(4 \\, m^{3} q^{2} + 15 \\, m q^{4}\\right)} r^{8} + 2 \\, {\\left(2 \\, m^{3} q^{4} + 15 \\, m q^{6}\\right)} r^{6}\\right)} \\sqrt{q^{2} + r^{2}}} & 0 \\\\\n",
       "0 & 0 & 0 & \\frac{6 \\, {\\left({\\left(m q^{10} r^{2} + 4 \\, m q^{8} r^{4} + m q^{2} r^{10} + 4 \\, {\\left(3 \\, m^{3} q^{2} + m q^{4}\\right)} r^{8} + 6 \\, {\\left(2 \\, m^{3} q^{4} + m q^{6}\\right)} r^{6}\\right)} \\sqrt{q^{2} + r^{2}} \\sin\\left({\\theta}\\right)^{2} - 2 \\, {\\left(3 \\, m^{2} q^{8} r^{4} + 9 \\, m^{2} q^{6} r^{6} + 3 \\, m^{2} q^{2} r^{10} + {\\left(4 \\, m^{4} q^{2} + 9 \\, m^{2} q^{4}\\right)} r^{8}\\right)} \\sin\\left({\\theta}\\right)^{2}\\right)}}{q^{14} + 7 \\, q^{12} r^{2} + r^{14} + {\\left(12 \\, m^{2} + 7 \\, q^{2}\\right)} r^{12} + 3 \\, {\\left(16 \\, m^{2} q^{2} + 7 \\, q^{4}\\right)} r^{10} + {\\left(72 \\, m^{2} q^{4} + 35 \\, q^{6}\\right)} r^{8} + {\\left(48 \\, m^{2} q^{6} + 35 \\, q^{8}\\right)} r^{6} + 3 \\, {\\left(4 \\, m^{2} q^{8} + 7 \\, q^{10}\\right)} r^{4} - 2 \\, {\\left(3 \\, m q^{10} r^{2} + 15 \\, m q^{8} r^{4} + 3 \\, m r^{12} + {\\left(4 \\, m^{3} + 15 \\, m q^{2}\\right)} r^{10} + 2 \\, {\\left(4 \\, m^{3} q^{2} + 15 \\, m q^{4}\\right)} r^{8} + 2 \\, {\\left(2 \\, m^{3} q^{4} + 15 \\, m q^{6}\\right)} r^{6}\\right)} \\sqrt{q^{2} + r^{2}}}\n",
       "\\end{array}\\right)$$"
      ],
      "text/plain": [
       "[                                                                                                                                                                                                                                                                                                                                                                                                                                                                                                                                                                                                                                                                                                                                                                                                                                                                                                                                                                                                                                                                                                                                                                                                                                                                                                                                                                                                                                                                                                                                                                                                                                                                                                                                                                                                                                                                                                                                                                                                                                                                                                                                                                                                                                                                                                                                                                                                                                                                                                                                                                                                                                                                                                                                                                                                                                                                                                                                                                                                                                                                                                                                                                                                                                                                                                                                                                                                                                                                                                                                                                                                                                                                                                                                                                                                                                                                                                                                                                                                                                                                                                                                                                                                                                                            -3*(2*m*q^8 + m*q^6*r^2 - 4*m*q^4*r^4 - 3*m*q^2*r^6 - 2*(2*m^2*q^4*r^2 - 3*m^2*q^2*r^4)*sqrt(q^2 + r^2))/((q^10 + 5*q^8*r^2 + 10*q^6*r^4 + 10*q^4*r^6 + 5*q^2*r^8 + r^10)*sqrt(q^2 + r^2))                                                                                                                                                                                                                                                                                                                                                                                                                                                                                                                                                                                                                                                                                                                                                                                                                                                                                                                                                                                                                                                                                                                                                                                                                                                                                                                                                                                                                                                                                                                                                                                                                                                                                                                                                                                                                                                                                                                                                                                                                                                                                                                                                                                                                                                                                                                                                                                                                                                                                                                                                                                                                                                                                                                                                                                                                                                                                                                                                                                                                                                                                                                                                                                                                                                                                                                                                                                                                                                                                                                                                                                                                                                                                                                                                                                                                                                                                                                                                                                                                                                                                                                                                                                                                                                                                                                                                                                                                                                      0                                                                                                                                                                                                                                                                                                                                                                                                                                                                                                                                                                                                                                                                                                                                                                                                                                                                                                                                                                                                                                                                                                                                                                                                                                                                                                                                                                                                                                                                                                                                                                                                                                                                                                                                                                                                                                                                                                                                                                                                                                                                                                                                                                                                                                                                                                                                                                                                                                                                                                                                                                                                                                                                                                                                                                                                                                                                                                                                                                                                                                                                                                                                                                                                                                                                                                                                                                                                                                                                                                                                                                                                                                                                                                                                                                                                                                                                                                                                                                                                                                                                                                                                                                                                                                                                                                                                                                                                                                                      0                                                                                                                                                                                                                                                                                                                                                                                                                                                                                                                                                                                                                                                                                                                                                                                                                                                                                                                                                                                                                                                                                                                                                                                                                                                                                                                                                                                                                                                                                                                                                                                                                                                                                                                                                                                                                                                                                                                                                                                                                                                                                                                                                                                                                                                                                                                                                                                                                                                                                                                                                                                                                                                                                                                                                                                                                                                                                                                                                                                                                                                                                                                                                                                                                                                                                                                                                                                                                                                                                                                                                                                                                                                                                                                                                                                                                                                                                                                                                                                                                                                                                                                                                                                                                                                                                                                                                                                                                                                      0]\n",
       "[                                                                                                                                                                                                                                                                                                                                                                                                                                                                                                                                                                                                                                                                                                                                                                                                                                                                                                                                                                                                                                                                                                                                                                                                                                                                                                                                                                                                                                                                                                                                                                                                                                                                                                                                                                                                                                                                                                                                                                                                                                                                                                                                                                                                                                                                                                                                                                                                                                                                                                                                                                                                                                                                                                                                                                                                                                                                                                                                                                                                                                                                                                                                                                                                                                                                                                                                                                                                                                                                                                                                                                                                                                                                                                                                                                                                                                                                                                                                                                                                                                                                                                                                                                                                                                                                                                                                                                                                                                                     0 -3*(40*m^2*q^32*r^2 + 500*m^2*q^30*r^4 - 60*m^2*q^2*r^32 - 160*(18*m^4*q^2 + 5*m^2*q^4)*r^30 - 4*(6048*m^6*q^2 + 7440*m^4*q^4 + 1225*m^2*q^6)*r^28 - 8*(5760*m^8*q^2 + 22176*m^6*q^4 + 17160*m^4*q^6 + 2275*m^2*q^8)*r^26 - 4*(3840*m^10*q^2 + 49920*m^8*q^4 + 137088*m^6*q^6 + 92400*m^4*q^8 + 11375*m^2*q^10)*r^24 - 16*(1280*m^10*q^4 + 19200*m^8*q^6 + 56448*m^6*q^8 + 39600*m^4*q^10 + 5005*m^2*q^12)*r^22 + 4*(1280*m^10*q^6 - 38400*m^8*q^8 - 197568*m^6*q^10 - 174240*m^4*q^12 - 25025*m^2*q^14)*r^20 + 8*(1280*m^10*q^8 + 9600*m^8*q^10 - 28224*m^6*q^12 - 55440*m^4*q^14 - 10725*m^2*q^16)*r^18 + 12*(8960*m^8*q^12 + 18816*m^6*q^14 - 5280*m^4*q^16 - 3575*m^2*q^18)*r^16 + 192*(160*m^8*q^14 + 1344*m^6*q^16 + 825*m^4*q^18)*r^14 + 4*(26208*m^6*q^18 + 39600*m^4*q^20 + 5005*m^2*q^22)*r^12 + 56*(288*m^6*q^20 + 1320*m^4*q^22 + 325*m^2*q^24)*r^10 + 20*(912*m^4*q^24 + 455*m^2*q^26)*r^8 + 80*(24*m^4*q^26 + 35*m^2*q^28)*r^6 - (2*m*q^34 + 27*m*q^32*r^2 - 3*m*q^2*r^32 - (540*m^3*q^2 + 43*m*q^4)*r^30 - 15*(672*m^5*q^2 + 408*m^3*q^4 + 19*m*q^6)*r^28 - 15*(2688*m^7*q^2 + 5600*m^5*q^4 + 2088*m^3*q^6 + 77*m*q^8)*r^26 - 5*(6912*m^9*q^2 + 43008*m^7*q^4 + 60480*m^5*q^6 + 19008*m^3*q^8 + 637*m*q^10)*r^24 - 3*(1024*m^11*q^2 + 26880*m^9*q^4 + 147840*m^7*q^6 + 201600*m^5*q^8 + 62700*m^3*q^10 + 2093*m*q^12)*r^22 + (2048*m^11*q^4 - 34560*m^9*q^6 - 403200*m^7*q^8 - 705600*m^5*q^10 - 249480*m^3*q^12 - 9009*m*q^14)*r^20 + 5*(6912*m^9*q^8 - 13440*m^7*q^10 - 84672*m^5*q^12 - 42768*m^3*q^14 - 1859*m*q^16)*r^18 + 45*(512*m^9*q^10 + 3584*m^7*q^12 - 2112*m^3*q^16 - 143*m*q^18)*r^16 + 15*(8064*m^7*q^14 + 13440*m^5*q^16 + 1188*m^3*q^18 - 143*m*q^20)*r^14 + (26880*m^7*q^16 + 151200*m^5*q^18 + 59400*m^3*q^20 + 1001*m*q^22)*r^12 + 3*(16800*m^5*q^20 + 14520*m^3*q^22 + 637*m*q^24)*r^10 + 15*(448*m^5*q^22 + 1152*m^3*q^24 + 91*m*q^26)*r^8 + 35*(108*m^3*q^26 + 17*m*q^28)*r^6 + 15*(24*m^3*q^28 + 11*m*q^30)*r^4)*sqrt(q^2 + r^2))/(q^38 + 19*q^36*r^2 + r^38 + (220*m^2 + 19*q^2)*r^36 + (5280*m^4 + 3520*m^2*q^2 + 171*q^4)*r^34 + 3*(9856*m^6 + 22880*m^4*q^2 + 8800*m^2*q^4 + 323*q^6)*r^32 + 4*(10560*m^8 + 73920*m^6*q^2 + 102960*m^4*q^4 + 30800*m^2*q^6 + 969*q^8)*r^30 + 4*(2816*m^10 + 73920*m^8*q^2 + 332640*m^6*q^4 + 377520*m^4*q^6 + 100100*m^2*q^8 + 2907*q^10)*r^28 + 4*(11264*m^10*q^2 + 221760*m^8*q^4 + 887040*m^6*q^6 + 943800*m^4*q^8 + 240240*m^2*q^10 + 6783*q^12)*r^26 + 4*(16896*m^10*q^4 + 369600*m^8*q^6 + 1552320*m^6*q^8 + 1698840*m^4*q^10 + 440440*m^2*q^12 + 12597*q^14)*r^24 + 2*(22528*m^10*q^6 + 739200*m^8*q^8 + 3725568*m^6*q^10 + 4530240*m^4*q^12 + 1258400*m^2*q^14 + 37791*q^16)*r^22 + 22*(512*m^10*q^8 + 40320*m^8*q^10 + 282240*m^6*q^12 + 411840*m^4*q^14 + 128700*m^2*q^16 + 4199*q^18)*r^20 + 22*(13440*m^8*q^12 + 161280*m^6*q^14 + 308880*m^4*q^16 + 114400*m^2*q^18 + 4199*q^20)*r^18 + 2*(21120*m^8*q^14 + 665280*m^6*q^16 + 1887600*m^4*q^18 + 880880*m^2*q^20 + 37791*q^22)*r^16 + 12*(24640*m^6*q^18 + 125840*m^4*q^20 + 80080*m^2*q^22 + 4199*q^24)*r^14 + 4*(7392*m^6*q^20 + 102960*m^4*q^22 + 100100*m^2*q^24 + 6783*q^26)*r^12 + 4*(17160*m^4*q^24 + 30800*m^2*q^26 + 2907*q^28)*r^10 + 12*(440*m^4*q^26 + 2200*m^2*q^28 + 323*q^30)*r^8 + (3520*m^2*q^30 + 969*q^32)*r^6 + (220*m^2*q^32 + 171*q^34)*r^4 - 2*(11*m*q^34*r^2 + 187*m*q^32*r^4 + 11*m*r^36 + 11*(60*m^3 + 17*m*q^2)*r^34 + 88*(84*m^5 + 105*m^3*q^2 + 17*m*q^4)*r^32 + 44*(480*m^7 + 1848*m^5*q^2 + 1365*m^3*q^4 + 170*m*q^6)*r^30 + 220*(64*m^9 + 768*m^7*q^2 + 1848*m^5*q^4 + 1092*m^3*q^6 + 119*m*q^8)*r^28 + 4*(256*m^11 + 17600*m^9*q^2 + 147840*m^7*q^4 + 304920*m^5*q^6 + 165165*m^3*q^8 + 17017*m*q^10)*r^26 + 8*(256*m^11*q^2 + 17600*m^9*q^4 + 147840*m^7*q^6 + 304920*m^5*q^8 + 165165*m^3*q^10 + 17017*m*q^12)*r^24 + 4*(256*m^11*q^4 + 35200*m^9*q^6 + 369600*m^7*q^8 + 853776*m^5*q^10 + 495495*m^3*q^12 + 53482*m*q^14)*r^22 + 22*(3200*m^9*q^8 + 53760*m^7*q^10 + 155232*m^5*q^12 + 102960*m^3*q^14 + 12155*m*q^16)*r^20 + 110*(128*m^9*q^10 + 5376*m^7*q^12 + 22176*m^5*q^14 + 18018*m^3*q^16 + 2431*m*q^18)*r^18 + 88*(1920*m^7*q^14 + 13860*m^5*q^16 + 15015*m^3*q^18 + 2431*m*q^20)*r^16 + 44*(480*m^7*q^16 + 9240*m^5*q^18 + 15015*m^3*q^20 + 3094*m*q^22)*r^14 + 308*(264*m^5*q^20 + 780*m^3*q^22 + 221*m*q^24)*r^12 + 308*(24*m^5*q^22 + 195*m^3*q^24 + 85*m*q^26)*r^10 + 440*(21*m^3*q^26 + 17*m*q^28)*r^8 + 44*(15*m^3*q^28 + 34*m*q^30)*r^6)*sqrt(q^2 + r^2))                                                                                                                                                                                                                                                                                                                                                                                                                                                                                                                                                                                                                                                                                                                                                                                                                                                                                                                                                                                                                                                                                                                                                                                                                                                                                                                                                                                                                                                                                                                                                                                                                                                                                                                                                                                                                                                                                                                                                                                                                                                                                                                                                                                                                                                                                                                                                                                                                                                                                                                                                                                                                                                                                                                                                                                                                                                                                                                                                                                                                                                                                                                                                                                                                                                                                                                                                                                                                                                                                                                                                                                                                                                                                                                                                                                                                                                                                                                                                                                                                                                                                                                                                                                                                                                                                                                                                                                                                                                      0                                                                                                                                                                                                                                                                                                                                                                                                                                                                                                                                                                                                                                                                                                                                                                                                                                                                                                                                                                                                                                                                                                                                                                                                                                                                                                                                                                                                                                                                                                                                                                                                                                                                                                                                                                                                                                                                                                                                                                                                                                                                                                                                                                                                                                                                                                                                                                                                                                                                                                                                                                                                                                                                                                                                                                                                                                                                                                                                                                                                                                                                                                                                                                                                                                                                                                                                                                                                                                                                                                                                                                                                                                                                                                                                                                                                                                                                                                                                                                                                                                                                                                                                                                                                                                                                                                                                                                                                                                                      0]\n",
       "[                                                                                                                                                                                                                                                                                                                                                                                                                                                                                                                                                                                                                                                                                                                                                                                                                                                                                                                                                                                                                                                                                                                                                                                                                                                                                                                                                                                                                                                                                                                                                                                                                                                                                                                                                                                                                                                                                                                                                                                                                                                                                                                                                                                                                                                                                                                                                                                                                                                                                                                                                                                                                                                                                                                                                                                                                                                                                                                                                                                                                                                                                                                                                                                                                                                                                                                                                                                                                                                                                                                                                                                                                                                                                                                                                                                                                                                                                                                                                                                                                                                                                                                                                                                                                                                                                                                                                                                                                                                     0                                                                                                                                                                                                                                                                                                                                                                                                                                                                                                                                                                                                                                                                                                                                                                                                                                                                                                                                                                                                                                                                                                                                                                                                                                                                                                                                                                                                                                                                                                                                                                                                                                                                                                                                                                                                                                                                                                                                                                                                                                                                                                                                                                                                                                                                                                                                                                                                                                                                                                                                                                                                                                                                                                                                                                                                                                                                                                                                                                                                                                                                                                                                                                                                                                                                                                                                                                                                                                                                                                                                                                                                                                                                                                                                                                                                                                                                                                                                                                                                                                                                                                                                                                                                                                                                                                                                                                                                                                                      0                                                                                                                                                                                                                                                                                                                                                                                                                                                                                                                                                                                                                                                                                                                                                                                                                                                                                                                                                                                                                                                                                                                                                                                                                                                                                                                                                                                                                                                                                                                                                                                                                                                                                                                                                                                                                                                                                                                                                                                                                                                                                                                                                                                                                                                                                                                                                                                                                                                                                                                                                                                                                                                                                                                                                                                                                                                                                                                                                                                                                                                                                                                                                                                                                                                                                                                                                                                                                                                                                                                                                                                                                                                                                                                                                                                                                                                                                                                      -6*(6*m^2*q^8*r^4 + 18*m^2*q^6*r^6 + 6*m^2*q^2*r^10 + 2*(4*m^4*q^2 + 9*m^2*q^4)*r^8 - (m*q^10*r^2 + 4*m*q^8*r^4 + m*q^2*r^10 + 4*(3*m^3*q^2 + m*q^4)*r^8 + 6*(2*m^3*q^4 + m*q^6)*r^6)*sqrt(q^2 + r^2))/(q^14 + 7*q^12*r^2 + r^14 + (12*m^2 + 7*q^2)*r^12 + 3*(16*m^2*q^2 + 7*q^4)*r^10 + (72*m^2*q^4 + 35*q^6)*r^8 + (48*m^2*q^6 + 35*q^8)*r^6 + 3*(4*m^2*q^8 + 7*q^10)*r^4 - 2*(3*m*q^10*r^2 + 15*m*q^8*r^4 + 3*m*r^12 + (4*m^3 + 15*m*q^2)*r^10 + 2*(4*m^3*q^2 + 15*m*q^4)*r^8 + 2*(2*m^3*q^4 + 15*m*q^6)*r^6)*sqrt(q^2 + r^2))                                                                                                                                                                                                                                                                                                                                                                                                                                                                                                                                                                                                                                                                                                                                                                                                                                                                                                                                                                                                                                                                                                                                                                                                                                                                                                                                                                                                                                                                                                                                                                                                                                                                                                                                                                                                                                                                                                                                                                                                                                                                                                                                                                                                                                                                                                                                                                                                                                                                                                                                                                                                                                                                                                                                                                                                                                                                                                                                                                                                                                                                                                                                                                                                                                                                                                                                                                                                                                                                                                                                                                                                                                                                                                                                                                                                                                                                                                                                                                                                                                                                                                                                                                                                                                                                                                                                                                                                                                                      0]\n",
       "[                                                                                                                                                                                                                                                                                                                                                                                                                                                                                                                                                                                                                                                                                                                                                                                                                                                                                                                                                                                                                                                                                                                                                                                                                                                                                                                                                                                                                                                                                                                                                                                                                                                                                                                                                                                                                                                                                                                                                                                                                                                                                                                                                                                                                                                                                                                                                                                                                                                                                                                                                                                                                                                                                                                                                                                                                                                                                                                                                                                                                                                                                                                                                                                                                                                                                                                                                                                                                                                                                                                                                                                                                                                                                                                                                                                                                                                                                                                                                                                                                                                                                                                                                                                                                                                                                                                                                                                                                                                     0                                                                                                                                                                                                                                                                                                                                                                                                                                                                                                                                                                                                                                                                                                                                                                                                                                                                                                                                                                                                                                                                                                                                                                                                                                                                                                                                                                                                                                                                                                                                                                                                                                                                                                                                                                                                                                                                                                                                                                                                                                                                                                                                                                                                                                                                                                                                                                                                                                                                                                                                                                                                                                                                                                                                                                                                                                                                                                                                                                                                                                                                                                                                                                                                                                                                                                                                                                                                                                                                                                                                                                                                                                                                                                                                                                                                                                                                                                                                                                                                                                                                                                                                                                                                                                                                                                                                                                                                                                                      0                                                                                                                                                                                                                                                                                                                                                                                                                                                                                                                                                                                                                                                                                                                                                                                                                                                                                                                                                                                                                                                                                                                                                                                                                                                                                                                                                                                                                                                                                                                                                                                                                                                                                                                                                                                                                                                                                                                                                                                                                                                                                                                                                                                                                                                                                                                                                                                                                                                                                                                                                                                                                                                                                                                                                                                                                                                                                                                                                                                                                                                                                                                                                                                                                                                                                                                                                                                                                                                                                                                                                                                                                                                                                                                                                                                                                                                                                                                                                                                                                                                                                                                                                                                                                                                                                                                                                                                                                                                      0                                                                                                                                                                                                                                                                                                                                                                                                                                                                                                                                                                                                                                                                                                                                                                                                                                                                                                                                                                                                                                                                                                                                                                                                                                                                                                                                                                                                                                                                                                                                                                                                                                                                                                                                                                                                                                                                                                                                                                                                                                                                                                                                                                                                                                                                                                                                                                                                                                                                                                                                                                                                                                                                                                                                                                                                                                                                                                                                                                                                                                                                                                                                                                                                                                                                                                                                                                                                                                                                                                                                                                                                                                                                                                                                                                                                                                                                                                  6*((m*q^10*r^2 + 4*m*q^8*r^4 + m*q^2*r^10 + 4*(3*m^3*q^2 + m*q^4)*r^8 + 6*(2*m^3*q^4 + m*q^6)*r^6)*sqrt(q^2 + r^2)*sin(th)^2 - 2*(3*m^2*q^8*r^4 + 9*m^2*q^6*r^6 + 3*m^2*q^2*r^10 + (4*m^4*q^2 + 9*m^2*q^4)*r^8)*sin(th)^2)/(q^14 + 7*q^12*r^2 + r^14 + (12*m^2 + 7*q^2)*r^12 + 3*(16*m^2*q^2 + 7*q^4)*r^10 + (72*m^2*q^4 + 35*q^6)*r^8 + (48*m^2*q^6 + 35*q^8)*r^6 + 3*(4*m^2*q^8 + 7*q^10)*r^4 - 2*(3*m*q^10*r^2 + 15*m*q^8*r^4 + 3*m*r^12 + (4*m^3 + 15*m*q^2)*r^10 + 2*(4*m^3*q^2 + 15*m*q^4)*r^8 + 2*(2*m^3*q^4 + 15*m*q^6)*r^6)*sqrt(q^2 + r^2))]"
      ]
     },
     "execution_count": 73,
     "metadata": {},
     "output_type": "execute_result"
    }
   ],
   "source": [
    "Ricci3 = h.ricci()\n",
    "Ricci3[:]"
   ]
  },
  {
   "cell_type": "code",
   "execution_count": 69,
   "id": "7efdd65b",
   "metadata": {
    "scrolled": true
   },
   "outputs": [
    {
     "data": {
      "text/html": [
       "<html>\\[\\newcommand{\\Bold}[1]{\\mathbf{#1}}\\frac{18 \\, {\\left(8 \\, q^{4} - 4 \\, q^{2} r^{2} + 13 \\, r^{4}\\right)} m^{2} q^{4}}{{\\left(q^{2} + r^{2}\\right)}^{7}}\\]</html>"
      ],
      "text/latex": [
       "$$\\newcommand{\\Bold}[1]{\\mathbf{#1}}\\frac{18 \\, {\\left(8 \\, q^{4} - 4 \\, q^{2} r^{2} + 13 \\, r^{4}\\right)} m^{2} q^{4}}{{\\left(q^{2} + r^{2}\\right)}^{7}}$$"
      ],
      "text/plain": [
       "18*(8*q^4 - 4*q^2*r^2 + 13*r^4)*m^2*q^4/(q^2 + r^2)^7"
      ]
     },
     "execution_count": 69,
     "metadata": {},
     "output_type": "execute_result"
    }
   ],
   "source": [
    "ricci_con = Ricci3.up(h)['^{ab}']*Ricci3['_{ab}']\n",
    "ricci_con.expr().factor()"
   ]
  },
  {
   "cell_type": "code",
   "execution_count": 70,
   "id": "a92a9442",
   "metadata": {},
   "outputs": [
    {
     "data": {
      "text/html": [
       "<html>\\[\\newcommand{\\Bold}[1]{\\mathbf{#1}}\\frac{12 \\, {\\left(8 \\, q^{8} - 4 \\, q^{6} r^{2} + 47 \\, q^{4} r^{4} - 12 \\, q^{2} r^{6} + 4 \\, r^{8}\\right)} m^{2}}{{\\left(q^{2} + r^{2}\\right)}^{7}}\\]</html>"
      ],
      "text/latex": [
       "$$\\newcommand{\\Bold}[1]{\\mathbf{#1}}\\frac{12 \\, {\\left(8 \\, q^{8} - 4 \\, q^{6} r^{2} + 47 \\, q^{4} r^{4} - 12 \\, q^{2} r^{6} + 4 \\, r^{8}\\right)} m^{2}}{{\\left(q^{2} + r^{2}\\right)}^{7}}$$"
      ],
      "text/plain": [
       "12*(8*q^8 - 4*q^6*r^2 + 47*q^4*r^4 - 12*q^2*r^6 + 4*r^8)*m^2/(q^2 + r^2)^7"
      ]
     },
     "execution_count": 70,
     "metadata": {},
     "output_type": "execute_result"
    }
   ],
   "source": [
    "K2 = Riemann3.down(h)['_{abcd}'] * Riemann3.up(h)['^{abcd}']\n",
    "K2.expr().factor()"
   ]
  },
  {
   "cell_type": "code",
   "execution_count": 72,
   "id": "78613744",
   "metadata": {},
   "outputs": [
    {
     "data": {
      "text/html": [
       "<html>\\[\\newcommand{\\Bold}[1]{\\mathbf{#1}}-\\frac{6 \\, {\\left(36 \\, m q^{52} r^{2} + 936 \\, m q^{50} r^{4} + 6528 \\, m^{3} q^{46} r^{6} + 11700 \\, m q^{48} r^{6} + 150144 \\, m^{3} q^{44} r^{8} + 93600 \\, m q^{46} r^{8} + 274176 \\, m^{5} q^{40} r^{10} + 1651584 \\, m^{3} q^{42} r^{10} + 538200 \\, m q^{44} r^{10} + 5483520 \\, m^{5} q^{38} r^{12} + 11561088 \\, m^{3} q^{40} r^{12} + 2368080 \\, m q^{42} r^{12} + 4073472 \\, m^{7} q^{34} r^{14} + 52093440 \\, m^{5} q^{36} r^{14} + 57805440 \\, m^{3} q^{38} r^{14} + 8288280 \\, m q^{40} r^{14} + 69249024 \\, m^{7} q^{32} r^{16} + 312560640 \\, m^{5} q^{34} r^{16} + 219660672 \\, m^{3} q^{36} r^{16} + 23680800 \\, m q^{38} r^{16} + 24893440 \\, m^{9} q^{28} r^{18} + 553992192 \\, m^{7} q^{30} r^{18} + 1328382720 \\, m^{5} q^{32} r^{18} + 658982016 \\, m^{3} q^{34} r^{18} + 56241900 \\, m q^{36} r^{18} + 348508160 \\, m^{9} q^{26} r^{20} + 2769960960 \\, m^{7} q^{28} r^{20} + 4250824704 \\, m^{5} q^{30} r^{20} + 1600384896 \\, m^{3} q^{32} r^{20} + 112483800 \\, m q^{34} r^{20} + 65175552 \\, m^{11} q^{22} r^{22} + 2265303040 \\, m^{9} q^{24} r^{22} + 9694863360 \\, m^{7} q^{26} r^{22} + 10627061760 \\, m^{5} q^{28} r^{22} + 3200769792 \\, m^{3} q^{30} r^{22} + 191222460 \\, m q^{32} r^{22} + 716931072 \\, m^{11} q^{20} r^{24} + 9061212160 \\, m^{9} q^{22} r^{24} + 25206644736 \\, m^{7} q^{24} r^{24} + 21254123520 \\, m^{5} q^{26} r^{24} + 5334616320 \\, m^{3} q^{28} r^{24} + 278141760 \\, m q^{30} r^{24} + 70189056 \\, m^{13} q^{16} r^{26} + 3584655360 \\, m^{11} q^{18} r^{26} + 24918333440 \\, m^{9} q^{20} r^{26} + 50413289472 \\, m^{7} q^{22} r^{26} + 34537950720 \\, m^{5} q^{24} r^{26} + 7468462848 \\, m^{3} q^{26} r^{26} + 347677200 \\, m q^{28} r^{26} + 561512448 \\, m^{13} q^{14} r^{28} + 10753966080 \\, m^{11} q^{16} r^{28} + 49836666880 \\, m^{9} q^{18} r^{28} + 79220883456 \\, m^{7} q^{20} r^{28} + 46050600960 \\, m^{5} q^{22} r^{28} + 8826365184 \\, m^{3} q^{24} r^{28} + 374421600 \\, m q^{26} r^{28} + 26738688 \\, m^{15} q^{10} r^{30} + 1965293568 \\, m^{13} q^{12} r^{30} + 21507932160 \\, m^{11} q^{14} r^{30} + 74755000320 \\, m^{9} q^{16} r^{30} + 99026104320 \\, m^{7} q^{18} r^{30} + 50655661056 \\, m^{5} q^{20} r^{30} + 8826365184 \\, m^{3} q^{22} r^{30} + 347677200 \\, m q^{24} r^{30} + 133693440 \\, m^{15} q^{8} r^{32} + 3930587136 \\, m^{13} q^{10} r^{32} + 30111105024 \\, m^{11} q^{12} r^{32} + 85434286080 \\, m^{9} q^{14} r^{32} + 99026104320 \\, m^{7} q^{16} r^{32} + 46050600960 \\, m^{5} q^{18} r^{32} + 7468462848 \\, m^{3} q^{20} r^{32} + 278141760 \\, m q^{22} r^{32} + 2359296 \\, m^{17} q^{4} r^{34} + 267386880 \\, m^{15} q^{6} r^{34} + 4913233920 \\, m^{13} q^{8} r^{34} + 30111105024 \\, m^{11} q^{10} r^{34} + 74755000320 \\, m^{9} q^{12} r^{34} + 79220883456 \\, m^{7} q^{14} r^{34} + 34537950720 \\, m^{5} q^{16} r^{34} + 5334616320 \\, m^{3} q^{18} r^{34} + 191222460 \\, m q^{20} r^{34} + 4718592 \\, m^{17} q^{2} r^{36} + 267386880 \\, m^{15} q^{4} r^{36} + 3930587136 \\, m^{13} q^{6} r^{36} + 21507932160 \\, m^{11} q^{8} r^{36} + 49836666880 \\, m^{9} q^{10} r^{36} + 50413289472 \\, m^{7} q^{12} r^{36} + 21254123520 \\, m^{5} q^{14} r^{36} + 3200769792 \\, m^{3} q^{16} r^{36} + 112483800 \\, m q^{18} r^{36} + 2359296 \\, m^{17} r^{38} + 133693440 \\, m^{15} q^{2} r^{38} + 1965293568 \\, m^{13} q^{4} r^{38} + 10753966080 \\, m^{11} q^{6} r^{38} + 24918333440 \\, m^{9} q^{8} r^{38} + 25206644736 \\, m^{7} q^{10} r^{38} + 10627061760 \\, m^{5} q^{12} r^{38} + 1600384896 \\, m^{3} q^{14} r^{38} + 56241900 \\, m q^{16} r^{38} + 26738688 \\, m^{15} r^{40} + 561512448 \\, m^{13} q^{2} r^{40} + 3584655360 \\, m^{11} q^{4} r^{40} + 9061212160 \\, m^{9} q^{6} r^{40} + 9694863360 \\, m^{7} q^{8} r^{40} + 4250824704 \\, m^{5} q^{10} r^{40} + 658982016 \\, m^{3} q^{12} r^{40} + 23680800 \\, m q^{14} r^{40} + 70189056 \\, m^{13} r^{42} + 716931072 \\, m^{11} q^{2} r^{42} + 2265303040 \\, m^{9} q^{4} r^{42} + 2769960960 \\, m^{7} q^{6} r^{42} + 1328382720 \\, m^{5} q^{8} r^{42} + 219660672 \\, m^{3} q^{10} r^{42} + 8288280 \\, m q^{12} r^{42} + 65175552 \\, m^{11} r^{44} + 348508160 \\, m^{9} q^{2} r^{44} + 553992192 \\, m^{7} q^{4} r^{44} + 312560640 \\, m^{5} q^{6} r^{44} + 57805440 \\, m^{3} q^{8} r^{44} + 2368080 \\, m q^{10} r^{44} + 24893440 \\, m^{9} r^{46} + 69249024 \\, m^{7} q^{2} r^{46} + 52093440 \\, m^{5} q^{4} r^{46} + 11561088 \\, m^{3} q^{6} r^{46} + 538200 \\, m q^{8} r^{46} + 4073472 \\, m^{7} r^{48} + 5483520 \\, m^{5} q^{2} r^{48} + 1651584 \\, m^{3} q^{4} r^{48} + 93600 \\, m q^{6} r^{48} + 274176 \\, m^{5} r^{50} + 150144 \\, m^{3} q^{2} r^{50} + 11700 \\, m q^{4} r^{50} + 6528 \\, m^{3} r^{52} + 936 \\, m q^{2} r^{52} + 36 \\, m r^{54} - \\sqrt{q^{2} + r^{2}} q^{54} - 27 \\, \\sqrt{q^{2} + r^{2}} q^{52} r^{2} - 612 \\, \\sqrt{q^{2} + r^{2}} m^{2} q^{48} r^{4} - 351 \\, \\sqrt{q^{2} + r^{2}} q^{50} r^{4} - 14688 \\, \\sqrt{q^{2} + r^{2}} m^{2} q^{46} r^{6} - 2925 \\, \\sqrt{q^{2} + r^{2}} q^{48} r^{6} - 48960 \\, \\sqrt{q^{2} + r^{2}} m^{4} q^{42} r^{8} - 168912 \\, \\sqrt{q^{2} + r^{2}} m^{2} q^{44} r^{8} - 17550 \\, \\sqrt{q^{2} + r^{2}} q^{46} r^{8} - 1028160 \\, \\sqrt{q^{2} + r^{2}} m^{4} q^{40} r^{10} - 1238688 \\, \\sqrt{q^{2} + r^{2}} m^{2} q^{42} r^{10} - 80730 \\, \\sqrt{q^{2} + r^{2}} q^{44} r^{10} - 1188096 \\, \\sqrt{q^{2} + r^{2}} m^{6} q^{36} r^{12} - 10281600 \\, \\sqrt{q^{2} + r^{2}} m^{4} q^{38} r^{12} - 6503112 \\, \\sqrt{q^{2} + r^{2}} m^{2} q^{40} r^{12} - 296010 \\, \\sqrt{q^{2} + r^{2}} q^{42} r^{12} - 21385728 \\, \\sqrt{q^{2} + r^{2}} m^{6} q^{34} r^{14} - 65116800 \\, \\sqrt{q^{2} + r^{2}} m^{4} q^{36} r^{14} - 26012448 \\, \\sqrt{q^{2} + r^{2}} m^{2} q^{38} r^{14} - 888030 \\, \\sqrt{q^{2} + r^{2}} q^{40} r^{14} - 11202048 \\, \\sqrt{q^{2} + r^{2}} m^{8} q^{30} r^{16} - 181778688 \\, \\sqrt{q^{2} + r^{2}} m^{6} q^{32} r^{16} - 293025600 \\, \\sqrt{q^{2} + r^{2}} m^{4} q^{34} r^{16} - 82372752 \\, \\sqrt{q^{2} + r^{2}} m^{2} q^{36} r^{16} - 2220075 \\, \\sqrt{q^{2} + r^{2}} q^{38} r^{16} - 168030720 \\, \\sqrt{q^{2} + r^{2}} m^{8} q^{28} r^{18} - 969486336 \\, \\sqrt{q^{2} + r^{2}} m^{6} q^{30} r^{18} - 996287040 \\, \\sqrt{q^{2} + r^{2}} m^{4} q^{32} r^{18} - 211815648 \\, \\sqrt{q^{2} + r^{2}} m^{2} q^{34} r^{18} - 4686825 \\, \\sqrt{q^{2} + r^{2}} q^{36} r^{18} - 44808192 \\, \\sqrt{q^{2} + r^{2}} m^{10} q^{24} r^{20} - 1176215040 \\, \\sqrt{q^{2} + r^{2}} m^{8} q^{26} r^{20} - 3635573760 \\, \\sqrt{q^{2} + r^{2}} m^{6} q^{28} r^{20} - 2656765440 \\, \\sqrt{q^{2} + r^{2}} m^{4} q^{30} r^{20} - 450108252 \\, \\sqrt{q^{2} + r^{2}} m^{2} q^{32} r^{20} - 8436285 \\, \\sqrt{q^{2} + r^{2}} q^{34} r^{20} - 537698304 \\, \\sqrt{q^{2} + r^{2}} m^{10} q^{22} r^{22} - 5096931840 \\, \\sqrt{q^{2} + r^{2}} m^{8} q^{24} r^{22} - 10179606528 \\, \\sqrt{q^{2} + r^{2}} m^{6} q^{26} r^{22} - 5693068800 \\, \\sqrt{q^{2} + r^{2}} m^{4} q^{28} r^{22} - 800192448 \\, \\sqrt{q^{2} + r^{2}} m^{2} q^{30} r^{22} - 13037895 \\, \\sqrt{q^{2} + r^{2}} q^{32} r^{22} - 76038144 \\, \\sqrt{q^{2} + r^{2}} m^{12} q^{18} r^{24} - 2957340672 \\, \\sqrt{q^{2} + r^{2}} m^{10} q^{20} r^{24} - 15290795520 \\, \\sqrt{q^{2} + r^{2}} m^{8} q^{22} r^{24} - 22055814144 \\, \\sqrt{q^{2} + r^{2}} m^{6} q^{24} r^{24} - 9962870400 \\, \\sqrt{q^{2} + r^{2}} m^{4} q^{26} r^{24} - 1200288672 \\, \\sqrt{q^{2} + r^{2}} m^{2} q^{28} r^{24} - 17383860 \\, \\sqrt{q^{2} + r^{2}} q^{30} r^{24} - 684343296 \\, \\sqrt{q^{2} + r^{2}} m^{12} q^{16} r^{26} - 9857802240 \\, \\sqrt{q^{2} + r^{2}} m^{10} q^{18} r^{26} - 33639750144 \\, \\sqrt{q^{2} + r^{2}} m^{8} q^{20} r^{26} - 37809967104 \\, \\sqrt{q^{2} + r^{2}} m^{6} q^{22} r^{26} - 14390812800 \\, \\sqrt{q^{2} + r^{2}} m^{4} q^{24} r^{26} - 1527640128 \\, \\sqrt{q^{2} + r^{2}} m^{2} q^{26} r^{26} - 20058300 \\, \\sqrt{q^{2} + r^{2}} q^{28} r^{26} - 50135040 \\, \\sqrt{q^{2} + r^{2}} m^{14} q^{12} r^{28} - 2737373184 \\, \\sqrt{q^{2} + r^{2}} m^{12} q^{14} r^{28} - 22180055040 \\, \\sqrt{q^{2} + r^{2}} m^{10} q^{16} r^{28} - 56066250240 \\, \\sqrt{q^{2} + r^{2}} m^{8} q^{18} r^{28} - 51988704768 \\, \\sqrt{q^{2} + r^{2}} m^{6} q^{20} r^{28} - 17268975360 \\, \\sqrt{q^{2} + r^{2}} m^{4} q^{22} r^{28} - 1654943472 \\, \\sqrt{q^{2} + r^{2}} m^{2} q^{24} r^{28} - 20058300 \\, \\sqrt{q^{2} + r^{2}} q^{26} r^{28} - 300810240 \\, \\sqrt{q^{2} + r^{2}} m^{14} q^{10} r^{30} - 6387204096 \\, \\sqrt{q^{2} + r^{2}} m^{12} q^{12} r^{30} - 35488088064 \\, \\sqrt{q^{2} + r^{2}} m^{10} q^{14} r^{30} - 72085178880 \\, \\sqrt{q^{2} + r^{2}} m^{8} q^{16} r^{30} - 57765227520 \\, \\sqrt{q^{2} + r^{2}} m^{6} q^{18} r^{30} - 17268975360 \\, \\sqrt{q^{2} + r^{2}} m^{4} q^{20} r^{30} - 1527640128 \\, \\sqrt{q^{2} + r^{2}} m^{2} q^{22} r^{30} - 17383860 \\, \\sqrt{q^{2} + r^{2}} q^{24} r^{30} - 10027008 \\, \\sqrt{q^{2} + r^{2}} m^{16} q^{6} r^{32} - 752025600 \\, \\sqrt{q^{2} + r^{2}} m^{14} q^{8} r^{32} - 9580806144 \\, \\sqrt{q^{2} + r^{2}} m^{12} q^{10} r^{32} - 41402769408 \\, \\sqrt{q^{2} + r^{2}} m^{10} q^{12} r^{32} - 72085178880 \\, \\sqrt{q^{2} + r^{2}} m^{8} q^{14} r^{32} - 51988704768 \\, \\sqrt{q^{2} + r^{2}} m^{6} q^{16} r^{32} - 14390812800 \\, \\sqrt{q^{2} + r^{2}} m^{4} q^{18} r^{32} - 1200288672 \\, \\sqrt{q^{2} + r^{2}} m^{2} q^{20} r^{32} - 13037895 \\, \\sqrt{q^{2} + r^{2}} q^{22} r^{32} - 30081024 \\, \\sqrt{q^{2} + r^{2}} m^{16} q^{4} r^{34} - 1002700800 \\, \\sqrt{q^{2} + r^{2}} m^{14} q^{6} r^{34} - 9580806144 \\, \\sqrt{q^{2} + r^{2}} m^{12} q^{8} r^{34} - 35488088064 \\, \\sqrt{q^{2} + r^{2}} m^{10} q^{10} r^{34} - 56066250240 \\, \\sqrt{q^{2} + r^{2}} m^{8} q^{12} r^{34} - 37809967104 \\, \\sqrt{q^{2} + r^{2}} m^{6} q^{14} r^{34} - 9962870400 \\, \\sqrt{q^{2} + r^{2}} m^{4} q^{16} r^{34} - 800192448 \\, \\sqrt{q^{2} + r^{2}} m^{2} q^{18} r^{34} - 8436285 \\, \\sqrt{q^{2} + r^{2}} q^{20} r^{34} - 262144 \\, \\sqrt{q^{2} + r^{2}} m^{18} r^{36} - 30081024 \\, \\sqrt{q^{2} + r^{2}} m^{16} q^{2} r^{36} - 752025600 \\, \\sqrt{q^{2} + r^{2}} m^{14} q^{4} r^{36} - 6387204096 \\, \\sqrt{q^{2} + r^{2}} m^{12} q^{6} r^{36} - 22180055040 \\, \\sqrt{q^{2} + r^{2}} m^{10} q^{8} r^{36} - 33639750144 \\, \\sqrt{q^{2} + r^{2}} m^{8} q^{10} r^{36} - 22055814144 \\, \\sqrt{q^{2} + r^{2}} m^{6} q^{12} r^{36} - 5693068800 \\, \\sqrt{q^{2} + r^{2}} m^{4} q^{14} r^{36} - 450108252 \\, \\sqrt{q^{2} + r^{2}} m^{2} q^{16} r^{36} - 4686825 \\, \\sqrt{q^{2} + r^{2}} q^{18} r^{36} - 10027008 \\, \\sqrt{q^{2} + r^{2}} m^{16} r^{38} - 300810240 \\, \\sqrt{q^{2} + r^{2}} m^{14} q^{2} r^{38} - 2737373184 \\, \\sqrt{q^{2} + r^{2}} m^{12} q^{4} r^{38} - 9857802240 \\, \\sqrt{q^{2} + r^{2}} m^{10} q^{6} r^{38} - 15290795520 \\, \\sqrt{q^{2} + r^{2}} m^{8} q^{8} r^{38} - 10179606528 \\, \\sqrt{q^{2} + r^{2}} m^{6} q^{10} r^{38} - 2656765440 \\, \\sqrt{q^{2} + r^{2}} m^{4} q^{12} r^{38} - 211815648 \\, \\sqrt{q^{2} + r^{2}} m^{2} q^{14} r^{38} - 2220075 \\, \\sqrt{q^{2} + r^{2}} q^{16} r^{38} - 50135040 \\, \\sqrt{q^{2} + r^{2}} m^{14} r^{40} - 684343296 \\, \\sqrt{q^{2} + r^{2}} m^{12} q^{2} r^{40} - 2957340672 \\, \\sqrt{q^{2} + r^{2}} m^{10} q^{4} r^{40} - 5096931840 \\, \\sqrt{q^{2} + r^{2}} m^{8} q^{6} r^{40} - 3635573760 \\, \\sqrt{q^{2} + r^{2}} m^{6} q^{8} r^{40} - 996287040 \\, \\sqrt{q^{2} + r^{2}} m^{4} q^{10} r^{40} - 82372752 \\, \\sqrt{q^{2} + r^{2}} m^{2} q^{12} r^{40} - 888030 \\, \\sqrt{q^{2} + r^{2}} q^{14} r^{40} - 76038144 \\, \\sqrt{q^{2} + r^{2}} m^{12} r^{42} - 537698304 \\, \\sqrt{q^{2} + r^{2}} m^{10} q^{2} r^{42} - 1176215040 \\, \\sqrt{q^{2} + r^{2}} m^{8} q^{4} r^{42} - 969486336 \\, \\sqrt{q^{2} + r^{2}} m^{6} q^{6} r^{42} - 293025600 \\, \\sqrt{q^{2} + r^{2}} m^{4} q^{8} r^{42} - 26012448 \\, \\sqrt{q^{2} + r^{2}} m^{2} q^{10} r^{42} - 296010 \\, \\sqrt{q^{2} + r^{2}} q^{12} r^{42} - 44808192 \\, \\sqrt{q^{2} + r^{2}} m^{10} r^{44} - 168030720 \\, \\sqrt{q^{2} + r^{2}} m^{8} q^{2} r^{44} - 181778688 \\, \\sqrt{q^{2} + r^{2}} m^{6} q^{4} r^{44} - 65116800 \\, \\sqrt{q^{2} + r^{2}} m^{4} q^{6} r^{44} - 6503112 \\, \\sqrt{q^{2} + r^{2}} m^{2} q^{8} r^{44} - 80730 \\, \\sqrt{q^{2} + r^{2}} q^{10} r^{44} - 11202048 \\, \\sqrt{q^{2} + r^{2}} m^{8} r^{46} - 21385728 \\, \\sqrt{q^{2} + r^{2}} m^{6} q^{2} r^{46} - 10281600 \\, \\sqrt{q^{2} + r^{2}} m^{4} q^{4} r^{46} - 1238688 \\, \\sqrt{q^{2} + r^{2}} m^{2} q^{6} r^{46} - 17550 \\, \\sqrt{q^{2} + r^{2}} q^{8} r^{46} - 1188096 \\, \\sqrt{q^{2} + r^{2}} m^{6} r^{48} - 1028160 \\, \\sqrt{q^{2} + r^{2}} m^{4} q^{2} r^{48} - 168912 \\, \\sqrt{q^{2} + r^{2}} m^{2} q^{4} r^{48} - 2925 \\, \\sqrt{q^{2} + r^{2}} q^{6} r^{48} - 48960 \\, \\sqrt{q^{2} + r^{2}} m^{4} r^{50} - 14688 \\, \\sqrt{q^{2} + r^{2}} m^{2} q^{2} r^{50} - 351 \\, \\sqrt{q^{2} + r^{2}} q^{4} r^{50} - 612 \\, \\sqrt{q^{2} + r^{2}} m^{2} r^{52} - 27 \\, \\sqrt{q^{2} + r^{2}} q^{2} r^{52} - \\sqrt{q^{2} + r^{2}} r^{54}\\right)} m {\\left(2 \\, q + r\\right)} {\\left(2 \\, q - r\\right)} q^{2}}{{\\left(q^{54} + 27 \\, q^{52} r^{2} + 612 \\, m^{2} q^{48} r^{4} + 351 \\, q^{50} r^{4} + 14688 \\, m^{2} q^{46} r^{6} + 2925 \\, q^{48} r^{6} + 48960 \\, m^{4} q^{42} r^{8} + 168912 \\, m^{2} q^{44} r^{8} + 17550 \\, q^{46} r^{8} + 1028160 \\, m^{4} q^{40} r^{10} + 1238688 \\, m^{2} q^{42} r^{10} + 80730 \\, q^{44} r^{10} + 1188096 \\, m^{6} q^{36} r^{12} + 10281600 \\, m^{4} q^{38} r^{12} + 6503112 \\, m^{2} q^{40} r^{12} + 296010 \\, q^{42} r^{12} + 21385728 \\, m^{6} q^{34} r^{14} + 65116800 \\, m^{4} q^{36} r^{14} + 26012448 \\, m^{2} q^{38} r^{14} + 888030 \\, q^{40} r^{14} + 11202048 \\, m^{8} q^{30} r^{16} + 181778688 \\, m^{6} q^{32} r^{16} + 293025600 \\, m^{4} q^{34} r^{16} + 82372752 \\, m^{2} q^{36} r^{16} + 2220075 \\, q^{38} r^{16} + 168030720 \\, m^{8} q^{28} r^{18} + 969486336 \\, m^{6} q^{30} r^{18} + 996287040 \\, m^{4} q^{32} r^{18} + 211815648 \\, m^{2} q^{34} r^{18} + 4686825 \\, q^{36} r^{18} + 44808192 \\, m^{10} q^{24} r^{20} + 1176215040 \\, m^{8} q^{26} r^{20} + 3635573760 \\, m^{6} q^{28} r^{20} + 2656765440 \\, m^{4} q^{30} r^{20} + 450108252 \\, m^{2} q^{32} r^{20} + 8436285 \\, q^{34} r^{20} + 537698304 \\, m^{10} q^{22} r^{22} + 5096931840 \\, m^{8} q^{24} r^{22} + 10179606528 \\, m^{6} q^{26} r^{22} + 5693068800 \\, m^{4} q^{28} r^{22} + 800192448 \\, m^{2} q^{30} r^{22} + 13037895 \\, q^{32} r^{22} + 76038144 \\, m^{12} q^{18} r^{24} + 2957340672 \\, m^{10} q^{20} r^{24} + 15290795520 \\, m^{8} q^{22} r^{24} + 22055814144 \\, m^{6} q^{24} r^{24} + 9962870400 \\, m^{4} q^{26} r^{24} + 1200288672 \\, m^{2} q^{28} r^{24} + 17383860 \\, q^{30} r^{24} + 684343296 \\, m^{12} q^{16} r^{26} + 9857802240 \\, m^{10} q^{18} r^{26} + 33639750144 \\, m^{8} q^{20} r^{26} + 37809967104 \\, m^{6} q^{22} r^{26} + 14390812800 \\, m^{4} q^{24} r^{26} + 1527640128 \\, m^{2} q^{26} r^{26} + 20058300 \\, q^{28} r^{26} + 50135040 \\, m^{14} q^{12} r^{28} + 2737373184 \\, m^{12} q^{14} r^{28} + 22180055040 \\, m^{10} q^{16} r^{28} + 56066250240 \\, m^{8} q^{18} r^{28} + 51988704768 \\, m^{6} q^{20} r^{28} + 17268975360 \\, m^{4} q^{22} r^{28} + 1654943472 \\, m^{2} q^{24} r^{28} + 20058300 \\, q^{26} r^{28} + 300810240 \\, m^{14} q^{10} r^{30} + 6387204096 \\, m^{12} q^{12} r^{30} + 35488088064 \\, m^{10} q^{14} r^{30} + 72085178880 \\, m^{8} q^{16} r^{30} + 57765227520 \\, m^{6} q^{18} r^{30} + 17268975360 \\, m^{4} q^{20} r^{30} + 1527640128 \\, m^{2} q^{22} r^{30} + 17383860 \\, q^{24} r^{30} + 10027008 \\, m^{16} q^{6} r^{32} + 752025600 \\, m^{14} q^{8} r^{32} + 9580806144 \\, m^{12} q^{10} r^{32} + 41402769408 \\, m^{10} q^{12} r^{32} + 72085178880 \\, m^{8} q^{14} r^{32} + 51988704768 \\, m^{6} q^{16} r^{32} + 14390812800 \\, m^{4} q^{18} r^{32} + 1200288672 \\, m^{2} q^{20} r^{32} + 13037895 \\, q^{22} r^{32} + 30081024 \\, m^{16} q^{4} r^{34} + 1002700800 \\, m^{14} q^{6} r^{34} + 9580806144 \\, m^{12} q^{8} r^{34} + 35488088064 \\, m^{10} q^{10} r^{34} + 56066250240 \\, m^{8} q^{12} r^{34} + 37809967104 \\, m^{6} q^{14} r^{34} + 9962870400 \\, m^{4} q^{16} r^{34} + 800192448 \\, m^{2} q^{18} r^{34} + 8436285 \\, q^{20} r^{34} + 262144 \\, m^{18} r^{36} + 30081024 \\, m^{16} q^{2} r^{36} + 752025600 \\, m^{14} q^{4} r^{36} + 6387204096 \\, m^{12} q^{6} r^{36} + 22180055040 \\, m^{10} q^{8} r^{36} + 33639750144 \\, m^{8} q^{10} r^{36} + 22055814144 \\, m^{6} q^{12} r^{36} + 5693068800 \\, m^{4} q^{14} r^{36} + 450108252 \\, m^{2} q^{16} r^{36} + 4686825 \\, q^{18} r^{36} + 10027008 \\, m^{16} r^{38} + 300810240 \\, m^{14} q^{2} r^{38} + 2737373184 \\, m^{12} q^{4} r^{38} + 9857802240 \\, m^{10} q^{6} r^{38} + 15290795520 \\, m^{8} q^{8} r^{38} + 10179606528 \\, m^{6} q^{10} r^{38} + 2656765440 \\, m^{4} q^{12} r^{38} + 211815648 \\, m^{2} q^{14} r^{38} + 2220075 \\, q^{16} r^{38} + 50135040 \\, m^{14} r^{40} + 684343296 \\, m^{12} q^{2} r^{40} + 2957340672 \\, m^{10} q^{4} r^{40} + 5096931840 \\, m^{8} q^{6} r^{40} + 3635573760 \\, m^{6} q^{8} r^{40} + 996287040 \\, m^{4} q^{10} r^{40} + 82372752 \\, m^{2} q^{12} r^{40} + 888030 \\, q^{14} r^{40} + 76038144 \\, m^{12} r^{42} + 537698304 \\, m^{10} q^{2} r^{42} + 1176215040 \\, m^{8} q^{4} r^{42} + 969486336 \\, m^{6} q^{6} r^{42} + 293025600 \\, m^{4} q^{8} r^{42} + 26012448 \\, m^{2} q^{10} r^{42} + 296010 \\, q^{12} r^{42} + 44808192 \\, m^{10} r^{44} + 168030720 \\, m^{8} q^{2} r^{44} + 181778688 \\, m^{6} q^{4} r^{44} + 65116800 \\, m^{4} q^{6} r^{44} + 6503112 \\, m^{2} q^{8} r^{44} + 80730 \\, q^{10} r^{44} + 11202048 \\, m^{8} r^{46} + 21385728 \\, m^{6} q^{2} r^{46} + 10281600 \\, m^{4} q^{4} r^{46} + 1238688 \\, m^{2} q^{6} r^{46} + 17550 \\, q^{8} r^{46} + 1188096 \\, m^{6} r^{48} + 1028160 \\, m^{4} q^{2} r^{48} + 168912 \\, m^{2} q^{4} r^{48} + 2925 \\, q^{6} r^{48} + 48960 \\, m^{4} r^{50} + 14688 \\, m^{2} q^{2} r^{50} + 351 \\, q^{4} r^{50} + 612 \\, m^{2} r^{52} + 27 \\, q^{2} r^{52} + r^{54} - 36 \\, \\sqrt{q^{2} + r^{2}} m q^{50} r^{2} - 900 \\, \\sqrt{q^{2} + r^{2}} m q^{48} r^{4} - 6528 \\, \\sqrt{q^{2} + r^{2}} m^{3} q^{44} r^{6} - 10800 \\, \\sqrt{q^{2} + r^{2}} m q^{46} r^{6} - 143616 \\, \\sqrt{q^{2} + r^{2}} m^{3} q^{42} r^{8} - 82800 \\, \\sqrt{q^{2} + r^{2}} m q^{44} r^{8} - 274176 \\, \\sqrt{q^{2} + r^{2}} m^{5} q^{38} r^{10} - 1507968 \\, \\sqrt{q^{2} + r^{2}} m^{3} q^{40} r^{10} - 455400 \\, \\sqrt{q^{2} + r^{2}} m q^{42} r^{10} - 5209344 \\, \\sqrt{q^{2} + r^{2}} m^{5} q^{36} r^{12} - 10053120 \\, \\sqrt{q^{2} + r^{2}} m^{3} q^{38} r^{12} - 1912680 \\, \\sqrt{q^{2} + r^{2}} m q^{40} r^{12} - 4073472 \\, \\sqrt{q^{2} + r^{2}} m^{7} q^{32} r^{14} - 46884096 \\, \\sqrt{q^{2} + r^{2}} m^{5} q^{34} r^{14} - 47752320 \\, \\sqrt{q^{2} + r^{2}} m^{3} q^{36} r^{14} - 6375600 \\, \\sqrt{q^{2} + r^{2}} m q^{38} r^{14} - 65175552 \\, \\sqrt{q^{2} + r^{2}} m^{7} q^{30} r^{16} - 265676544 \\, \\sqrt{q^{2} + r^{2}} m^{5} q^{32} r^{16} - 171908352 \\, \\sqrt{q^{2} + r^{2}} m^{3} q^{34} r^{16} - 17305200 \\, \\sqrt{q^{2} + r^{2}} m q^{36} r^{16} - 24893440 \\, \\sqrt{q^{2} + r^{2}} m^{9} q^{26} r^{18} - 488816640 \\, \\sqrt{q^{2} + r^{2}} m^{7} q^{28} r^{18} - 1062706176 \\, \\sqrt{q^{2} + r^{2}} m^{5} q^{30} r^{18} - 487073664 \\, \\sqrt{q^{2} + r^{2}} m^{3} q^{32} r^{18} - 38936700 \\, \\sqrt{q^{2} + r^{2}} m q^{34} r^{18} - 323614720 \\, \\sqrt{q^{2} + r^{2}} m^{9} q^{24} r^{20} - 2281144320 \\, \\sqrt{q^{2} + r^{2}} m^{7} q^{26} r^{20} - 3188118528 \\, \\sqrt{q^{2} + r^{2}} m^{5} q^{28} r^{20} - 1113311232 \\, \\sqrt{q^{2} + r^{2}} m^{3} q^{30} r^{20} - 73547100 \\, \\sqrt{q^{2} + r^{2}} m q^{32} r^{20} - 65175552 \\, \\sqrt{q^{2} + r^{2}} m^{11} q^{20} r^{22} - 1941688320 \\, \\sqrt{q^{2} + r^{2}} m^{9} q^{22} r^{22} - 7413719040 \\, \\sqrt{q^{2} + r^{2}} m^{7} q^{24} r^{22} - 7438943232 \\, \\sqrt{q^{2} + r^{2}} m^{5} q^{26} r^{22} - 2087458560 \\, \\sqrt{q^{2} + r^{2}} m^{3} q^{28} r^{22} - 117675360 \\, \\sqrt{q^{2} + r^{2}} m q^{30} r^{22} - 651755520 \\, \\sqrt{q^{2} + r^{2}} m^{11} q^{18} r^{24} - 7119523840 \\, \\sqrt{q^{2} + r^{2}} m^{9} q^{20} r^{24} - 17792925696 \\, \\sqrt{q^{2} + r^{2}} m^{7} q^{22} r^{24} - 13815180288 \\, \\sqrt{q^{2} + r^{2}} m^{5} q^{24} r^{24} - 3247157760 \\, \\sqrt{q^{2} + r^{2}} m^{3} q^{26} r^{24} - 160466400 \\, \\sqrt{q^{2} + r^{2}} m q^{28} r^{24} - 70189056 \\, \\sqrt{q^{2} + r^{2}} m^{13} q^{14} r^{26} - 2932899840 \\, \\sqrt{q^{2} + r^{2}} m^{11} q^{16} r^{26} - 17798809600 \\, \\sqrt{q^{2} + r^{2}} m^{9} q^{18} r^{26} - 32620363776 \\, \\sqrt{q^{2} + r^{2}} m^{7} q^{20} r^{26} - 20722770432 \\, \\sqrt{q^{2} + r^{2}} m^{5} q^{22} r^{26} - 4221305088 \\, \\sqrt{q^{2} + r^{2}} m^{3} q^{24} r^{26} - 187210800 \\, \\sqrt{q^{2} + r^{2}} m q^{26} r^{26} - 491323392 \\, \\sqrt{q^{2} + r^{2}} m^{13} q^{12} r^{28} - 7821066240 \\, \\sqrt{q^{2} + r^{2}} m^{11} q^{14} r^{28} - 32037857280 \\, \\sqrt{q^{2} + r^{2}} m^{9} q^{16} r^{28} - 46600519680 \\, \\sqrt{q^{2} + r^{2}} m^{7} q^{18} r^{28} - 25327830528 \\, \\sqrt{q^{2} + r^{2}} m^{5} q^{20} r^{28} - 4605060096 \\, \\sqrt{q^{2} + r^{2}} m^{3} q^{22} r^{28} - 187210800 \\, \\sqrt{q^{2} + r^{2}} m q^{24} r^{28} - 26738688 \\, \\sqrt{q^{2} + r^{2}} m^{15} q^{8} r^{30} - 1473970176 \\, \\sqrt{q^{2} + r^{2}} m^{13} q^{10} r^{30} - 13686865920 \\, \\sqrt{q^{2} + r^{2}} m^{11} q^{12} r^{30} - 42717143040 \\, \\sqrt{q^{2} + r^{2}} m^{9} q^{14} r^{30} - 52425584640 \\, \\sqrt{q^{2} + r^{2}} m^{7} q^{16} r^{30} - 25327830528 \\, \\sqrt{q^{2} + r^{2}} m^{5} q^{18} r^{30} - 4221305088 \\, \\sqrt{q^{2} + r^{2}} m^{3} q^{20} r^{30} - 160466400 \\, \\sqrt{q^{2} + r^{2}} m q^{22} r^{30} - 106954752 \\, \\sqrt{q^{2} + r^{2}} m^{15} q^{6} r^{32} - 2456616960 \\, \\sqrt{q^{2} + r^{2}} m^{13} q^{8} r^{32} - 16424239104 \\, \\sqrt{q^{2} + r^{2}} m^{11} q^{10} r^{32} - 42717143040 \\, \\sqrt{q^{2} + r^{2}} m^{9} q^{12} r^{32} - 46600519680 \\, \\sqrt{q^{2} + r^{2}} m^{7} q^{14} r^{32} - 20722770432 \\, \\sqrt{q^{2} + r^{2}} m^{5} q^{16} r^{32} - 3247157760 \\, \\sqrt{q^{2} + r^{2}} m^{3} q^{18} r^{32} - 117675360 \\, \\sqrt{q^{2} + r^{2}} m q^{20} r^{32} - 2359296 \\, \\sqrt{q^{2} + r^{2}} m^{17} q^{2} r^{34} - 160432128 \\, \\sqrt{q^{2} + r^{2}} m^{15} q^{4} r^{34} - 2456616960 \\, \\sqrt{q^{2} + r^{2}} m^{13} q^{6} r^{34} - 13686865920 \\, \\sqrt{q^{2} + r^{2}} m^{11} q^{8} r^{34} - 32037857280 \\, \\sqrt{q^{2} + r^{2}} m^{9} q^{10} r^{34} - 32620363776 \\, \\sqrt{q^{2} + r^{2}} m^{7} q^{12} r^{34} - 13815180288 \\, \\sqrt{q^{2} + r^{2}} m^{5} q^{14} r^{34} - 2087458560 \\, \\sqrt{q^{2} + r^{2}} m^{3} q^{16} r^{34} - 73547100 \\, \\sqrt{q^{2} + r^{2}} m q^{18} r^{34} - 2359296 \\, \\sqrt{q^{2} + r^{2}} m^{17} r^{36} - 106954752 \\, \\sqrt{q^{2} + r^{2}} m^{15} q^{2} r^{36} - 1473970176 \\, \\sqrt{q^{2} + r^{2}} m^{13} q^{4} r^{36} - 7821066240 \\, \\sqrt{q^{2} + r^{2}} m^{11} q^{6} r^{36} - 17798809600 \\, \\sqrt{q^{2} + r^{2}} m^{9} q^{8} r^{36} - 17792925696 \\, \\sqrt{q^{2} + r^{2}} m^{7} q^{10} r^{36} - 7438943232 \\, \\sqrt{q^{2} + r^{2}} m^{5} q^{12} r^{36} - 1113311232 \\, \\sqrt{q^{2} + r^{2}} m^{3} q^{14} r^{36} - 38936700 \\, \\sqrt{q^{2} + r^{2}} m q^{16} r^{36} - 26738688 \\, \\sqrt{q^{2} + r^{2}} m^{15} r^{38} - 491323392 \\, \\sqrt{q^{2} + r^{2}} m^{13} q^{2} r^{38} - 2932899840 \\, \\sqrt{q^{2} + r^{2}} m^{11} q^{4} r^{38} - 7119523840 \\, \\sqrt{q^{2} + r^{2}} m^{9} q^{6} r^{38} - 7413719040 \\, \\sqrt{q^{2} + r^{2}} m^{7} q^{8} r^{38} - 3188118528 \\, \\sqrt{q^{2} + r^{2}} m^{5} q^{10} r^{38} - 487073664 \\, \\sqrt{q^{2} + r^{2}} m^{3} q^{12} r^{38} - 17305200 \\, \\sqrt{q^{2} + r^{2}} m q^{14} r^{38} - 70189056 \\, \\sqrt{q^{2} + r^{2}} m^{13} r^{40} - 651755520 \\, \\sqrt{q^{2} + r^{2}} m^{11} q^{2} r^{40} - 1941688320 \\, \\sqrt{q^{2} + r^{2}} m^{9} q^{4} r^{40} - 2281144320 \\, \\sqrt{q^{2} + r^{2}} m^{7} q^{6} r^{40} - 1062706176 \\, \\sqrt{q^{2} + r^{2}} m^{5} q^{8} r^{40} - 171908352 \\, \\sqrt{q^{2} + r^{2}} m^{3} q^{10} r^{40} - 6375600 \\, \\sqrt{q^{2} + r^{2}} m q^{12} r^{40} - 65175552 \\, \\sqrt{q^{2} + r^{2}} m^{11} r^{42} - 323614720 \\, \\sqrt{q^{2} + r^{2}} m^{9} q^{2} r^{42} - 488816640 \\, \\sqrt{q^{2} + r^{2}} m^{7} q^{4} r^{42} - 265676544 \\, \\sqrt{q^{2} + r^{2}} m^{5} q^{6} r^{42} - 47752320 \\, \\sqrt{q^{2} + r^{2}} m^{3} q^{8} r^{42} - 1912680 \\, \\sqrt{q^{2} + r^{2}} m q^{10} r^{42} - 24893440 \\, \\sqrt{q^{2} + r^{2}} m^{9} r^{44} - 65175552 \\, \\sqrt{q^{2} + r^{2}} m^{7} q^{2} r^{44} - 46884096 \\, \\sqrt{q^{2} + r^{2}} m^{5} q^{4} r^{44} - 10053120 \\, \\sqrt{q^{2} + r^{2}} m^{3} q^{6} r^{44} - 455400 \\, \\sqrt{q^{2} + r^{2}} m q^{8} r^{44} - 4073472 \\, \\sqrt{q^{2} + r^{2}} m^{7} r^{46} - 5209344 \\, \\sqrt{q^{2} + r^{2}} m^{5} q^{2} r^{46} - 1507968 \\, \\sqrt{q^{2} + r^{2}} m^{3} q^{4} r^{46} - 82800 \\, \\sqrt{q^{2} + r^{2}} m q^{6} r^{46} - 274176 \\, \\sqrt{q^{2} + r^{2}} m^{5} r^{48} - 143616 \\, \\sqrt{q^{2} + r^{2}} m^{3} q^{2} r^{48} - 10800 \\, \\sqrt{q^{2} + r^{2}} m q^{4} r^{48} - 6528 \\, \\sqrt{q^{2} + r^{2}} m^{3} r^{50} - 900 \\, \\sqrt{q^{2} + r^{2}} m q^{2} r^{50} - 36 \\, \\sqrt{q^{2} + r^{2}} m r^{52}\\right)} {\\left(q^{2} + r^{2}\\right)}^{4}}\\]</html>"
      ],
      "text/latex": [
       "$$\\newcommand{\\Bold}[1]{\\mathbf{#1}}-\\frac{6 \\, {\\left(36 \\, m q^{52} r^{2} + 936 \\, m q^{50} r^{4} + 6528 \\, m^{3} q^{46} r^{6} + 11700 \\, m q^{48} r^{6} + 150144 \\, m^{3} q^{44} r^{8} + 93600 \\, m q^{46} r^{8} + 274176 \\, m^{5} q^{40} r^{10} + 1651584 \\, m^{3} q^{42} r^{10} + 538200 \\, m q^{44} r^{10} + 5483520 \\, m^{5} q^{38} r^{12} + 11561088 \\, m^{3} q^{40} r^{12} + 2368080 \\, m q^{42} r^{12} + 4073472 \\, m^{7} q^{34} r^{14} + 52093440 \\, m^{5} q^{36} r^{14} + 57805440 \\, m^{3} q^{38} r^{14} + 8288280 \\, m q^{40} r^{14} + 69249024 \\, m^{7} q^{32} r^{16} + 312560640 \\, m^{5} q^{34} r^{16} + 219660672 \\, m^{3} q^{36} r^{16} + 23680800 \\, m q^{38} r^{16} + 24893440 \\, m^{9} q^{28} r^{18} + 553992192 \\, m^{7} q^{30} r^{18} + 1328382720 \\, m^{5} q^{32} r^{18} + 658982016 \\, m^{3} q^{34} r^{18} + 56241900 \\, m q^{36} r^{18} + 348508160 \\, m^{9} q^{26} r^{20} + 2769960960 \\, m^{7} q^{28} r^{20} + 4250824704 \\, m^{5} q^{30} r^{20} + 1600384896 \\, m^{3} q^{32} r^{20} + 112483800 \\, m q^{34} r^{20} + 65175552 \\, m^{11} q^{22} r^{22} + 2265303040 \\, m^{9} q^{24} r^{22} + 9694863360 \\, m^{7} q^{26} r^{22} + 10627061760 \\, m^{5} q^{28} r^{22} + 3200769792 \\, m^{3} q^{30} r^{22} + 191222460 \\, m q^{32} r^{22} + 716931072 \\, m^{11} q^{20} r^{24} + 9061212160 \\, m^{9} q^{22} r^{24} + 25206644736 \\, m^{7} q^{24} r^{24} + 21254123520 \\, m^{5} q^{26} r^{24} + 5334616320 \\, m^{3} q^{28} r^{24} + 278141760 \\, m q^{30} r^{24} + 70189056 \\, m^{13} q^{16} r^{26} + 3584655360 \\, m^{11} q^{18} r^{26} + 24918333440 \\, m^{9} q^{20} r^{26} + 50413289472 \\, m^{7} q^{22} r^{26} + 34537950720 \\, m^{5} q^{24} r^{26} + 7468462848 \\, m^{3} q^{26} r^{26} + 347677200 \\, m q^{28} r^{26} + 561512448 \\, m^{13} q^{14} r^{28} + 10753966080 \\, m^{11} q^{16} r^{28} + 49836666880 \\, m^{9} q^{18} r^{28} + 79220883456 \\, m^{7} q^{20} r^{28} + 46050600960 \\, m^{5} q^{22} r^{28} + 8826365184 \\, m^{3} q^{24} r^{28} + 374421600 \\, m q^{26} r^{28} + 26738688 \\, m^{15} q^{10} r^{30} + 1965293568 \\, m^{13} q^{12} r^{30} + 21507932160 \\, m^{11} q^{14} r^{30} + 74755000320 \\, m^{9} q^{16} r^{30} + 99026104320 \\, m^{7} q^{18} r^{30} + 50655661056 \\, m^{5} q^{20} r^{30} + 8826365184 \\, m^{3} q^{22} r^{30} + 347677200 \\, m q^{24} r^{30} + 133693440 \\, m^{15} q^{8} r^{32} + 3930587136 \\, m^{13} q^{10} r^{32} + 30111105024 \\, m^{11} q^{12} r^{32} + 85434286080 \\, m^{9} q^{14} r^{32} + 99026104320 \\, m^{7} q^{16} r^{32} + 46050600960 \\, m^{5} q^{18} r^{32} + 7468462848 \\, m^{3} q^{20} r^{32} + 278141760 \\, m q^{22} r^{32} + 2359296 \\, m^{17} q^{4} r^{34} + 267386880 \\, m^{15} q^{6} r^{34} + 4913233920 \\, m^{13} q^{8} r^{34} + 30111105024 \\, m^{11} q^{10} r^{34} + 74755000320 \\, m^{9} q^{12} r^{34} + 79220883456 \\, m^{7} q^{14} r^{34} + 34537950720 \\, m^{5} q^{16} r^{34} + 5334616320 \\, m^{3} q^{18} r^{34} + 191222460 \\, m q^{20} r^{34} + 4718592 \\, m^{17} q^{2} r^{36} + 267386880 \\, m^{15} q^{4} r^{36} + 3930587136 \\, m^{13} q^{6} r^{36} + 21507932160 \\, m^{11} q^{8} r^{36} + 49836666880 \\, m^{9} q^{10} r^{36} + 50413289472 \\, m^{7} q^{12} r^{36} + 21254123520 \\, m^{5} q^{14} r^{36} + 3200769792 \\, m^{3} q^{16} r^{36} + 112483800 \\, m q^{18} r^{36} + 2359296 \\, m^{17} r^{38} + 133693440 \\, m^{15} q^{2} r^{38} + 1965293568 \\, m^{13} q^{4} r^{38} + 10753966080 \\, m^{11} q^{6} r^{38} + 24918333440 \\, m^{9} q^{8} r^{38} + 25206644736 \\, m^{7} q^{10} r^{38} + 10627061760 \\, m^{5} q^{12} r^{38} + 1600384896 \\, m^{3} q^{14} r^{38} + 56241900 \\, m q^{16} r^{38} + 26738688 \\, m^{15} r^{40} + 561512448 \\, m^{13} q^{2} r^{40} + 3584655360 \\, m^{11} q^{4} r^{40} + 9061212160 \\, m^{9} q^{6} r^{40} + 9694863360 \\, m^{7} q^{8} r^{40} + 4250824704 \\, m^{5} q^{10} r^{40} + 658982016 \\, m^{3} q^{12} r^{40} + 23680800 \\, m q^{14} r^{40} + 70189056 \\, m^{13} r^{42} + 716931072 \\, m^{11} q^{2} r^{42} + 2265303040 \\, m^{9} q^{4} r^{42} + 2769960960 \\, m^{7} q^{6} r^{42} + 1328382720 \\, m^{5} q^{8} r^{42} + 219660672 \\, m^{3} q^{10} r^{42} + 8288280 \\, m q^{12} r^{42} + 65175552 \\, m^{11} r^{44} + 348508160 \\, m^{9} q^{2} r^{44} + 553992192 \\, m^{7} q^{4} r^{44} + 312560640 \\, m^{5} q^{6} r^{44} + 57805440 \\, m^{3} q^{8} r^{44} + 2368080 \\, m q^{10} r^{44} + 24893440 \\, m^{9} r^{46} + 69249024 \\, m^{7} q^{2} r^{46} + 52093440 \\, m^{5} q^{4} r^{46} + 11561088 \\, m^{3} q^{6} r^{46} + 538200 \\, m q^{8} r^{46} + 4073472 \\, m^{7} r^{48} + 5483520 \\, m^{5} q^{2} r^{48} + 1651584 \\, m^{3} q^{4} r^{48} + 93600 \\, m q^{6} r^{48} + 274176 \\, m^{5} r^{50} + 150144 \\, m^{3} q^{2} r^{50} + 11700 \\, m q^{4} r^{50} + 6528 \\, m^{3} r^{52} + 936 \\, m q^{2} r^{52} + 36 \\, m r^{54} - \\sqrt{q^{2} + r^{2}} q^{54} - 27 \\, \\sqrt{q^{2} + r^{2}} q^{52} r^{2} - 612 \\, \\sqrt{q^{2} + r^{2}} m^{2} q^{48} r^{4} - 351 \\, \\sqrt{q^{2} + r^{2}} q^{50} r^{4} - 14688 \\, \\sqrt{q^{2} + r^{2}} m^{2} q^{46} r^{6} - 2925 \\, \\sqrt{q^{2} + r^{2}} q^{48} r^{6} - 48960 \\, \\sqrt{q^{2} + r^{2}} m^{4} q^{42} r^{8} - 168912 \\, \\sqrt{q^{2} + r^{2}} m^{2} q^{44} r^{8} - 17550 \\, \\sqrt{q^{2} + r^{2}} q^{46} r^{8} - 1028160 \\, \\sqrt{q^{2} + r^{2}} m^{4} q^{40} r^{10} - 1238688 \\, \\sqrt{q^{2} + r^{2}} m^{2} q^{42} r^{10} - 80730 \\, \\sqrt{q^{2} + r^{2}} q^{44} r^{10} - 1188096 \\, \\sqrt{q^{2} + r^{2}} m^{6} q^{36} r^{12} - 10281600 \\, \\sqrt{q^{2} + r^{2}} m^{4} q^{38} r^{12} - 6503112 \\, \\sqrt{q^{2} + r^{2}} m^{2} q^{40} r^{12} - 296010 \\, \\sqrt{q^{2} + r^{2}} q^{42} r^{12} - 21385728 \\, \\sqrt{q^{2} + r^{2}} m^{6} q^{34} r^{14} - 65116800 \\, \\sqrt{q^{2} + r^{2}} m^{4} q^{36} r^{14} - 26012448 \\, \\sqrt{q^{2} + r^{2}} m^{2} q^{38} r^{14} - 888030 \\, \\sqrt{q^{2} + r^{2}} q^{40} r^{14} - 11202048 \\, \\sqrt{q^{2} + r^{2}} m^{8} q^{30} r^{16} - 181778688 \\, \\sqrt{q^{2} + r^{2}} m^{6} q^{32} r^{16} - 293025600 \\, \\sqrt{q^{2} + r^{2}} m^{4} q^{34} r^{16} - 82372752 \\, \\sqrt{q^{2} + r^{2}} m^{2} q^{36} r^{16} - 2220075 \\, \\sqrt{q^{2} + r^{2}} q^{38} r^{16} - 168030720 \\, \\sqrt{q^{2} + r^{2}} m^{8} q^{28} r^{18} - 969486336 \\, \\sqrt{q^{2} + r^{2}} m^{6} q^{30} r^{18} - 996287040 \\, \\sqrt{q^{2} + r^{2}} m^{4} q^{32} r^{18} - 211815648 \\, \\sqrt{q^{2} + r^{2}} m^{2} q^{34} r^{18} - 4686825 \\, \\sqrt{q^{2} + r^{2}} q^{36} r^{18} - 44808192 \\, \\sqrt{q^{2} + r^{2}} m^{10} q^{24} r^{20} - 1176215040 \\, \\sqrt{q^{2} + r^{2}} m^{8} q^{26} r^{20} - 3635573760 \\, \\sqrt{q^{2} + r^{2}} m^{6} q^{28} r^{20} - 2656765440 \\, \\sqrt{q^{2} + r^{2}} m^{4} q^{30} r^{20} - 450108252 \\, \\sqrt{q^{2} + r^{2}} m^{2} q^{32} r^{20} - 8436285 \\, \\sqrt{q^{2} + r^{2}} q^{34} r^{20} - 537698304 \\, \\sqrt{q^{2} + r^{2}} m^{10} q^{22} r^{22} - 5096931840 \\, \\sqrt{q^{2} + r^{2}} m^{8} q^{24} r^{22} - 10179606528 \\, \\sqrt{q^{2} + r^{2}} m^{6} q^{26} r^{22} - 5693068800 \\, \\sqrt{q^{2} + r^{2}} m^{4} q^{28} r^{22} - 800192448 \\, \\sqrt{q^{2} + r^{2}} m^{2} q^{30} r^{22} - 13037895 \\, \\sqrt{q^{2} + r^{2}} q^{32} r^{22} - 76038144 \\, \\sqrt{q^{2} + r^{2}} m^{12} q^{18} r^{24} - 2957340672 \\, \\sqrt{q^{2} + r^{2}} m^{10} q^{20} r^{24} - 15290795520 \\, \\sqrt{q^{2} + r^{2}} m^{8} q^{22} r^{24} - 22055814144 \\, \\sqrt{q^{2} + r^{2}} m^{6} q^{24} r^{24} - 9962870400 \\, \\sqrt{q^{2} + r^{2}} m^{4} q^{26} r^{24} - 1200288672 \\, \\sqrt{q^{2} + r^{2}} m^{2} q^{28} r^{24} - 17383860 \\, \\sqrt{q^{2} + r^{2}} q^{30} r^{24} - 684343296 \\, \\sqrt{q^{2} + r^{2}} m^{12} q^{16} r^{26} - 9857802240 \\, \\sqrt{q^{2} + r^{2}} m^{10} q^{18} r^{26} - 33639750144 \\, \\sqrt{q^{2} + r^{2}} m^{8} q^{20} r^{26} - 37809967104 \\, \\sqrt{q^{2} + r^{2}} m^{6} q^{22} r^{26} - 14390812800 \\, \\sqrt{q^{2} + r^{2}} m^{4} q^{24} r^{26} - 1527640128 \\, \\sqrt{q^{2} + r^{2}} m^{2} q^{26} r^{26} - 20058300 \\, \\sqrt{q^{2} + r^{2}} q^{28} r^{26} - 50135040 \\, \\sqrt{q^{2} + r^{2}} m^{14} q^{12} r^{28} - 2737373184 \\, \\sqrt{q^{2} + r^{2}} m^{12} q^{14} r^{28} - 22180055040 \\, \\sqrt{q^{2} + r^{2}} m^{10} q^{16} r^{28} - 56066250240 \\, \\sqrt{q^{2} + r^{2}} m^{8} q^{18} r^{28} - 51988704768 \\, \\sqrt{q^{2} + r^{2}} m^{6} q^{20} r^{28} - 17268975360 \\, \\sqrt{q^{2} + r^{2}} m^{4} q^{22} r^{28} - 1654943472 \\, \\sqrt{q^{2} + r^{2}} m^{2} q^{24} r^{28} - 20058300 \\, \\sqrt{q^{2} + r^{2}} q^{26} r^{28} - 300810240 \\, \\sqrt{q^{2} + r^{2}} m^{14} q^{10} r^{30} - 6387204096 \\, \\sqrt{q^{2} + r^{2}} m^{12} q^{12} r^{30} - 35488088064 \\, \\sqrt{q^{2} + r^{2}} m^{10} q^{14} r^{30} - 72085178880 \\, \\sqrt{q^{2} + r^{2}} m^{8} q^{16} r^{30} - 57765227520 \\, \\sqrt{q^{2} + r^{2}} m^{6} q^{18} r^{30} - 17268975360 \\, \\sqrt{q^{2} + r^{2}} m^{4} q^{20} r^{30} - 1527640128 \\, \\sqrt{q^{2} + r^{2}} m^{2} q^{22} r^{30} - 17383860 \\, \\sqrt{q^{2} + r^{2}} q^{24} r^{30} - 10027008 \\, \\sqrt{q^{2} + r^{2}} m^{16} q^{6} r^{32} - 752025600 \\, \\sqrt{q^{2} + r^{2}} m^{14} q^{8} r^{32} - 9580806144 \\, \\sqrt{q^{2} + r^{2}} m^{12} q^{10} r^{32} - 41402769408 \\, \\sqrt{q^{2} + r^{2}} m^{10} q^{12} r^{32} - 72085178880 \\, \\sqrt{q^{2} + r^{2}} m^{8} q^{14} r^{32} - 51988704768 \\, \\sqrt{q^{2} + r^{2}} m^{6} q^{16} r^{32} - 14390812800 \\, \\sqrt{q^{2} + r^{2}} m^{4} q^{18} r^{32} - 1200288672 \\, \\sqrt{q^{2} + r^{2}} m^{2} q^{20} r^{32} - 13037895 \\, \\sqrt{q^{2} + r^{2}} q^{22} r^{32} - 30081024 \\, \\sqrt{q^{2} + r^{2}} m^{16} q^{4} r^{34} - 1002700800 \\, \\sqrt{q^{2} + r^{2}} m^{14} q^{6} r^{34} - 9580806144 \\, \\sqrt{q^{2} + r^{2}} m^{12} q^{8} r^{34} - 35488088064 \\, \\sqrt{q^{2} + r^{2}} m^{10} q^{10} r^{34} - 56066250240 \\, \\sqrt{q^{2} + r^{2}} m^{8} q^{12} r^{34} - 37809967104 \\, \\sqrt{q^{2} + r^{2}} m^{6} q^{14} r^{34} - 9962870400 \\, \\sqrt{q^{2} + r^{2}} m^{4} q^{16} r^{34} - 800192448 \\, \\sqrt{q^{2} + r^{2}} m^{2} q^{18} r^{34} - 8436285 \\, \\sqrt{q^{2} + r^{2}} q^{20} r^{34} - 262144 \\, \\sqrt{q^{2} + r^{2}} m^{18} r^{36} - 30081024 \\, \\sqrt{q^{2} + r^{2}} m^{16} q^{2} r^{36} - 752025600 \\, \\sqrt{q^{2} + r^{2}} m^{14} q^{4} r^{36} - 6387204096 \\, \\sqrt{q^{2} + r^{2}} m^{12} q^{6} r^{36} - 22180055040 \\, \\sqrt{q^{2} + r^{2}} m^{10} q^{8} r^{36} - 33639750144 \\, \\sqrt{q^{2} + r^{2}} m^{8} q^{10} r^{36} - 22055814144 \\, \\sqrt{q^{2} + r^{2}} m^{6} q^{12} r^{36} - 5693068800 \\, \\sqrt{q^{2} + r^{2}} m^{4} q^{14} r^{36} - 450108252 \\, \\sqrt{q^{2} + r^{2}} m^{2} q^{16} r^{36} - 4686825 \\, \\sqrt{q^{2} + r^{2}} q^{18} r^{36} - 10027008 \\, \\sqrt{q^{2} + r^{2}} m^{16} r^{38} - 300810240 \\, \\sqrt{q^{2} + r^{2}} m^{14} q^{2} r^{38} - 2737373184 \\, \\sqrt{q^{2} + r^{2}} m^{12} q^{4} r^{38} - 9857802240 \\, \\sqrt{q^{2} + r^{2}} m^{10} q^{6} r^{38} - 15290795520 \\, \\sqrt{q^{2} + r^{2}} m^{8} q^{8} r^{38} - 10179606528 \\, \\sqrt{q^{2} + r^{2}} m^{6} q^{10} r^{38} - 2656765440 \\, \\sqrt{q^{2} + r^{2}} m^{4} q^{12} r^{38} - 211815648 \\, \\sqrt{q^{2} + r^{2}} m^{2} q^{14} r^{38} - 2220075 \\, \\sqrt{q^{2} + r^{2}} q^{16} r^{38} - 50135040 \\, \\sqrt{q^{2} + r^{2}} m^{14} r^{40} - 684343296 \\, \\sqrt{q^{2} + r^{2}} m^{12} q^{2} r^{40} - 2957340672 \\, \\sqrt{q^{2} + r^{2}} m^{10} q^{4} r^{40} - 5096931840 \\, \\sqrt{q^{2} + r^{2}} m^{8} q^{6} r^{40} - 3635573760 \\, \\sqrt{q^{2} + r^{2}} m^{6} q^{8} r^{40} - 996287040 \\, \\sqrt{q^{2} + r^{2}} m^{4} q^{10} r^{40} - 82372752 \\, \\sqrt{q^{2} + r^{2}} m^{2} q^{12} r^{40} - 888030 \\, \\sqrt{q^{2} + r^{2}} q^{14} r^{40} - 76038144 \\, \\sqrt{q^{2} + r^{2}} m^{12} r^{42} - 537698304 \\, \\sqrt{q^{2} + r^{2}} m^{10} q^{2} r^{42} - 1176215040 \\, \\sqrt{q^{2} + r^{2}} m^{8} q^{4} r^{42} - 969486336 \\, \\sqrt{q^{2} + r^{2}} m^{6} q^{6} r^{42} - 293025600 \\, \\sqrt{q^{2} + r^{2}} m^{4} q^{8} r^{42} - 26012448 \\, \\sqrt{q^{2} + r^{2}} m^{2} q^{10} r^{42} - 296010 \\, \\sqrt{q^{2} + r^{2}} q^{12} r^{42} - 44808192 \\, \\sqrt{q^{2} + r^{2}} m^{10} r^{44} - 168030720 \\, \\sqrt{q^{2} + r^{2}} m^{8} q^{2} r^{44} - 181778688 \\, \\sqrt{q^{2} + r^{2}} m^{6} q^{4} r^{44} - 65116800 \\, \\sqrt{q^{2} + r^{2}} m^{4} q^{6} r^{44} - 6503112 \\, \\sqrt{q^{2} + r^{2}} m^{2} q^{8} r^{44} - 80730 \\, \\sqrt{q^{2} + r^{2}} q^{10} r^{44} - 11202048 \\, \\sqrt{q^{2} + r^{2}} m^{8} r^{46} - 21385728 \\, \\sqrt{q^{2} + r^{2}} m^{6} q^{2} r^{46} - 10281600 \\, \\sqrt{q^{2} + r^{2}} m^{4} q^{4} r^{46} - 1238688 \\, \\sqrt{q^{2} + r^{2}} m^{2} q^{6} r^{46} - 17550 \\, \\sqrt{q^{2} + r^{2}} q^{8} r^{46} - 1188096 \\, \\sqrt{q^{2} + r^{2}} m^{6} r^{48} - 1028160 \\, \\sqrt{q^{2} + r^{2}} m^{4} q^{2} r^{48} - 168912 \\, \\sqrt{q^{2} + r^{2}} m^{2} q^{4} r^{48} - 2925 \\, \\sqrt{q^{2} + r^{2}} q^{6} r^{48} - 48960 \\, \\sqrt{q^{2} + r^{2}} m^{4} r^{50} - 14688 \\, \\sqrt{q^{2} + r^{2}} m^{2} q^{2} r^{50} - 351 \\, \\sqrt{q^{2} + r^{2}} q^{4} r^{50} - 612 \\, \\sqrt{q^{2} + r^{2}} m^{2} r^{52} - 27 \\, \\sqrt{q^{2} + r^{2}} q^{2} r^{52} - \\sqrt{q^{2} + r^{2}} r^{54}\\right)} m {\\left(2 \\, q + r\\right)} {\\left(2 \\, q - r\\right)} q^{2}}{{\\left(q^{54} + 27 \\, q^{52} r^{2} + 612 \\, m^{2} q^{48} r^{4} + 351 \\, q^{50} r^{4} + 14688 \\, m^{2} q^{46} r^{6} + 2925 \\, q^{48} r^{6} + 48960 \\, m^{4} q^{42} r^{8} + 168912 \\, m^{2} q^{44} r^{8} + 17550 \\, q^{46} r^{8} + 1028160 \\, m^{4} q^{40} r^{10} + 1238688 \\, m^{2} q^{42} r^{10} + 80730 \\, q^{44} r^{10} + 1188096 \\, m^{6} q^{36} r^{12} + 10281600 \\, m^{4} q^{38} r^{12} + 6503112 \\, m^{2} q^{40} r^{12} + 296010 \\, q^{42} r^{12} + 21385728 \\, m^{6} q^{34} r^{14} + 65116800 \\, m^{4} q^{36} r^{14} + 26012448 \\, m^{2} q^{38} r^{14} + 888030 \\, q^{40} r^{14} + 11202048 \\, m^{8} q^{30} r^{16} + 181778688 \\, m^{6} q^{32} r^{16} + 293025600 \\, m^{4} q^{34} r^{16} + 82372752 \\, m^{2} q^{36} r^{16} + 2220075 \\, q^{38} r^{16} + 168030720 \\, m^{8} q^{28} r^{18} + 969486336 \\, m^{6} q^{30} r^{18} + 996287040 \\, m^{4} q^{32} r^{18} + 211815648 \\, m^{2} q^{34} r^{18} + 4686825 \\, q^{36} r^{18} + 44808192 \\, m^{10} q^{24} r^{20} + 1176215040 \\, m^{8} q^{26} r^{20} + 3635573760 \\, m^{6} q^{28} r^{20} + 2656765440 \\, m^{4} q^{30} r^{20} + 450108252 \\, m^{2} q^{32} r^{20} + 8436285 \\, q^{34} r^{20} + 537698304 \\, m^{10} q^{22} r^{22} + 5096931840 \\, m^{8} q^{24} r^{22} + 10179606528 \\, m^{6} q^{26} r^{22} + 5693068800 \\, m^{4} q^{28} r^{22} + 800192448 \\, m^{2} q^{30} r^{22} + 13037895 \\, q^{32} r^{22} + 76038144 \\, m^{12} q^{18} r^{24} + 2957340672 \\, m^{10} q^{20} r^{24} + 15290795520 \\, m^{8} q^{22} r^{24} + 22055814144 \\, m^{6} q^{24} r^{24} + 9962870400 \\, m^{4} q^{26} r^{24} + 1200288672 \\, m^{2} q^{28} r^{24} + 17383860 \\, q^{30} r^{24} + 684343296 \\, m^{12} q^{16} r^{26} + 9857802240 \\, m^{10} q^{18} r^{26} + 33639750144 \\, m^{8} q^{20} r^{26} + 37809967104 \\, m^{6} q^{22} r^{26} + 14390812800 \\, m^{4} q^{24} r^{26} + 1527640128 \\, m^{2} q^{26} r^{26} + 20058300 \\, q^{28} r^{26} + 50135040 \\, m^{14} q^{12} r^{28} + 2737373184 \\, m^{12} q^{14} r^{28} + 22180055040 \\, m^{10} q^{16} r^{28} + 56066250240 \\, m^{8} q^{18} r^{28} + 51988704768 \\, m^{6} q^{20} r^{28} + 17268975360 \\, m^{4} q^{22} r^{28} + 1654943472 \\, m^{2} q^{24} r^{28} + 20058300 \\, q^{26} r^{28} + 300810240 \\, m^{14} q^{10} r^{30} + 6387204096 \\, m^{12} q^{12} r^{30} + 35488088064 \\, m^{10} q^{14} r^{30} + 72085178880 \\, m^{8} q^{16} r^{30} + 57765227520 \\, m^{6} q^{18} r^{30} + 17268975360 \\, m^{4} q^{20} r^{30} + 1527640128 \\, m^{2} q^{22} r^{30} + 17383860 \\, q^{24} r^{30} + 10027008 \\, m^{16} q^{6} r^{32} + 752025600 \\, m^{14} q^{8} r^{32} + 9580806144 \\, m^{12} q^{10} r^{32} + 41402769408 \\, m^{10} q^{12} r^{32} + 72085178880 \\, m^{8} q^{14} r^{32} + 51988704768 \\, m^{6} q^{16} r^{32} + 14390812800 \\, m^{4} q^{18} r^{32} + 1200288672 \\, m^{2} q^{20} r^{32} + 13037895 \\, q^{22} r^{32} + 30081024 \\, m^{16} q^{4} r^{34} + 1002700800 \\, m^{14} q^{6} r^{34} + 9580806144 \\, m^{12} q^{8} r^{34} + 35488088064 \\, m^{10} q^{10} r^{34} + 56066250240 \\, m^{8} q^{12} r^{34} + 37809967104 \\, m^{6} q^{14} r^{34} + 9962870400 \\, m^{4} q^{16} r^{34} + 800192448 \\, m^{2} q^{18} r^{34} + 8436285 \\, q^{20} r^{34} + 262144 \\, m^{18} r^{36} + 30081024 \\, m^{16} q^{2} r^{36} + 752025600 \\, m^{14} q^{4} r^{36} + 6387204096 \\, m^{12} q^{6} r^{36} + 22180055040 \\, m^{10} q^{8} r^{36} + 33639750144 \\, m^{8} q^{10} r^{36} + 22055814144 \\, m^{6} q^{12} r^{36} + 5693068800 \\, m^{4} q^{14} r^{36} + 450108252 \\, m^{2} q^{16} r^{36} + 4686825 \\, q^{18} r^{36} + 10027008 \\, m^{16} r^{38} + 300810240 \\, m^{14} q^{2} r^{38} + 2737373184 \\, m^{12} q^{4} r^{38} + 9857802240 \\, m^{10} q^{6} r^{38} + 15290795520 \\, m^{8} q^{8} r^{38} + 10179606528 \\, m^{6} q^{10} r^{38} + 2656765440 \\, m^{4} q^{12} r^{38} + 211815648 \\, m^{2} q^{14} r^{38} + 2220075 \\, q^{16} r^{38} + 50135040 \\, m^{14} r^{40} + 684343296 \\, m^{12} q^{2} r^{40} + 2957340672 \\, m^{10} q^{4} r^{40} + 5096931840 \\, m^{8} q^{6} r^{40} + 3635573760 \\, m^{6} q^{8} r^{40} + 996287040 \\, m^{4} q^{10} r^{40} + 82372752 \\, m^{2} q^{12} r^{40} + 888030 \\, q^{14} r^{40} + 76038144 \\, m^{12} r^{42} + 537698304 \\, m^{10} q^{2} r^{42} + 1176215040 \\, m^{8} q^{4} r^{42} + 969486336 \\, m^{6} q^{6} r^{42} + 293025600 \\, m^{4} q^{8} r^{42} + 26012448 \\, m^{2} q^{10} r^{42} + 296010 \\, q^{12} r^{42} + 44808192 \\, m^{10} r^{44} + 168030720 \\, m^{8} q^{2} r^{44} + 181778688 \\, m^{6} q^{4} r^{44} + 65116800 \\, m^{4} q^{6} r^{44} + 6503112 \\, m^{2} q^{8} r^{44} + 80730 \\, q^{10} r^{44} + 11202048 \\, m^{8} r^{46} + 21385728 \\, m^{6} q^{2} r^{46} + 10281600 \\, m^{4} q^{4} r^{46} + 1238688 \\, m^{2} q^{6} r^{46} + 17550 \\, q^{8} r^{46} + 1188096 \\, m^{6} r^{48} + 1028160 \\, m^{4} q^{2} r^{48} + 168912 \\, m^{2} q^{4} r^{48} + 2925 \\, q^{6} r^{48} + 48960 \\, m^{4} r^{50} + 14688 \\, m^{2} q^{2} r^{50} + 351 \\, q^{4} r^{50} + 612 \\, m^{2} r^{52} + 27 \\, q^{2} r^{52} + r^{54} - 36 \\, \\sqrt{q^{2} + r^{2}} m q^{50} r^{2} - 900 \\, \\sqrt{q^{2} + r^{2}} m q^{48} r^{4} - 6528 \\, \\sqrt{q^{2} + r^{2}} m^{3} q^{44} r^{6} - 10800 \\, \\sqrt{q^{2} + r^{2}} m q^{46} r^{6} - 143616 \\, \\sqrt{q^{2} + r^{2}} m^{3} q^{42} r^{8} - 82800 \\, \\sqrt{q^{2} + r^{2}} m q^{44} r^{8} - 274176 \\, \\sqrt{q^{2} + r^{2}} m^{5} q^{38} r^{10} - 1507968 \\, \\sqrt{q^{2} + r^{2}} m^{3} q^{40} r^{10} - 455400 \\, \\sqrt{q^{2} + r^{2}} m q^{42} r^{10} - 5209344 \\, \\sqrt{q^{2} + r^{2}} m^{5} q^{36} r^{12} - 10053120 \\, \\sqrt{q^{2} + r^{2}} m^{3} q^{38} r^{12} - 1912680 \\, \\sqrt{q^{2} + r^{2}} m q^{40} r^{12} - 4073472 \\, \\sqrt{q^{2} + r^{2}} m^{7} q^{32} r^{14} - 46884096 \\, \\sqrt{q^{2} + r^{2}} m^{5} q^{34} r^{14} - 47752320 \\, \\sqrt{q^{2} + r^{2}} m^{3} q^{36} r^{14} - 6375600 \\, \\sqrt{q^{2} + r^{2}} m q^{38} r^{14} - 65175552 \\, \\sqrt{q^{2} + r^{2}} m^{7} q^{30} r^{16} - 265676544 \\, \\sqrt{q^{2} + r^{2}} m^{5} q^{32} r^{16} - 171908352 \\, \\sqrt{q^{2} + r^{2}} m^{3} q^{34} r^{16} - 17305200 \\, \\sqrt{q^{2} + r^{2}} m q^{36} r^{16} - 24893440 \\, \\sqrt{q^{2} + r^{2}} m^{9} q^{26} r^{18} - 488816640 \\, \\sqrt{q^{2} + r^{2}} m^{7} q^{28} r^{18} - 1062706176 \\, \\sqrt{q^{2} + r^{2}} m^{5} q^{30} r^{18} - 487073664 \\, \\sqrt{q^{2} + r^{2}} m^{3} q^{32} r^{18} - 38936700 \\, \\sqrt{q^{2} + r^{2}} m q^{34} r^{18} - 323614720 \\, \\sqrt{q^{2} + r^{2}} m^{9} q^{24} r^{20} - 2281144320 \\, \\sqrt{q^{2} + r^{2}} m^{7} q^{26} r^{20} - 3188118528 \\, \\sqrt{q^{2} + r^{2}} m^{5} q^{28} r^{20} - 1113311232 \\, \\sqrt{q^{2} + r^{2}} m^{3} q^{30} r^{20} - 73547100 \\, \\sqrt{q^{2} + r^{2}} m q^{32} r^{20} - 65175552 \\, \\sqrt{q^{2} + r^{2}} m^{11} q^{20} r^{22} - 1941688320 \\, \\sqrt{q^{2} + r^{2}} m^{9} q^{22} r^{22} - 7413719040 \\, \\sqrt{q^{2} + r^{2}} m^{7} q^{24} r^{22} - 7438943232 \\, \\sqrt{q^{2} + r^{2}} m^{5} q^{26} r^{22} - 2087458560 \\, \\sqrt{q^{2} + r^{2}} m^{3} q^{28} r^{22} - 117675360 \\, \\sqrt{q^{2} + r^{2}} m q^{30} r^{22} - 651755520 \\, \\sqrt{q^{2} + r^{2}} m^{11} q^{18} r^{24} - 7119523840 \\, \\sqrt{q^{2} + r^{2}} m^{9} q^{20} r^{24} - 17792925696 \\, \\sqrt{q^{2} + r^{2}} m^{7} q^{22} r^{24} - 13815180288 \\, \\sqrt{q^{2} + r^{2}} m^{5} q^{24} r^{24} - 3247157760 \\, \\sqrt{q^{2} + r^{2}} m^{3} q^{26} r^{24} - 160466400 \\, \\sqrt{q^{2} + r^{2}} m q^{28} r^{24} - 70189056 \\, \\sqrt{q^{2} + r^{2}} m^{13} q^{14} r^{26} - 2932899840 \\, \\sqrt{q^{2} + r^{2}} m^{11} q^{16} r^{26} - 17798809600 \\, \\sqrt{q^{2} + r^{2}} m^{9} q^{18} r^{26} - 32620363776 \\, \\sqrt{q^{2} + r^{2}} m^{7} q^{20} r^{26} - 20722770432 \\, \\sqrt{q^{2} + r^{2}} m^{5} q^{22} r^{26} - 4221305088 \\, \\sqrt{q^{2} + r^{2}} m^{3} q^{24} r^{26} - 187210800 \\, \\sqrt{q^{2} + r^{2}} m q^{26} r^{26} - 491323392 \\, \\sqrt{q^{2} + r^{2}} m^{13} q^{12} r^{28} - 7821066240 \\, \\sqrt{q^{2} + r^{2}} m^{11} q^{14} r^{28} - 32037857280 \\, \\sqrt{q^{2} + r^{2}} m^{9} q^{16} r^{28} - 46600519680 \\, \\sqrt{q^{2} + r^{2}} m^{7} q^{18} r^{28} - 25327830528 \\, \\sqrt{q^{2} + r^{2}} m^{5} q^{20} r^{28} - 4605060096 \\, \\sqrt{q^{2} + r^{2}} m^{3} q^{22} r^{28} - 187210800 \\, \\sqrt{q^{2} + r^{2}} m q^{24} r^{28} - 26738688 \\, \\sqrt{q^{2} + r^{2}} m^{15} q^{8} r^{30} - 1473970176 \\, \\sqrt{q^{2} + r^{2}} m^{13} q^{10} r^{30} - 13686865920 \\, \\sqrt{q^{2} + r^{2}} m^{11} q^{12} r^{30} - 42717143040 \\, \\sqrt{q^{2} + r^{2}} m^{9} q^{14} r^{30} - 52425584640 \\, \\sqrt{q^{2} + r^{2}} m^{7} q^{16} r^{30} - 25327830528 \\, \\sqrt{q^{2} + r^{2}} m^{5} q^{18} r^{30} - 4221305088 \\, \\sqrt{q^{2} + r^{2}} m^{3} q^{20} r^{30} - 160466400 \\, \\sqrt{q^{2} + r^{2}} m q^{22} r^{30} - 106954752 \\, \\sqrt{q^{2} + r^{2}} m^{15} q^{6} r^{32} - 2456616960 \\, \\sqrt{q^{2} + r^{2}} m^{13} q^{8} r^{32} - 16424239104 \\, \\sqrt{q^{2} + r^{2}} m^{11} q^{10} r^{32} - 42717143040 \\, \\sqrt{q^{2} + r^{2}} m^{9} q^{12} r^{32} - 46600519680 \\, \\sqrt{q^{2} + r^{2}} m^{7} q^{14} r^{32} - 20722770432 \\, \\sqrt{q^{2} + r^{2}} m^{5} q^{16} r^{32} - 3247157760 \\, \\sqrt{q^{2} + r^{2}} m^{3} q^{18} r^{32} - 117675360 \\, \\sqrt{q^{2} + r^{2}} m q^{20} r^{32} - 2359296 \\, \\sqrt{q^{2} + r^{2}} m^{17} q^{2} r^{34} - 160432128 \\, \\sqrt{q^{2} + r^{2}} m^{15} q^{4} r^{34} - 2456616960 \\, \\sqrt{q^{2} + r^{2}} m^{13} q^{6} r^{34} - 13686865920 \\, \\sqrt{q^{2} + r^{2}} m^{11} q^{8} r^{34} - 32037857280 \\, \\sqrt{q^{2} + r^{2}} m^{9} q^{10} r^{34} - 32620363776 \\, \\sqrt{q^{2} + r^{2}} m^{7} q^{12} r^{34} - 13815180288 \\, \\sqrt{q^{2} + r^{2}} m^{5} q^{14} r^{34} - 2087458560 \\, \\sqrt{q^{2} + r^{2}} m^{3} q^{16} r^{34} - 73547100 \\, \\sqrt{q^{2} + r^{2}} m q^{18} r^{34} - 2359296 \\, \\sqrt{q^{2} + r^{2}} m^{17} r^{36} - 106954752 \\, \\sqrt{q^{2} + r^{2}} m^{15} q^{2} r^{36} - 1473970176 \\, \\sqrt{q^{2} + r^{2}} m^{13} q^{4} r^{36} - 7821066240 \\, \\sqrt{q^{2} + r^{2}} m^{11} q^{6} r^{36} - 17798809600 \\, \\sqrt{q^{2} + r^{2}} m^{9} q^{8} r^{36} - 17792925696 \\, \\sqrt{q^{2} + r^{2}} m^{7} q^{10} r^{36} - 7438943232 \\, \\sqrt{q^{2} + r^{2}} m^{5} q^{12} r^{36} - 1113311232 \\, \\sqrt{q^{2} + r^{2}} m^{3} q^{14} r^{36} - 38936700 \\, \\sqrt{q^{2} + r^{2}} m q^{16} r^{36} - 26738688 \\, \\sqrt{q^{2} + r^{2}} m^{15} r^{38} - 491323392 \\, \\sqrt{q^{2} + r^{2}} m^{13} q^{2} r^{38} - 2932899840 \\, \\sqrt{q^{2} + r^{2}} m^{11} q^{4} r^{38} - 7119523840 \\, \\sqrt{q^{2} + r^{2}} m^{9} q^{6} r^{38} - 7413719040 \\, \\sqrt{q^{2} + r^{2}} m^{7} q^{8} r^{38} - 3188118528 \\, \\sqrt{q^{2} + r^{2}} m^{5} q^{10} r^{38} - 487073664 \\, \\sqrt{q^{2} + r^{2}} m^{3} q^{12} r^{38} - 17305200 \\, \\sqrt{q^{2} + r^{2}} m q^{14} r^{38} - 70189056 \\, \\sqrt{q^{2} + r^{2}} m^{13} r^{40} - 651755520 \\, \\sqrt{q^{2} + r^{2}} m^{11} q^{2} r^{40} - 1941688320 \\, \\sqrt{q^{2} + r^{2}} m^{9} q^{4} r^{40} - 2281144320 \\, \\sqrt{q^{2} + r^{2}} m^{7} q^{6} r^{40} - 1062706176 \\, \\sqrt{q^{2} + r^{2}} m^{5} q^{8} r^{40} - 171908352 \\, \\sqrt{q^{2} + r^{2}} m^{3} q^{10} r^{40} - 6375600 \\, \\sqrt{q^{2} + r^{2}} m q^{12} r^{40} - 65175552 \\, \\sqrt{q^{2} + r^{2}} m^{11} r^{42} - 323614720 \\, \\sqrt{q^{2} + r^{2}} m^{9} q^{2} r^{42} - 488816640 \\, \\sqrt{q^{2} + r^{2}} m^{7} q^{4} r^{42} - 265676544 \\, \\sqrt{q^{2} + r^{2}} m^{5} q^{6} r^{42} - 47752320 \\, \\sqrt{q^{2} + r^{2}} m^{3} q^{8} r^{42} - 1912680 \\, \\sqrt{q^{2} + r^{2}} m q^{10} r^{42} - 24893440 \\, \\sqrt{q^{2} + r^{2}} m^{9} r^{44} - 65175552 \\, \\sqrt{q^{2} + r^{2}} m^{7} q^{2} r^{44} - 46884096 \\, \\sqrt{q^{2} + r^{2}} m^{5} q^{4} r^{44} - 10053120 \\, \\sqrt{q^{2} + r^{2}} m^{3} q^{6} r^{44} - 455400 \\, \\sqrt{q^{2} + r^{2}} m q^{8} r^{44} - 4073472 \\, \\sqrt{q^{2} + r^{2}} m^{7} r^{46} - 5209344 \\, \\sqrt{q^{2} + r^{2}} m^{5} q^{2} r^{46} - 1507968 \\, \\sqrt{q^{2} + r^{2}} m^{3} q^{4} r^{46} - 82800 \\, \\sqrt{q^{2} + r^{2}} m q^{6} r^{46} - 274176 \\, \\sqrt{q^{2} + r^{2}} m^{5} r^{48} - 143616 \\, \\sqrt{q^{2} + r^{2}} m^{3} q^{2} r^{48} - 10800 \\, \\sqrt{q^{2} + r^{2}} m q^{4} r^{48} - 6528 \\, \\sqrt{q^{2} + r^{2}} m^{3} r^{50} - 900 \\, \\sqrt{q^{2} + r^{2}} m q^{2} r^{50} - 36 \\, \\sqrt{q^{2} + r^{2}} m r^{52}\\right)} {\\left(q^{2} + r^{2}\\right)}^{4}}$$"
      ],
      "text/plain": [
       "-6*(36*m*q^52*r^2 + 936*m*q^50*r^4 + 6528*m^3*q^46*r^6 + 11700*m*q^48*r^6 + 150144*m^3*q^44*r^8 + 93600*m*q^46*r^8 + 274176*m^5*q^40*r^10 + 1651584*m^3*q^42*r^10 + 538200*m*q^44*r^10 + 5483520*m^5*q^38*r^12 + 11561088*m^3*q^40*r^12 + 2368080*m*q^42*r^12 + 4073472*m^7*q^34*r^14 + 52093440*m^5*q^36*r^14 + 57805440*m^3*q^38*r^14 + 8288280*m*q^40*r^14 + 69249024*m^7*q^32*r^16 + 312560640*m^5*q^34*r^16 + 219660672*m^3*q^36*r^16 + 23680800*m*q^38*r^16 + 24893440*m^9*q^28*r^18 + 553992192*m^7*q^30*r^18 + 1328382720*m^5*q^32*r^18 + 658982016*m^3*q^34*r^18 + 56241900*m*q^36*r^18 + 348508160*m^9*q^26*r^20 + 2769960960*m^7*q^28*r^20 + 4250824704*m^5*q^30*r^20 + 1600384896*m^3*q^32*r^20 + 112483800*m*q^34*r^20 + 65175552*m^11*q^22*r^22 + 2265303040*m^9*q^24*r^22 + 9694863360*m^7*q^26*r^22 + 10627061760*m^5*q^28*r^22 + 3200769792*m^3*q^30*r^22 + 191222460*m*q^32*r^22 + 716931072*m^11*q^20*r^24 + 9061212160*m^9*q^22*r^24 + 25206644736*m^7*q^24*r^24 + 21254123520*m^5*q^26*r^24 + 5334616320*m^3*q^28*r^24 + 278141760*m*q^30*r^24 + 70189056*m^13*q^16*r^26 + 3584655360*m^11*q^18*r^26 + 24918333440*m^9*q^20*r^26 + 50413289472*m^7*q^22*r^26 + 34537950720*m^5*q^24*r^26 + 7468462848*m^3*q^26*r^26 + 347677200*m*q^28*r^26 + 561512448*m^13*q^14*r^28 + 10753966080*m^11*q^16*r^28 + 49836666880*m^9*q^18*r^28 + 79220883456*m^7*q^20*r^28 + 46050600960*m^5*q^22*r^28 + 8826365184*m^3*q^24*r^28 + 374421600*m*q^26*r^28 + 26738688*m^15*q^10*r^30 + 1965293568*m^13*q^12*r^30 + 21507932160*m^11*q^14*r^30 + 74755000320*m^9*q^16*r^30 + 99026104320*m^7*q^18*r^30 + 50655661056*m^5*q^20*r^30 + 8826365184*m^3*q^22*r^30 + 347677200*m*q^24*r^30 + 133693440*m^15*q^8*r^32 + 3930587136*m^13*q^10*r^32 + 30111105024*m^11*q^12*r^32 + 85434286080*m^9*q^14*r^32 + 99026104320*m^7*q^16*r^32 + 46050600960*m^5*q^18*r^32 + 7468462848*m^3*q^20*r^32 + 278141760*m*q^22*r^32 + 2359296*m^17*q^4*r^34 + 267386880*m^15*q^6*r^34 + 4913233920*m^13*q^8*r^34 + 30111105024*m^11*q^10*r^34 + 74755000320*m^9*q^12*r^34 + 79220883456*m^7*q^14*r^34 + 34537950720*m^5*q^16*r^34 + 5334616320*m^3*q^18*r^34 + 191222460*m*q^20*r^34 + 4718592*m^17*q^2*r^36 + 267386880*m^15*q^4*r^36 + 3930587136*m^13*q^6*r^36 + 21507932160*m^11*q^8*r^36 + 49836666880*m^9*q^10*r^36 + 50413289472*m^7*q^12*r^36 + 21254123520*m^5*q^14*r^36 + 3200769792*m^3*q^16*r^36 + 112483800*m*q^18*r^36 + 2359296*m^17*r^38 + 133693440*m^15*q^2*r^38 + 1965293568*m^13*q^4*r^38 + 10753966080*m^11*q^6*r^38 + 24918333440*m^9*q^8*r^38 + 25206644736*m^7*q^10*r^38 + 10627061760*m^5*q^12*r^38 + 1600384896*m^3*q^14*r^38 + 56241900*m*q^16*r^38 + 26738688*m^15*r^40 + 561512448*m^13*q^2*r^40 + 3584655360*m^11*q^4*r^40 + 9061212160*m^9*q^6*r^40 + 9694863360*m^7*q^8*r^40 + 4250824704*m^5*q^10*r^40 + 658982016*m^3*q^12*r^40 + 23680800*m*q^14*r^40 + 70189056*m^13*r^42 + 716931072*m^11*q^2*r^42 + 2265303040*m^9*q^4*r^42 + 2769960960*m^7*q^6*r^42 + 1328382720*m^5*q^8*r^42 + 219660672*m^3*q^10*r^42 + 8288280*m*q^12*r^42 + 65175552*m^11*r^44 + 348508160*m^9*q^2*r^44 + 553992192*m^7*q^4*r^44 + 312560640*m^5*q^6*r^44 + 57805440*m^3*q^8*r^44 + 2368080*m*q^10*r^44 + 24893440*m^9*r^46 + 69249024*m^7*q^2*r^46 + 52093440*m^5*q^4*r^46 + 11561088*m^3*q^6*r^46 + 538200*m*q^8*r^46 + 4073472*m^7*r^48 + 5483520*m^5*q^2*r^48 + 1651584*m^3*q^4*r^48 + 93600*m*q^6*r^48 + 274176*m^5*r^50 + 150144*m^3*q^2*r^50 + 11700*m*q^4*r^50 + 6528*m^3*r^52 + 936*m*q^2*r^52 + 36*m*r^54 - sqrt(q^2 + r^2)*q^54 - 27*sqrt(q^2 + r^2)*q^52*r^2 - 612*sqrt(q^2 + r^2)*m^2*q^48*r^4 - 351*sqrt(q^2 + r^2)*q^50*r^4 - 14688*sqrt(q^2 + r^2)*m^2*q^46*r^6 - 2925*sqrt(q^2 + r^2)*q^48*r^6 - 48960*sqrt(q^2 + r^2)*m^4*q^42*r^8 - 168912*sqrt(q^2 + r^2)*m^2*q^44*r^8 - 17550*sqrt(q^2 + r^2)*q^46*r^8 - 1028160*sqrt(q^2 + r^2)*m^4*q^40*r^10 - 1238688*sqrt(q^2 + r^2)*m^2*q^42*r^10 - 80730*sqrt(q^2 + r^2)*q^44*r^10 - 1188096*sqrt(q^2 + r^2)*m^6*q^36*r^12 - 10281600*sqrt(q^2 + r^2)*m^4*q^38*r^12 - 6503112*sqrt(q^2 + r^2)*m^2*q^40*r^12 - 296010*sqrt(q^2 + r^2)*q^42*r^12 - 21385728*sqrt(q^2 + r^2)*m^6*q^34*r^14 - 65116800*sqrt(q^2 + r^2)*m^4*q^36*r^14 - 26012448*sqrt(q^2 + r^2)*m^2*q^38*r^14 - 888030*sqrt(q^2 + r^2)*q^40*r^14 - 11202048*sqrt(q^2 + r^2)*m^8*q^30*r^16 - 181778688*sqrt(q^2 + r^2)*m^6*q^32*r^16 - 293025600*sqrt(q^2 + r^2)*m^4*q^34*r^16 - 82372752*sqrt(q^2 + r^2)*m^2*q^36*r^16 - 2220075*sqrt(q^2 + r^2)*q^38*r^16 - 168030720*sqrt(q^2 + r^2)*m^8*q^28*r^18 - 969486336*sqrt(q^2 + r^2)*m^6*q^30*r^18 - 996287040*sqrt(q^2 + r^2)*m^4*q^32*r^18 - 211815648*sqrt(q^2 + r^2)*m^2*q^34*r^18 - 4686825*sqrt(q^2 + r^2)*q^36*r^18 - 44808192*sqrt(q^2 + r^2)*m^10*q^24*r^20 - 1176215040*sqrt(q^2 + r^2)*m^8*q^26*r^20 - 3635573760*sqrt(q^2 + r^2)*m^6*q^28*r^20 - 2656765440*sqrt(q^2 + r^2)*m^4*q^30*r^20 - 450108252*sqrt(q^2 + r^2)*m^2*q^32*r^20 - 8436285*sqrt(q^2 + r^2)*q^34*r^20 - 537698304*sqrt(q^2 + r^2)*m^10*q^22*r^22 - 5096931840*sqrt(q^2 + r^2)*m^8*q^24*r^22 - 10179606528*sqrt(q^2 + r^2)*m^6*q^26*r^22 - 5693068800*sqrt(q^2 + r^2)*m^4*q^28*r^22 - 800192448*sqrt(q^2 + r^2)*m^2*q^30*r^22 - 13037895*sqrt(q^2 + r^2)*q^32*r^22 - 76038144*sqrt(q^2 + r^2)*m^12*q^18*r^24 - 2957340672*sqrt(q^2 + r^2)*m^10*q^20*r^24 - 15290795520*sqrt(q^2 + r^2)*m^8*q^22*r^24 - 22055814144*sqrt(q^2 + r^2)*m^6*q^24*r^24 - 9962870400*sqrt(q^2 + r^2)*m^4*q^26*r^24 - 1200288672*sqrt(q^2 + r^2)*m^2*q^28*r^24 - 17383860*sqrt(q^2 + r^2)*q^30*r^24 - 684343296*sqrt(q^2 + r^2)*m^12*q^16*r^26 - 9857802240*sqrt(q^2 + r^2)*m^10*q^18*r^26 - 33639750144*sqrt(q^2 + r^2)*m^8*q^20*r^26 - 37809967104*sqrt(q^2 + r^2)*m^6*q^22*r^26 - 14390812800*sqrt(q^2 + r^2)*m^4*q^24*r^26 - 1527640128*sqrt(q^2 + r^2)*m^2*q^26*r^26 - 20058300*sqrt(q^2 + r^2)*q^28*r^26 - 50135040*sqrt(q^2 + r^2)*m^14*q^12*r^28 - 2737373184*sqrt(q^2 + r^2)*m^12*q^14*r^28 - 22180055040*sqrt(q^2 + r^2)*m^10*q^16*r^28 - 56066250240*sqrt(q^2 + r^2)*m^8*q^18*r^28 - 51988704768*sqrt(q^2 + r^2)*m^6*q^20*r^28 - 17268975360*sqrt(q^2 + r^2)*m^4*q^22*r^28 - 1654943472*sqrt(q^2 + r^2)*m^2*q^24*r^28 - 20058300*sqrt(q^2 + r^2)*q^26*r^28 - 300810240*sqrt(q^2 + r^2)*m^14*q^10*r^30 - 6387204096*sqrt(q^2 + r^2)*m^12*q^12*r^30 - 35488088064*sqrt(q^2 + r^2)*m^10*q^14*r^30 - 72085178880*sqrt(q^2 + r^2)*m^8*q^16*r^30 - 57765227520*sqrt(q^2 + r^2)*m^6*q^18*r^30 - 17268975360*sqrt(q^2 + r^2)*m^4*q^20*r^30 - 1527640128*sqrt(q^2 + r^2)*m^2*q^22*r^30 - 17383860*sqrt(q^2 + r^2)*q^24*r^30 - 10027008*sqrt(q^2 + r^2)*m^16*q^6*r^32 - 752025600*sqrt(q^2 + r^2)*m^14*q^8*r^32 - 9580806144*sqrt(q^2 + r^2)*m^12*q^10*r^32 - 41402769408*sqrt(q^2 + r^2)*m^10*q^12*r^32 - 72085178880*sqrt(q^2 + r^2)*m^8*q^14*r^32 - 51988704768*sqrt(q^2 + r^2)*m^6*q^16*r^32 - 14390812800*sqrt(q^2 + r^2)*m^4*q^18*r^32 - 1200288672*sqrt(q^2 + r^2)*m^2*q^20*r^32 - 13037895*sqrt(q^2 + r^2)*q^22*r^32 - 30081024*sqrt(q^2 + r^2)*m^16*q^4*r^34 - 1002700800*sqrt(q^2 + r^2)*m^14*q^6*r^34 - 9580806144*sqrt(q^2 + r^2)*m^12*q^8*r^34 - 35488088064*sqrt(q^2 + r^2)*m^10*q^10*r^34 - 56066250240*sqrt(q^2 + r^2)*m^8*q^12*r^34 - 37809967104*sqrt(q^2 + r^2)*m^6*q^14*r^34 - 9962870400*sqrt(q^2 + r^2)*m^4*q^16*r^34 - 800192448*sqrt(q^2 + r^2)*m^2*q^18*r^34 - 8436285*sqrt(q^2 + r^2)*q^20*r^34 - 262144*sqrt(q^2 + r^2)*m^18*r^36 - 30081024*sqrt(q^2 + r^2)*m^16*q^2*r^36 - 752025600*sqrt(q^2 + r^2)*m^14*q^4*r^36 - 6387204096*sqrt(q^2 + r^2)*m^12*q^6*r^36 - 22180055040*sqrt(q^2 + r^2)*m^10*q^8*r^36 - 33639750144*sqrt(q^2 + r^2)*m^8*q^10*r^36 - 22055814144*sqrt(q^2 + r^2)*m^6*q^12*r^36 - 5693068800*sqrt(q^2 + r^2)*m^4*q^14*r^36 - 450108252*sqrt(q^2 + r^2)*m^2*q^16*r^36 - 4686825*sqrt(q^2 + r^2)*q^18*r^36 - 10027008*sqrt(q^2 + r^2)*m^16*r^38 - 300810240*sqrt(q^2 + r^2)*m^14*q^2*r^38 - 2737373184*sqrt(q^2 + r^2)*m^12*q^4*r^38 - 9857802240*sqrt(q^2 + r^2)*m^10*q^6*r^38 - 15290795520*sqrt(q^2 + r^2)*m^8*q^8*r^38 - 10179606528*sqrt(q^2 + r^2)*m^6*q^10*r^38 - 2656765440*sqrt(q^2 + r^2)*m^4*q^12*r^38 - 211815648*sqrt(q^2 + r^2)*m^2*q^14*r^38 - 2220075*sqrt(q^2 + r^2)*q^16*r^38 - 50135040*sqrt(q^2 + r^2)*m^14*r^40 - 684343296*sqrt(q^2 + r^2)*m^12*q^2*r^40 - 2957340672*sqrt(q^2 + r^2)*m^10*q^4*r^40 - 5096931840*sqrt(q^2 + r^2)*m^8*q^6*r^40 - 3635573760*sqrt(q^2 + r^2)*m^6*q^8*r^40 - 996287040*sqrt(q^2 + r^2)*m^4*q^10*r^40 - 82372752*sqrt(q^2 + r^2)*m^2*q^12*r^40 - 888030*sqrt(q^2 + r^2)*q^14*r^40 - 76038144*sqrt(q^2 + r^2)*m^12*r^42 - 537698304*sqrt(q^2 + r^2)*m^10*q^2*r^42 - 1176215040*sqrt(q^2 + r^2)*m^8*q^4*r^42 - 969486336*sqrt(q^2 + r^2)*m^6*q^6*r^42 - 293025600*sqrt(q^2 + r^2)*m^4*q^8*r^42 - 26012448*sqrt(q^2 + r^2)*m^2*q^10*r^42 - 296010*sqrt(q^2 + r^2)*q^12*r^42 - 44808192*sqrt(q^2 + r^2)*m^10*r^44 - 168030720*sqrt(q^2 + r^2)*m^8*q^2*r^44 - 181778688*sqrt(q^2 + r^2)*m^6*q^4*r^44 - 65116800*sqrt(q^2 + r^2)*m^4*q^6*r^44 - 6503112*sqrt(q^2 + r^2)*m^2*q^8*r^44 - 80730*sqrt(q^2 + r^2)*q^10*r^44 - 11202048*sqrt(q^2 + r^2)*m^8*r^46 - 21385728*sqrt(q^2 + r^2)*m^6*q^2*r^46 - 10281600*sqrt(q^2 + r^2)*m^4*q^4*r^46 - 1238688*sqrt(q^2 + r^2)*m^2*q^6*r^46 - 17550*sqrt(q^2 + r^2)*q^8*r^46 - 1188096*sqrt(q^2 + r^2)*m^6*r^48 - 1028160*sqrt(q^2 + r^2)*m^4*q^2*r^48 - 168912*sqrt(q^2 + r^2)*m^2*q^4*r^48 - 2925*sqrt(q^2 + r^2)*q^6*r^48 - 48960*sqrt(q^2 + r^2)*m^4*r^50 - 14688*sqrt(q^2 + r^2)*m^2*q^2*r^50 - 351*sqrt(q^2 + r^2)*q^4*r^50 - 612*sqrt(q^2 + r^2)*m^2*r^52 - 27*sqrt(q^2 + r^2)*q^2*r^52 - sqrt(q^2 + r^2)*r^54)*m*(2*q + r)*(2*q - r)*q^2/((q^54 + 27*q^52*r^2 + 612*m^2*q^48*r^4 + 351*q^50*r^4 + 14688*m^2*q^46*r^6 + 2925*q^48*r^6 + 48960*m^4*q^42*r^8 + 168912*m^2*q^44*r^8 + 17550*q^46*r^8 + 1028160*m^4*q^40*r^10 + 1238688*m^2*q^42*r^10 + 80730*q^44*r^10 + 1188096*m^6*q^36*r^12 + 10281600*m^4*q^38*r^12 + 6503112*m^2*q^40*r^12 + 296010*q^42*r^12 + 21385728*m^6*q^34*r^14 + 65116800*m^4*q^36*r^14 + 26012448*m^2*q^38*r^14 + 888030*q^40*r^14 + 11202048*m^8*q^30*r^16 + 181778688*m^6*q^32*r^16 + 293025600*m^4*q^34*r^16 + 82372752*m^2*q^36*r^16 + 2220075*q^38*r^16 + 168030720*m^8*q^28*r^18 + 969486336*m^6*q^30*r^18 + 996287040*m^4*q^32*r^18 + 211815648*m^2*q^34*r^18 + 4686825*q^36*r^18 + 44808192*m^10*q^24*r^20 + 1176215040*m^8*q^26*r^20 + 3635573760*m^6*q^28*r^20 + 2656765440*m^4*q^30*r^20 + 450108252*m^2*q^32*r^20 + 8436285*q^34*r^20 + 537698304*m^10*q^22*r^22 + 5096931840*m^8*q^24*r^22 + 10179606528*m^6*q^26*r^22 + 5693068800*m^4*q^28*r^22 + 800192448*m^2*q^30*r^22 + 13037895*q^32*r^22 + 76038144*m^12*q^18*r^24 + 2957340672*m^10*q^20*r^24 + 15290795520*m^8*q^22*r^24 + 22055814144*m^6*q^24*r^24 + 9962870400*m^4*q^26*r^24 + 1200288672*m^2*q^28*r^24 + 17383860*q^30*r^24 + 684343296*m^12*q^16*r^26 + 9857802240*m^10*q^18*r^26 + 33639750144*m^8*q^20*r^26 + 37809967104*m^6*q^22*r^26 + 14390812800*m^4*q^24*r^26 + 1527640128*m^2*q^26*r^26 + 20058300*q^28*r^26 + 50135040*m^14*q^12*r^28 + 2737373184*m^12*q^14*r^28 + 22180055040*m^10*q^16*r^28 + 56066250240*m^8*q^18*r^28 + 51988704768*m^6*q^20*r^28 + 17268975360*m^4*q^22*r^28 + 1654943472*m^2*q^24*r^28 + 20058300*q^26*r^28 + 300810240*m^14*q^10*r^30 + 6387204096*m^12*q^12*r^30 + 35488088064*m^10*q^14*r^30 + 72085178880*m^8*q^16*r^30 + 57765227520*m^6*q^18*r^30 + 17268975360*m^4*q^20*r^30 + 1527640128*m^2*q^22*r^30 + 17383860*q^24*r^30 + 10027008*m^16*q^6*r^32 + 752025600*m^14*q^8*r^32 + 9580806144*m^12*q^10*r^32 + 41402769408*m^10*q^12*r^32 + 72085178880*m^8*q^14*r^32 + 51988704768*m^6*q^16*r^32 + 14390812800*m^4*q^18*r^32 + 1200288672*m^2*q^20*r^32 + 13037895*q^22*r^32 + 30081024*m^16*q^4*r^34 + 1002700800*m^14*q^6*r^34 + 9580806144*m^12*q^8*r^34 + 35488088064*m^10*q^10*r^34 + 56066250240*m^8*q^12*r^34 + 37809967104*m^6*q^14*r^34 + 9962870400*m^4*q^16*r^34 + 800192448*m^2*q^18*r^34 + 8436285*q^20*r^34 + 262144*m^18*r^36 + 30081024*m^16*q^2*r^36 + 752025600*m^14*q^4*r^36 + 6387204096*m^12*q^6*r^36 + 22180055040*m^10*q^8*r^36 + 33639750144*m^8*q^10*r^36 + 22055814144*m^6*q^12*r^36 + 5693068800*m^4*q^14*r^36 + 450108252*m^2*q^16*r^36 + 4686825*q^18*r^36 + 10027008*m^16*r^38 + 300810240*m^14*q^2*r^38 + 2737373184*m^12*q^4*r^38 + 9857802240*m^10*q^6*r^38 + 15290795520*m^8*q^8*r^38 + 10179606528*m^6*q^10*r^38 + 2656765440*m^4*q^12*r^38 + 211815648*m^2*q^14*r^38 + 2220075*q^16*r^38 + 50135040*m^14*r^40 + 684343296*m^12*q^2*r^40 + 2957340672*m^10*q^4*r^40 + 5096931840*m^8*q^6*r^40 + 3635573760*m^6*q^8*r^40 + 996287040*m^4*q^10*r^40 + 82372752*m^2*q^12*r^40 + 888030*q^14*r^40 + 76038144*m^12*r^42 + 537698304*m^10*q^2*r^42 + 1176215040*m^8*q^4*r^42 + 969486336*m^6*q^6*r^42 + 293025600*m^4*q^8*r^42 + 26012448*m^2*q^10*r^42 + 296010*q^12*r^42 + 44808192*m^10*r^44 + 168030720*m^8*q^2*r^44 + 181778688*m^6*q^4*r^44 + 65116800*m^4*q^6*r^44 + 6503112*m^2*q^8*r^44 + 80730*q^10*r^44 + 11202048*m^8*r^46 + 21385728*m^6*q^2*r^46 + 10281600*m^4*q^4*r^46 + 1238688*m^2*q^6*r^46 + 17550*q^8*r^46 + 1188096*m^6*r^48 + 1028160*m^4*q^2*r^48 + 168912*m^2*q^4*r^48 + 2925*q^6*r^48 + 48960*m^4*r^50 + 14688*m^2*q^2*r^50 + 351*q^4*r^50 + 612*m^2*r^52 + 27*q^2*r^52 + r^54 - 36*sqrt(q^2 + r^2)*m*q^50*r^2 - 900*sqrt(q^2 + r^2)*m*q^48*r^4 - 6528*sqrt(q^2 + r^2)*m^3*q^44*r^6 - 10800*sqrt(q^2 + r^2)*m*q^46*r^6 - 143616*sqrt(q^2 + r^2)*m^3*q^42*r^8 - 82800*sqrt(q^2 + r^2)*m*q^44*r^8 - 274176*sqrt(q^2 + r^2)*m^5*q^38*r^10 - 1507968*sqrt(q^2 + r^2)*m^3*q^40*r^10 - 455400*sqrt(q^2 + r^2)*m*q^42*r^10 - 5209344*sqrt(q^2 + r^2)*m^5*q^36*r^12 - 10053120*sqrt(q^2 + r^2)*m^3*q^38*r^12 - 1912680*sqrt(q^2 + r^2)*m*q^40*r^12 - 4073472*sqrt(q^2 + r^2)*m^7*q^32*r^14 - 46884096*sqrt(q^2 + r^2)*m^5*q^34*r^14 - 47752320*sqrt(q^2 + r^2)*m^3*q^36*r^14 - 6375600*sqrt(q^2 + r^2)*m*q^38*r^14 - 65175552*sqrt(q^2 + r^2)*m^7*q^30*r^16 - 265676544*sqrt(q^2 + r^2)*m^5*q^32*r^16 - 171908352*sqrt(q^2 + r^2)*m^3*q^34*r^16 - 17305200*sqrt(q^2 + r^2)*m*q^36*r^16 - 24893440*sqrt(q^2 + r^2)*m^9*q^26*r^18 - 488816640*sqrt(q^2 + r^2)*m^7*q^28*r^18 - 1062706176*sqrt(q^2 + r^2)*m^5*q^30*r^18 - 487073664*sqrt(q^2 + r^2)*m^3*q^32*r^18 - 38936700*sqrt(q^2 + r^2)*m*q^34*r^18 - 323614720*sqrt(q^2 + r^2)*m^9*q^24*r^20 - 2281144320*sqrt(q^2 + r^2)*m^7*q^26*r^20 - 3188118528*sqrt(q^2 + r^2)*m^5*q^28*r^20 - 1113311232*sqrt(q^2 + r^2)*m^3*q^30*r^20 - 73547100*sqrt(q^2 + r^2)*m*q^32*r^20 - 65175552*sqrt(q^2 + r^2)*m^11*q^20*r^22 - 1941688320*sqrt(q^2 + r^2)*m^9*q^22*r^22 - 7413719040*sqrt(q^2 + r^2)*m^7*q^24*r^22 - 7438943232*sqrt(q^2 + r^2)*m^5*q^26*r^22 - 2087458560*sqrt(q^2 + r^2)*m^3*q^28*r^22 - 117675360*sqrt(q^2 + r^2)*m*q^30*r^22 - 651755520*sqrt(q^2 + r^2)*m^11*q^18*r^24 - 7119523840*sqrt(q^2 + r^2)*m^9*q^20*r^24 - 17792925696*sqrt(q^2 + r^2)*m^7*q^22*r^24 - 13815180288*sqrt(q^2 + r^2)*m^5*q^24*r^24 - 3247157760*sqrt(q^2 + r^2)*m^3*q^26*r^24 - 160466400*sqrt(q^2 + r^2)*m*q^28*r^24 - 70189056*sqrt(q^2 + r^2)*m^13*q^14*r^26 - 2932899840*sqrt(q^2 + r^2)*m^11*q^16*r^26 - 17798809600*sqrt(q^2 + r^2)*m^9*q^18*r^26 - 32620363776*sqrt(q^2 + r^2)*m^7*q^20*r^26 - 20722770432*sqrt(q^2 + r^2)*m^5*q^22*r^26 - 4221305088*sqrt(q^2 + r^2)*m^3*q^24*r^26 - 187210800*sqrt(q^2 + r^2)*m*q^26*r^26 - 491323392*sqrt(q^2 + r^2)*m^13*q^12*r^28 - 7821066240*sqrt(q^2 + r^2)*m^11*q^14*r^28 - 32037857280*sqrt(q^2 + r^2)*m^9*q^16*r^28 - 46600519680*sqrt(q^2 + r^2)*m^7*q^18*r^28 - 25327830528*sqrt(q^2 + r^2)*m^5*q^20*r^28 - 4605060096*sqrt(q^2 + r^2)*m^3*q^22*r^28 - 187210800*sqrt(q^2 + r^2)*m*q^24*r^28 - 26738688*sqrt(q^2 + r^2)*m^15*q^8*r^30 - 1473970176*sqrt(q^2 + r^2)*m^13*q^10*r^30 - 13686865920*sqrt(q^2 + r^2)*m^11*q^12*r^30 - 42717143040*sqrt(q^2 + r^2)*m^9*q^14*r^30 - 52425584640*sqrt(q^2 + r^2)*m^7*q^16*r^30 - 25327830528*sqrt(q^2 + r^2)*m^5*q^18*r^30 - 4221305088*sqrt(q^2 + r^2)*m^3*q^20*r^30 - 160466400*sqrt(q^2 + r^2)*m*q^22*r^30 - 106954752*sqrt(q^2 + r^2)*m^15*q^6*r^32 - 2456616960*sqrt(q^2 + r^2)*m^13*q^8*r^32 - 16424239104*sqrt(q^2 + r^2)*m^11*q^10*r^32 - 42717143040*sqrt(q^2 + r^2)*m^9*q^12*r^32 - 46600519680*sqrt(q^2 + r^2)*m^7*q^14*r^32 - 20722770432*sqrt(q^2 + r^2)*m^5*q^16*r^32 - 3247157760*sqrt(q^2 + r^2)*m^3*q^18*r^32 - 117675360*sqrt(q^2 + r^2)*m*q^20*r^32 - 2359296*sqrt(q^2 + r^2)*m^17*q^2*r^34 - 160432128*sqrt(q^2 + r^2)*m^15*q^4*r^34 - 2456616960*sqrt(q^2 + r^2)*m^13*q^6*r^34 - 13686865920*sqrt(q^2 + r^2)*m^11*q^8*r^34 - 32037857280*sqrt(q^2 + r^2)*m^9*q^10*r^34 - 32620363776*sqrt(q^2 + r^2)*m^7*q^12*r^34 - 13815180288*sqrt(q^2 + r^2)*m^5*q^14*r^34 - 2087458560*sqrt(q^2 + r^2)*m^3*q^16*r^34 - 73547100*sqrt(q^2 + r^2)*m*q^18*r^34 - 2359296*sqrt(q^2 + r^2)*m^17*r^36 - 106954752*sqrt(q^2 + r^2)*m^15*q^2*r^36 - 1473970176*sqrt(q^2 + r^2)*m^13*q^4*r^36 - 7821066240*sqrt(q^2 + r^2)*m^11*q^6*r^36 - 17798809600*sqrt(q^2 + r^2)*m^9*q^8*r^36 - 17792925696*sqrt(q^2 + r^2)*m^7*q^10*r^36 - 7438943232*sqrt(q^2 + r^2)*m^5*q^12*r^36 - 1113311232*sqrt(q^2 + r^2)*m^3*q^14*r^36 - 38936700*sqrt(q^2 + r^2)*m*q^16*r^36 - 26738688*sqrt(q^2 + r^2)*m^15*r^38 - 491323392*sqrt(q^2 + r^2)*m^13*q^2*r^38 - 2932899840*sqrt(q^2 + r^2)*m^11*q^4*r^38 - 7119523840*sqrt(q^2 + r^2)*m^9*q^6*r^38 - 7413719040*sqrt(q^2 + r^2)*m^7*q^8*r^38 - 3188118528*sqrt(q^2 + r^2)*m^5*q^10*r^38 - 487073664*sqrt(q^2 + r^2)*m^3*q^12*r^38 - 17305200*sqrt(q^2 + r^2)*m*q^14*r^38 - 70189056*sqrt(q^2 + r^2)*m^13*r^40 - 651755520*sqrt(q^2 + r^2)*m^11*q^2*r^40 - 1941688320*sqrt(q^2 + r^2)*m^9*q^4*r^40 - 2281144320*sqrt(q^2 + r^2)*m^7*q^6*r^40 - 1062706176*sqrt(q^2 + r^2)*m^5*q^8*r^40 - 171908352*sqrt(q^2 + r^2)*m^3*q^10*r^40 - 6375600*sqrt(q^2 + r^2)*m*q^12*r^40 - 65175552*sqrt(q^2 + r^2)*m^11*r^42 - 323614720*sqrt(q^2 + r^2)*m^9*q^2*r^42 - 488816640*sqrt(q^2 + r^2)*m^7*q^4*r^42 - 265676544*sqrt(q^2 + r^2)*m^5*q^6*r^42 - 47752320*sqrt(q^2 + r^2)*m^3*q^8*r^42 - 1912680*sqrt(q^2 + r^2)*m*q^10*r^42 - 24893440*sqrt(q^2 + r^2)*m^9*r^44 - 65175552*sqrt(q^2 + r^2)*m^7*q^2*r^44 - 46884096*sqrt(q^2 + r^2)*m^5*q^4*r^44 - 10053120*sqrt(q^2 + r^2)*m^3*q^6*r^44 - 455400*sqrt(q^2 + r^2)*m*q^8*r^44 - 4073472*sqrt(q^2 + r^2)*m^7*r^46 - 5209344*sqrt(q^2 + r^2)*m^5*q^2*r^46 - 1507968*sqrt(q^2 + r^2)*m^3*q^4*r^46 - 82800*sqrt(q^2 + r^2)*m*q^6*r^46 - 274176*sqrt(q^2 + r^2)*m^5*r^48 - 143616*sqrt(q^2 + r^2)*m^3*q^2*r^48 - 10800*sqrt(q^2 + r^2)*m*q^4*r^48 - 6528*sqrt(q^2 + r^2)*m^3*r^50 - 900*sqrt(q^2 + r^2)*m*q^2*r^50 - 36*sqrt(q^2 + r^2)*m*r^52)*(q^2 + r^2)^4)"
      ]
     },
     "execution_count": 72,
     "metadata": {},
     "output_type": "execute_result"
    }
   ],
   "source": [
    "ricci3 = h.ricci_scalar()\n",
    "ricci3.expr().factor()"
   ]
  }
 ],
 "metadata": {
  "kernelspec": {
   "display_name": "SageMath 9.4",
   "language": "sage",
   "name": "sagemath-9.4"
  },
  "language_info": {
   "codemirror_mode": {
    "name": "ipython",
    "version": 3
   },
   "file_extension": ".py",
   "mimetype": "text/x-python",
   "name": "python",
   "nbconvert_exporter": "python",
   "pygments_lexer": "ipython3",
   "version": "3.9.5"
  }
 },
 "nbformat": 4,
 "nbformat_minor": 5
}
